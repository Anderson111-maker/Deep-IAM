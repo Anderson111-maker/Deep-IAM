{
 "cells": [
  {
   "cell_type": "code",
   "execution_count": 1,
   "id": "bdc88999",
   "metadata": {},
   "outputs": [
    {
     "name": "stdout",
     "output_type": "stream",
     "text": [
      "WARNING:tensorflow:From C:\\Users\\l1137\\.conda\\envs\\Pytorch12.2\\Lib\\site-packages\\keras\\src\\losses.py:2976: The name tf.losses.sparse_softmax_cross_entropy is deprecated. Please use tf.compat.v1.losses.sparse_softmax_cross_entropy instead.\n",
      "\n",
      "WARNING:tensorflow:From C:\\Users\\l1137\\.conda\\envs\\Pytorch12.2\\Lib\\site-packages\\tensorflow_probability\\python\\internal\\backend\\numpy\\_utils.py:48: The name tf.logging.TaskLevelStatusMessage is deprecated. Please use tf.compat.v1.logging.TaskLevelStatusMessage instead.\n",
      "\n",
      "WARNING:tensorflow:From C:\\Users\\l1137\\.conda\\envs\\Pytorch12.2\\Lib\\site-packages\\tensorflow_probability\\python\\internal\\backend\\numpy\\_utils.py:48: The name tf.control_flow_v2_enabled is deprecated. Please use tf.compat.v1.control_flow_v2_enabled instead.\n",
      "\n"
     ]
    }
   ],
   "source": [
    "import pandas as pd\n",
    "import numpy as np\n",
    "import matplotlib.pyplot as plt\n",
    "import tsgm\n",
    "import tensorflow as tf\n",
    "from tensorflow import keras\n",
    "from tensorflow.keras import layers"
   ]
  },
  {
   "cell_type": "code",
   "execution_count": 2,
   "id": "208ebae7",
   "metadata": {},
   "outputs": [],
   "source": [
    "#Set Global Random Seed\n",
    "global_seed = 8\n",
    "tf.random.set_seed(global_seed)\n",
    "np.random.seed(global_seed)"
   ]
  },
  {
   "cell_type": "code",
   "execution_count": 3,
   "id": "c89570a5",
   "metadata": {},
   "outputs": [],
   "source": [
    "#Save Kyoto_Gases data (2020-2100), consider the case of C1-C8 for simplicity.\n",
    "Kyoto_Gases = pd.read_csv('Kyoto Gases.csv')\n",
    "Kyoto_Gases = Kyoto_Gases[Kyoto_Gases['Category'].isin(['C1','C2','C3','C4','C5','C6','C7','C8'])]\n",
    "mapping = {'C1':0,'C2':0,'C3':0,'C4':1,'C5':1,'C6':1,'C7':2,'C8':2}\n",
    "Kyoto_Gases['Category'].replace(mapping,inplace=True)\n",
    "Kyoto_Gases.reset_index(drop=True,inplace=True)"
   ]
  },
  {
   "cell_type": "code",
   "execution_count": 4,
   "id": "02163ce9",
   "metadata": {},
   "outputs": [],
   "source": [
    "Kyoto_Gases.drop(columns=['Category_name'],inplace = True)"
   ]
  },
  {
   "cell_type": "code",
   "execution_count": 5,
   "id": "ae58b977",
   "metadata": {},
   "outputs": [],
   "source": [
    "#Load a dataset of individual variables\n",
    "CarbonSequestration = pd.read_csv('Carbon_Sequestration_CCS_imputed.csv')\n",
    "FinalEnergy_Liquid = pd.read_csv('Final Energy_Liquids.csv')\n",
    "PrimaryEnergy_Gas = pd.read_csv('Primary Energy_Gas.csv')\n",
    "PrimaryEnergy_Oil = pd.read_csv('Primary Energy_Oil.csv')\n",
    "PrimaryEnergy_Coal = pd.read_csv('PrimaryEnergy_Coal.csv')"
   ]
  },
  {
   "cell_type": "code",
   "execution_count": 6,
   "id": "1838a46a",
   "metadata": {},
   "outputs": [],
   "source": [
    "#Get the intersection of the models and scenarios contained in each variable\n",
    "Model_Scenario = Kyoto_Gases[['Model','Scenario']]\n",
    "Variables = [CarbonSequestration,FinalEnergy_Liquid,PrimaryEnergy_Coal,PrimaryEnergy_Gas,PrimaryEnergy_Oil]\n",
    "for variable in Variables:\n",
    "    Model_Scenario = pd.merge(Model_Scenario,variable[['Model','Scenario']],on=['Model','Scenario'],how='inner')"
   ]
  },
  {
   "cell_type": "code",
   "execution_count": 7,
   "id": "934bb8a5",
   "metadata": {},
   "outputs": [],
   "source": [
    "for i in range(len(Variables)):\n",
    "    Variables[i] = pd.merge(Model_Scenario,Variables[i],on=['Model','Scenario'],how='inner')\n",
    "for i in range(len(Variables)):\n",
    "    Variables[i].drop(columns=['Category_name'],inplace = True)"
   ]
  },
  {
   "cell_type": "code",
   "execution_count": 8,
   "id": "cf91cdc3",
   "metadata": {},
   "outputs": [],
   "source": [
    "Kyoto_Gases = pd.merge(Kyoto_Gases,Model_Scenario,on = ['Model','Scenario'],how = 'inner')"
   ]
  },
  {
   "cell_type": "code",
   "execution_count": 9,
   "id": "f13593e2",
   "metadata": {},
   "outputs": [],
   "source": [
    "#Variables [CarbonSequestration,FinalEnergy_Liquid,PrimaryEnergy_Coal,PrimaryEnergy_Gas,PrimaryEnergy_Oil,Kyoto_Gases]\n",
    "Variables.append(Kyoto_Gases)"
   ]
  },
  {
   "cell_type": "code",
   "execution_count": 10,
   "id": "46b22d45",
   "metadata": {},
   "outputs": [],
   "source": [
    "#Generate feature matrices, the values of each variable during 2020-2100. 9 time steps, 6 features\n",
    "#1160 is the amount of data\n",
    "X = np.zeros((1160,9,6))\n",
    "for i in range(len(Variables)):\n",
    "    Variables[i] = Variables[i].iloc[:,3:-1].values\n",
    "for i in range(1160):\n",
    "    for j in range(9):\n",
    "        for k in range(6):\n",
    "            X[i][j][k] = (Variables[k])[i,j]"
   ]
  },
  {
   "cell_type": "code",
   "execution_count": 11,
   "id": "3a3c7b88",
   "metadata": {},
   "outputs": [],
   "source": [
    "Y = Kyoto_Gases['Category'].values"
   ]
  },
  {
   "cell_type": "code",
   "execution_count": 12,
   "id": "e08f5e54",
   "metadata": {},
   "outputs": [],
   "source": [
    "#Separate datasets by category.\n",
    "C123_DataSet = X[Y == 0]\n",
    "C456_DataSet = X[Y == 1]\n",
    "C78_DataSet = X[Y == 2]"
   ]
  },
  {
   "cell_type": "code",
   "execution_count": 13,
   "id": "36a078e4",
   "metadata": {},
   "outputs": [
    {
     "name": "stdout",
     "output_type": "stream",
     "text": [
      "WARNING:tensorflow:From C:\\Users\\l1137\\.conda\\envs\\Pytorch12.2\\Lib\\site-packages\\keras\\src\\backend.py:1398: The name tf.executing_eagerly_outside_functions is deprecated. Please use tf.compat.v1.executing_eagerly_outside_functions instead.\n",
      "\n"
     ]
    },
    {
     "name": "stderr",
     "output_type": "stream",
     "text": [
      "WARNING:tensorflow:From C:\\Users\\l1137\\.conda\\envs\\Pytorch12.2\\Lib\\site-packages\\keras\\src\\backend.py:1398: The name tf.executing_eagerly_outside_functions is deprecated. Please use tf.compat.v1.executing_eagerly_outside_functions instead.\n",
      "\n"
     ]
    }
   ],
   "source": [
    "architecture1 = tsgm.models.zoo[\"vae_conv5\"](9, 6, 8)#Latent Dim = 8\n",
    "encoder1, decoder1 = architecture1.encoder, architecture1.decoder"
   ]
  },
  {
   "cell_type": "code",
   "execution_count": 14,
   "id": "56ac9f2b",
   "metadata": {},
   "outputs": [],
   "source": [
    "scaler_C123 = tsgm.utils.TSFeatureWiseScaler((0,1))        \n",
    "scaled_C123_data = scaler_C123.fit_transform(C123_DataSet)"
   ]
  },
  {
   "cell_type": "code",
   "execution_count": 15,
   "id": "82aade3b",
   "metadata": {},
   "outputs": [],
   "source": [
    "architecture2 = tsgm.models.zoo[\"vae_conv5\"](9, 6, 8)\n",
    "encoder2, decoder2 = architecture2.encoder, architecture2.decoder\n",
    "scaler_C456 = tsgm.utils.TSFeatureWiseScaler((0,1))    \n",
    "scaled_C456_data = scaler_C456.fit_transform(C456_DataSet)"
   ]
  },
  {
   "cell_type": "code",
   "execution_count": 16,
   "id": "b3398f49",
   "metadata": {},
   "outputs": [],
   "source": [
    "architecture3 = tsgm.models.zoo[\"vae_conv5\"](9, 6, 8)\n",
    "encoder3, decoder3 = architecture3.encoder, architecture3.decoder\n",
    "scaler_C78 = tsgm.utils.TSFeatureWiseScaler((0,1))    \n",
    "scaled_C78_data = scaler_C78.fit_transform(C78_DataSet)"
   ]
  },
  {
   "cell_type": "code",
   "execution_count": 17,
   "id": "cf8192c8",
   "metadata": {},
   "outputs": [],
   "source": [
    "#Load model parameters\n",
    "encoder1.load_weights('encoder1_weights.h5')\n",
    "encoder2.load_weights('encoder2_weights.h5')\n",
    "encoder3.load_weights('encoder3_weights.h5')\n",
    "decoder1.load_weights('decoder1_weights.h5')\n",
    "decoder2.load_weights('decoder2_weights.h5')\n",
    "decoder3.load_weights('decoder3_weights.h5')"
   ]
  },
  {
   "cell_type": "code",
   "execution_count": 18,
   "id": "2aebff0b",
   "metadata": {},
   "outputs": [],
   "source": [
    "#Generate data using generative models (500 for each class)\n",
    "z1 = tf.random.normal((500, 8))\n",
    "z2 = tf.random.normal((500, 8))\n",
    "z3 = tf.random.normal((500, 8))\n",
    "Gen_C123 = decoder1(z1)\n",
    "Gen_C456 = decoder2(z2)\n",
    "Gen_C78 = decoder3(z3)\n",
    "Gen_C123 = scaler_C123.inverse_transform(Gen_C123)\n",
    "Gen_C456 = scaler_C456.inverse_transform(Gen_C456)\n",
    "Gen_C78 = scaler_C78.inverse_transform(Gen_C78)"
   ]
  },
  {
   "cell_type": "code",
   "execution_count": 19,
   "id": "a9cf750f",
   "metadata": {},
   "outputs": [
    {
     "data": {
      "text/plain": [
       "array([0, 0, 0, ..., 2, 2, 2])"
      ]
     },
     "execution_count": 19,
     "metadata": {},
     "output_type": "execute_result"
    }
   ],
   "source": [
    "Gen_Data = np.concatenate((Gen_C123,Gen_C456,Gen_C78),axis=0)\n",
    "Gen_Labels = np.zeros(1500)\n",
    "Gen_Labels[500:1000] = 1\n",
    "Gen_Labels[1000:] = 2\n",
    "Gen_Labels.astype(np.int32)"
   ]
  },
  {
   "cell_type": "code",
   "execution_count": 20,
   "id": "63f04db1",
   "metadata": {},
   "outputs": [],
   "source": [
    "from sklearn.ensemble import RandomForestClassifier\n",
    "from sklearn.model_selection import train_test_split,GridSearchCV\n",
    "from sklearn.metrics import accuracy_score\n",
    "from sklearn.metrics import classification_report"
   ]
  },
  {
   "cell_type": "code",
   "execution_count": 21,
   "id": "2f214019",
   "metadata": {},
   "outputs": [],
   "source": [
    "#Compute the cumulative value of the five input variables as a feature of the real dataset\n",
    "features_names = ['CarbonSequestration','FinalEnergy_Liquid','PrimaryEnergy_Coal','PrimaryEnergy_Gas','PrimaryEnergy_Oil']\n",
    "Real_Data_Sum = np.zeros((1160,5))\n",
    "for i in range(1160):#1160 :amount of data\n",
    "    for j in range(5):#5 feature dimension\n",
    "        for k in range(8):#time step\n",
    "            Real_Data_Sum[i][j] += (X[i,k,j] + X[i,k+1,j]) * 5"
   ]
  },
  {
   "cell_type": "code",
   "execution_count": 22,
   "id": "38d3bcce",
   "metadata": {},
   "outputs": [],
   "source": [
    "Real_DataSet = pd.DataFrame(Real_Data_Sum,columns=features_names)"
   ]
  },
  {
   "cell_type": "code",
   "execution_count": 23,
   "id": "f70ceab5",
   "metadata": {},
   "outputs": [],
   "source": [
    "#Construct the feature matrix of the feature cumulative values of the generated dataset\n",
    "Gen_Data_Sum = np.zeros((1500,5))\n",
    "for i in range(1500):#1500 :amount of data\n",
    "    for j in range(5):#5 ：feature dimension\n",
    "        for k in range(8):#time step\n",
    "            Gen_Data_Sum[i][j] += (Gen_Data[i,k,j] + Gen_Data[i,k+1,j]) * 5"
   ]
  },
  {
   "cell_type": "code",
   "execution_count": 24,
   "id": "fb75b81d",
   "metadata": {},
   "outputs": [],
   "source": [
    "Gen_DataSet = pd.DataFrame(Gen_Data_Sum,columns=features_names)"
   ]
  },
  {
   "cell_type": "code",
   "execution_count": 25,
   "id": "44452d81",
   "metadata": {},
   "outputs": [],
   "source": [
    "#First train the model with real datasets to predict the generated data.Cross-validation using grid search\n",
    "R_G = RandomForestClassifier(random_state=42)\n",
    "parameters_1 = {\n",
    "    'n_estimators':[10,100,200,500,1000],\n",
    "    'max_depth':[6,8,10,12,14,16],\n",
    "    'min_samples_split':[3,4,5,6]\n",
    "}"
   ]
  },
  {
   "cell_type": "code",
   "execution_count": 26,
   "id": "1d7a14b5",
   "metadata": {},
   "outputs": [],
   "source": [
    "clf_RG = GridSearchCV(R_G,parameters_1,cv=3,n_jobs=-1,verbose=2)"
   ]
  },
  {
   "cell_type": "code",
   "execution_count": 27,
   "id": "b2d97f5f",
   "metadata": {},
   "outputs": [
    {
     "name": "stdout",
     "output_type": "stream",
     "text": [
      "Fitting 3 folds for each of 120 candidates, totalling 360 fits\n"
     ]
    },
    {
     "data": {
      "text/html": [
       "<style>#sk-container-id-1 {color: black;background-color: white;}#sk-container-id-1 pre{padding: 0;}#sk-container-id-1 div.sk-toggleable {background-color: white;}#sk-container-id-1 label.sk-toggleable__label {cursor: pointer;display: block;width: 100%;margin-bottom: 0;padding: 0.3em;box-sizing: border-box;text-align: center;}#sk-container-id-1 label.sk-toggleable__label-arrow:before {content: \"▸\";float: left;margin-right: 0.25em;color: #696969;}#sk-container-id-1 label.sk-toggleable__label-arrow:hover:before {color: black;}#sk-container-id-1 div.sk-estimator:hover label.sk-toggleable__label-arrow:before {color: black;}#sk-container-id-1 div.sk-toggleable__content {max-height: 0;max-width: 0;overflow: hidden;text-align: left;background-color: #f0f8ff;}#sk-container-id-1 div.sk-toggleable__content pre {margin: 0.2em;color: black;border-radius: 0.25em;background-color: #f0f8ff;}#sk-container-id-1 input.sk-toggleable__control:checked~div.sk-toggleable__content {max-height: 200px;max-width: 100%;overflow: auto;}#sk-container-id-1 input.sk-toggleable__control:checked~label.sk-toggleable__label-arrow:before {content: \"▾\";}#sk-container-id-1 div.sk-estimator input.sk-toggleable__control:checked~label.sk-toggleable__label {background-color: #d4ebff;}#sk-container-id-1 div.sk-label input.sk-toggleable__control:checked~label.sk-toggleable__label {background-color: #d4ebff;}#sk-container-id-1 input.sk-hidden--visually {border: 0;clip: rect(1px 1px 1px 1px);clip: rect(1px, 1px, 1px, 1px);height: 1px;margin: -1px;overflow: hidden;padding: 0;position: absolute;width: 1px;}#sk-container-id-1 div.sk-estimator {font-family: monospace;background-color: #f0f8ff;border: 1px dotted black;border-radius: 0.25em;box-sizing: border-box;margin-bottom: 0.5em;}#sk-container-id-1 div.sk-estimator:hover {background-color: #d4ebff;}#sk-container-id-1 div.sk-parallel-item::after {content: \"\";width: 100%;border-bottom: 1px solid gray;flex-grow: 1;}#sk-container-id-1 div.sk-label:hover label.sk-toggleable__label {background-color: #d4ebff;}#sk-container-id-1 div.sk-serial::before {content: \"\";position: absolute;border-left: 1px solid gray;box-sizing: border-box;top: 0;bottom: 0;left: 50%;z-index: 0;}#sk-container-id-1 div.sk-serial {display: flex;flex-direction: column;align-items: center;background-color: white;padding-right: 0.2em;padding-left: 0.2em;position: relative;}#sk-container-id-1 div.sk-item {position: relative;z-index: 1;}#sk-container-id-1 div.sk-parallel {display: flex;align-items: stretch;justify-content: center;background-color: white;position: relative;}#sk-container-id-1 div.sk-item::before, #sk-container-id-1 div.sk-parallel-item::before {content: \"\";position: absolute;border-left: 1px solid gray;box-sizing: border-box;top: 0;bottom: 0;left: 50%;z-index: -1;}#sk-container-id-1 div.sk-parallel-item {display: flex;flex-direction: column;z-index: 1;position: relative;background-color: white;}#sk-container-id-1 div.sk-parallel-item:first-child::after {align-self: flex-end;width: 50%;}#sk-container-id-1 div.sk-parallel-item:last-child::after {align-self: flex-start;width: 50%;}#sk-container-id-1 div.sk-parallel-item:only-child::after {width: 0;}#sk-container-id-1 div.sk-dashed-wrapped {border: 1px dashed gray;margin: 0 0.4em 0.5em 0.4em;box-sizing: border-box;padding-bottom: 0.4em;background-color: white;}#sk-container-id-1 div.sk-label label {font-family: monospace;font-weight: bold;display: inline-block;line-height: 1.2em;}#sk-container-id-1 div.sk-label-container {text-align: center;}#sk-container-id-1 div.sk-container {/* jupyter's `normalize.less` sets `[hidden] { display: none; }` but bootstrap.min.css set `[hidden] { display: none !important; }` so we also need the `!important` here to be able to override the default hidden behavior on the sphinx rendered scikit-learn.org. See: https://github.com/scikit-learn/scikit-learn/issues/21755 */display: inline-block !important;position: relative;}#sk-container-id-1 div.sk-text-repr-fallback {display: none;}</style><div id=\"sk-container-id-1\" class=\"sk-top-container\"><div class=\"sk-text-repr-fallback\"><pre>GridSearchCV(cv=3, estimator=RandomForestClassifier(random_state=42), n_jobs=-1,\n",
       "             param_grid={&#x27;max_depth&#x27;: [6, 8, 10, 12, 14, 16],\n",
       "                         &#x27;min_samples_split&#x27;: [3, 4, 5, 6],\n",
       "                         &#x27;n_estimators&#x27;: [10, 100, 200, 500, 1000]},\n",
       "             verbose=2)</pre><b>In a Jupyter environment, please rerun this cell to show the HTML representation or trust the notebook. <br />On GitHub, the HTML representation is unable to render, please try loading this page with nbviewer.org.</b></div><div class=\"sk-container\" hidden><div class=\"sk-item sk-dashed-wrapped\"><div class=\"sk-label-container\"><div class=\"sk-label sk-toggleable\"><input class=\"sk-toggleable__control sk-hidden--visually\" id=\"sk-estimator-id-1\" type=\"checkbox\" ><label for=\"sk-estimator-id-1\" class=\"sk-toggleable__label sk-toggleable__label-arrow\">GridSearchCV</label><div class=\"sk-toggleable__content\"><pre>GridSearchCV(cv=3, estimator=RandomForestClassifier(random_state=42), n_jobs=-1,\n",
       "             param_grid={&#x27;max_depth&#x27;: [6, 8, 10, 12, 14, 16],\n",
       "                         &#x27;min_samples_split&#x27;: [3, 4, 5, 6],\n",
       "                         &#x27;n_estimators&#x27;: [10, 100, 200, 500, 1000]},\n",
       "             verbose=2)</pre></div></div></div><div class=\"sk-parallel\"><div class=\"sk-parallel-item\"><div class=\"sk-item\"><div class=\"sk-label-container\"><div class=\"sk-label sk-toggleable\"><input class=\"sk-toggleable__control sk-hidden--visually\" id=\"sk-estimator-id-2\" type=\"checkbox\" ><label for=\"sk-estimator-id-2\" class=\"sk-toggleable__label sk-toggleable__label-arrow\">estimator: RandomForestClassifier</label><div class=\"sk-toggleable__content\"><pre>RandomForestClassifier(random_state=42)</pre></div></div></div><div class=\"sk-serial\"><div class=\"sk-item\"><div class=\"sk-estimator sk-toggleable\"><input class=\"sk-toggleable__control sk-hidden--visually\" id=\"sk-estimator-id-3\" type=\"checkbox\" ><label for=\"sk-estimator-id-3\" class=\"sk-toggleable__label sk-toggleable__label-arrow\">RandomForestClassifier</label><div class=\"sk-toggleable__content\"><pre>RandomForestClassifier(random_state=42)</pre></div></div></div></div></div></div></div></div></div></div>"
      ],
      "text/plain": [
       "GridSearchCV(cv=3, estimator=RandomForestClassifier(random_state=42), n_jobs=-1,\n",
       "             param_grid={'max_depth': [6, 8, 10, 12, 14, 16],\n",
       "                         'min_samples_split': [3, 4, 5, 6],\n",
       "                         'n_estimators': [10, 100, 200, 500, 1000]},\n",
       "             verbose=2)"
      ]
     },
     "execution_count": 27,
     "metadata": {},
     "output_type": "execute_result"
    }
   ],
   "source": [
    "clf_RG.fit(Real_DataSet,Y)"
   ]
  },
  {
   "cell_type": "code",
   "execution_count": 28,
   "id": "c093a0ec",
   "metadata": {},
   "outputs": [
    {
     "name": "stdout",
     "output_type": "stream",
     "text": [
      "Best parameters found:\n",
      "{'max_depth': 8, 'min_samples_split': 4, 'n_estimators': 10}\n"
     ]
    }
   ],
   "source": [
    "print('Best parameters found:')\n",
    "print(clf_RG.best_params_)"
   ]
  },
  {
   "cell_type": "code",
   "execution_count": 29,
   "id": "1f138ee7",
   "metadata": {},
   "outputs": [
    {
     "name": "stdout",
     "output_type": "stream",
     "text": [
      "Test results on the training dataset：\n",
      "              precision    recall  f1-score   support\n",
      "\n",
      "        C123       0.96      0.97      0.97       524\n",
      "        C456       0.96      0.95      0.96       464\n",
      "         C78       1.00      0.98      0.99       172\n",
      "\n",
      "    accuracy                           0.97      1160\n",
      "   macro avg       0.97      0.97      0.97      1160\n",
      "weighted avg       0.97      0.97      0.97      1160\n",
      "\n"
     ]
    }
   ],
   "source": [
    "y_pred = clf_RG.predict(Real_DataSet)\n",
    "print(f\"Test results on the training dataset：\")\n",
    "print(classification_report(Y,y_pred,target_names=['C123','C456','C78']))"
   ]
  },
  {
   "cell_type": "code",
   "execution_count": 30,
   "id": "f29a608c",
   "metadata": {},
   "outputs": [
    {
     "name": "stdout",
     "output_type": "stream",
     "text": [
      "Test results on the test set：\n",
      "              precision    recall  f1-score   support\n",
      "\n",
      "        C123       0.90      0.93      0.92       500\n",
      "        C456       0.83      0.90      0.86       500\n",
      "         C78       1.00      0.89      0.94       500\n",
      "\n",
      "    accuracy                           0.91      1500\n",
      "   macro avg       0.91      0.91      0.91      1500\n",
      "weighted avg       0.91      0.91      0.91      1500\n",
      "\n"
     ]
    }
   ],
   "source": [
    "y_pred = clf_RG.predict(Gen_DataSet)\n",
    "print(f\"Test results on the test set：\")\n",
    "print(classification_report(Gen_Labels,y_pred,target_names=['C123','C456','C78']))"
   ]
  },
  {
   "cell_type": "code",
   "execution_count": 31,
   "id": "f75e6ca6",
   "metadata": {},
   "outputs": [],
   "source": [
    "#Use the generated dataset to train models to predict real data\n",
    "G_R = RandomForestClassifier(random_state=42)\n",
    "parameters_2 = {\n",
    "    'n_estimators':[10,100,200,500,1000],\n",
    "    'max_depth':[6,8,10,12,14,16],\n",
    "    'min_samples_split':[3,4,5,6]\n",
    "}"
   ]
  },
  {
   "cell_type": "code",
   "execution_count": 32,
   "id": "6183a9c1",
   "metadata": {},
   "outputs": [],
   "source": [
    "clf_GR = GridSearchCV(G_R,parameters_2,cv=3,n_jobs=-1,verbose=2)"
   ]
  },
  {
   "cell_type": "code",
   "execution_count": 33,
   "id": "699efe16",
   "metadata": {},
   "outputs": [
    {
     "name": "stdout",
     "output_type": "stream",
     "text": [
      "Fitting 3 folds for each of 120 candidates, totalling 360 fits\n"
     ]
    },
    {
     "data": {
      "text/html": [
       "<style>#sk-container-id-2 {color: black;background-color: white;}#sk-container-id-2 pre{padding: 0;}#sk-container-id-2 div.sk-toggleable {background-color: white;}#sk-container-id-2 label.sk-toggleable__label {cursor: pointer;display: block;width: 100%;margin-bottom: 0;padding: 0.3em;box-sizing: border-box;text-align: center;}#sk-container-id-2 label.sk-toggleable__label-arrow:before {content: \"▸\";float: left;margin-right: 0.25em;color: #696969;}#sk-container-id-2 label.sk-toggleable__label-arrow:hover:before {color: black;}#sk-container-id-2 div.sk-estimator:hover label.sk-toggleable__label-arrow:before {color: black;}#sk-container-id-2 div.sk-toggleable__content {max-height: 0;max-width: 0;overflow: hidden;text-align: left;background-color: #f0f8ff;}#sk-container-id-2 div.sk-toggleable__content pre {margin: 0.2em;color: black;border-radius: 0.25em;background-color: #f0f8ff;}#sk-container-id-2 input.sk-toggleable__control:checked~div.sk-toggleable__content {max-height: 200px;max-width: 100%;overflow: auto;}#sk-container-id-2 input.sk-toggleable__control:checked~label.sk-toggleable__label-arrow:before {content: \"▾\";}#sk-container-id-2 div.sk-estimator input.sk-toggleable__control:checked~label.sk-toggleable__label {background-color: #d4ebff;}#sk-container-id-2 div.sk-label input.sk-toggleable__control:checked~label.sk-toggleable__label {background-color: #d4ebff;}#sk-container-id-2 input.sk-hidden--visually {border: 0;clip: rect(1px 1px 1px 1px);clip: rect(1px, 1px, 1px, 1px);height: 1px;margin: -1px;overflow: hidden;padding: 0;position: absolute;width: 1px;}#sk-container-id-2 div.sk-estimator {font-family: monospace;background-color: #f0f8ff;border: 1px dotted black;border-radius: 0.25em;box-sizing: border-box;margin-bottom: 0.5em;}#sk-container-id-2 div.sk-estimator:hover {background-color: #d4ebff;}#sk-container-id-2 div.sk-parallel-item::after {content: \"\";width: 100%;border-bottom: 1px solid gray;flex-grow: 1;}#sk-container-id-2 div.sk-label:hover label.sk-toggleable__label {background-color: #d4ebff;}#sk-container-id-2 div.sk-serial::before {content: \"\";position: absolute;border-left: 1px solid gray;box-sizing: border-box;top: 0;bottom: 0;left: 50%;z-index: 0;}#sk-container-id-2 div.sk-serial {display: flex;flex-direction: column;align-items: center;background-color: white;padding-right: 0.2em;padding-left: 0.2em;position: relative;}#sk-container-id-2 div.sk-item {position: relative;z-index: 1;}#sk-container-id-2 div.sk-parallel {display: flex;align-items: stretch;justify-content: center;background-color: white;position: relative;}#sk-container-id-2 div.sk-item::before, #sk-container-id-2 div.sk-parallel-item::before {content: \"\";position: absolute;border-left: 1px solid gray;box-sizing: border-box;top: 0;bottom: 0;left: 50%;z-index: -1;}#sk-container-id-2 div.sk-parallel-item {display: flex;flex-direction: column;z-index: 1;position: relative;background-color: white;}#sk-container-id-2 div.sk-parallel-item:first-child::after {align-self: flex-end;width: 50%;}#sk-container-id-2 div.sk-parallel-item:last-child::after {align-self: flex-start;width: 50%;}#sk-container-id-2 div.sk-parallel-item:only-child::after {width: 0;}#sk-container-id-2 div.sk-dashed-wrapped {border: 1px dashed gray;margin: 0 0.4em 0.5em 0.4em;box-sizing: border-box;padding-bottom: 0.4em;background-color: white;}#sk-container-id-2 div.sk-label label {font-family: monospace;font-weight: bold;display: inline-block;line-height: 1.2em;}#sk-container-id-2 div.sk-label-container {text-align: center;}#sk-container-id-2 div.sk-container {/* jupyter's `normalize.less` sets `[hidden] { display: none; }` but bootstrap.min.css set `[hidden] { display: none !important; }` so we also need the `!important` here to be able to override the default hidden behavior on the sphinx rendered scikit-learn.org. See: https://github.com/scikit-learn/scikit-learn/issues/21755 */display: inline-block !important;position: relative;}#sk-container-id-2 div.sk-text-repr-fallback {display: none;}</style><div id=\"sk-container-id-2\" class=\"sk-top-container\"><div class=\"sk-text-repr-fallback\"><pre>GridSearchCV(cv=3, estimator=RandomForestClassifier(random_state=42), n_jobs=-1,\n",
       "             param_grid={&#x27;max_depth&#x27;: [6, 8, 10, 12, 14, 16],\n",
       "                         &#x27;min_samples_split&#x27;: [3, 4, 5, 6],\n",
       "                         &#x27;n_estimators&#x27;: [10, 100, 200, 500, 1000]},\n",
       "             verbose=2)</pre><b>In a Jupyter environment, please rerun this cell to show the HTML representation or trust the notebook. <br />On GitHub, the HTML representation is unable to render, please try loading this page with nbviewer.org.</b></div><div class=\"sk-container\" hidden><div class=\"sk-item sk-dashed-wrapped\"><div class=\"sk-label-container\"><div class=\"sk-label sk-toggleable\"><input class=\"sk-toggleable__control sk-hidden--visually\" id=\"sk-estimator-id-4\" type=\"checkbox\" ><label for=\"sk-estimator-id-4\" class=\"sk-toggleable__label sk-toggleable__label-arrow\">GridSearchCV</label><div class=\"sk-toggleable__content\"><pre>GridSearchCV(cv=3, estimator=RandomForestClassifier(random_state=42), n_jobs=-1,\n",
       "             param_grid={&#x27;max_depth&#x27;: [6, 8, 10, 12, 14, 16],\n",
       "                         &#x27;min_samples_split&#x27;: [3, 4, 5, 6],\n",
       "                         &#x27;n_estimators&#x27;: [10, 100, 200, 500, 1000]},\n",
       "             verbose=2)</pre></div></div></div><div class=\"sk-parallel\"><div class=\"sk-parallel-item\"><div class=\"sk-item\"><div class=\"sk-label-container\"><div class=\"sk-label sk-toggleable\"><input class=\"sk-toggleable__control sk-hidden--visually\" id=\"sk-estimator-id-5\" type=\"checkbox\" ><label for=\"sk-estimator-id-5\" class=\"sk-toggleable__label sk-toggleable__label-arrow\">estimator: RandomForestClassifier</label><div class=\"sk-toggleable__content\"><pre>RandomForestClassifier(random_state=42)</pre></div></div></div><div class=\"sk-serial\"><div class=\"sk-item\"><div class=\"sk-estimator sk-toggleable\"><input class=\"sk-toggleable__control sk-hidden--visually\" id=\"sk-estimator-id-6\" type=\"checkbox\" ><label for=\"sk-estimator-id-6\" class=\"sk-toggleable__label sk-toggleable__label-arrow\">RandomForestClassifier</label><div class=\"sk-toggleable__content\"><pre>RandomForestClassifier(random_state=42)</pre></div></div></div></div></div></div></div></div></div></div>"
      ],
      "text/plain": [
       "GridSearchCV(cv=3, estimator=RandomForestClassifier(random_state=42), n_jobs=-1,\n",
       "             param_grid={'max_depth': [6, 8, 10, 12, 14, 16],\n",
       "                         'min_samples_split': [3, 4, 5, 6],\n",
       "                         'n_estimators': [10, 100, 200, 500, 1000]},\n",
       "             verbose=2)"
      ]
     },
     "execution_count": 33,
     "metadata": {},
     "output_type": "execute_result"
    }
   ],
   "source": [
    "clf_GR.fit(Gen_DataSet,Gen_Labels)"
   ]
  },
  {
   "cell_type": "code",
   "execution_count": 34,
   "id": "de9bb1b2",
   "metadata": {},
   "outputs": [
    {
     "name": "stdout",
     "output_type": "stream",
     "text": [
      "Best parameters found:\n",
      "{'max_depth': 14, 'min_samples_split': 3, 'n_estimators': 100}\n"
     ]
    }
   ],
   "source": [
    "print('Best parameters found:')\n",
    "print(clf_GR.best_params_)"
   ]
  },
  {
   "cell_type": "code",
   "execution_count": 35,
   "id": "8606269f",
   "metadata": {},
   "outputs": [
    {
     "name": "stdout",
     "output_type": "stream",
     "text": [
      "Test results on the training dataset：\n",
      "              precision    recall  f1-score   support\n",
      "\n",
      "        C123       1.00      1.00      1.00       500\n",
      "        C456       1.00      1.00      1.00       500\n",
      "         C78       1.00      1.00      1.00       500\n",
      "\n",
      "    accuracy                           1.00      1500\n",
      "   macro avg       1.00      1.00      1.00      1500\n",
      "weighted avg       1.00      1.00      1.00      1500\n",
      "\n"
     ]
    }
   ],
   "source": [
    "y_pred = clf_GR.predict(Gen_DataSet)\n",
    "print(f\"Test results on the training dataset：\")\n",
    "print(classification_report(Gen_Labels,y_pred,target_names=['C123','C456','C78']))"
   ]
  },
  {
   "cell_type": "code",
   "execution_count": 36,
   "id": "84fe5ac0",
   "metadata": {},
   "outputs": [
    {
     "name": "stdout",
     "output_type": "stream",
     "text": [
      "Test results on the test set：\n",
      "              precision    recall  f1-score   support\n",
      "\n",
      "        C123       0.82      0.99      0.90       524\n",
      "        C456       0.92      0.74      0.82       464\n",
      "         C78       0.93      0.87      0.90       172\n",
      "\n",
      "    accuracy                           0.87      1160\n",
      "   macro avg       0.89      0.87      0.87      1160\n",
      "weighted avg       0.88      0.87      0.87      1160\n",
      "\n"
     ]
    }
   ],
   "source": [
    "y_pred = clf_GR.predict(Real_DataSet)\n",
    "print(f\"Test results on the test set：\")\n",
    "print(classification_report(Y,y_pred,target_names=['C123','C456','C78']))"
   ]
  },
  {
   "cell_type": "code",
   "execution_count": null,
   "id": "1fb83115",
   "metadata": {},
   "outputs": [],
   "source": []
  }
 ],
 "metadata": {
  "kernelspec": {
   "display_name": "Python 3 (ipykernel)",
   "language": "python",
   "name": "python3"
  },
  "language_info": {
   "codemirror_mode": {
    "name": "ipython",
    "version": 3
   },
   "file_extension": ".py",
   "mimetype": "text/x-python",
   "name": "python",
   "nbconvert_exporter": "python",
   "pygments_lexer": "ipython3",
   "version": "3.11.5"
  }
 },
 "nbformat": 4,
 "nbformat_minor": 5
}
