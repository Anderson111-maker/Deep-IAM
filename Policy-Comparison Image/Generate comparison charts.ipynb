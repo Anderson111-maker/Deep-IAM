{
 "cells": [
  {
   "cell_type": "code",
   "execution_count": 1,
   "id": "9d5924b1-4454-47ba-9648-5a06a83cc0ae",
   "metadata": {
    "is_executing": true
   },
   "outputs": [],
   "source": [
    "import matplotlib.pyplot as plt\n",
    "import seaborn as sns\n",
    "import pandas as pd\n",
    "import numpy as np\n",
    "import tsgm\n",
    "import tensorflow as tf\n",
    "from tensorflow import keras"
   ]
  },
  {
   "cell_type": "code",
   "execution_count": 2,
   "id": "dc2806ae-a257-4eb7-b05e-65fed39fc282",
   "metadata": {
    "is_executing": true
   },
   "outputs": [],
   "source": [
    "pd.set_option('display.max_rows',None)\n",
    "AR6 = pd.read_csv('AR6_Scenarios_Database_World_v1.1.csv')"
   ]
  },
  {
   "cell_type": "code",
   "execution_count": null,
   "id": "f9fe0b97-cfc6-41bf-a6b8-a18d59a7a0dd",
   "metadata": {
    "is_executing": true
   },
   "outputs": [],
   "source": [
    "sr = pd.read_excel('iamc15_scenario_data_world_r2.0.xlsx',sheet_name='data')\n",
    "sr.head()"
   ]
  },
  {
   "cell_type": "code",
   "execution_count": null,
   "id": "7e1ad865-f0b7-49d6-923d-ea3a81f876e9",
   "metadata": {
    "is_executing": true
   },
   "outputs": [],
   "source": [
    "sr_Model_Scenario = pd.read_csv('SR15_mapping_class.csv')\n",
    "sr_Model_Scenario"
   ]
  },
  {
   "cell_type": "code",
   "execution_count": 5,
   "id": "7f479fd6-b229-4cdd-bea9-7ab2219e11aa",
   "metadata": {
    "is_executing": true
   },
   "outputs": [],
   "source": [
    "sr_CCS = sr[sr['Variable'] == 'Carbon Sequestration|CCS']\n",
    "sr_PrimaryCoal = sr[sr['Variable'] == 'Primary Energy|Coal']\n",
    "sr_PrimaryOil = sr[sr['Variable'] == 'Primary Energy|Oil']\n",
    "sr_PrimaryGas = sr[sr['Variable'] == 'Primary Energy|Gas']\n",
    "sr_FinalLiquid = sr[sr['Variable'] == 'Final Energy|Liquids']\n",
    "sr_Kyoto_Gase = sr[sr['Variable'] == 'Emissions|Kyoto Gases']"
   ]
  },
  {
   "cell_type": "code",
   "execution_count": 6,
   "id": "1f429450-d7c5-4d1d-90d6-148f22f5c688",
   "metadata": {
    "is_executing": true
   },
   "outputs": [],
   "source": [
    "#Select data for a specific year\n",
    "def select_years(dataframe,years):\n",
    "    years_list = [str(year) for year in years ]\n",
    "    \n",
    "    \n",
    "    selected_dataframe = dataframe.loc[:,['Model','Scenario'] + years_list].reset_index(drop=True)\n",
    "    selected_dataframe[years_list] = selected_dataframe[years_list].fillna(selected_dataframe[years_list].mean())\n",
    "    \n",
    "    if selected_dataframe.isnull().any().any():\n",
    "        print(f'There is a missing value')\n",
    "        missing_columns = selected_dataframe[selected_dataframe.isnull().any()].tolist()\n",
    "        print(f\"Missing column exists{missing_columns}\")\n",
    "    \n",
    "        \n",
    "    return selected_dataframe"
   ]
  },
  {
   "cell_type": "code",
   "execution_count": 7,
   "id": "7c6651b6-1f4b-4fc9-8d2f-454f380f598b",
   "metadata": {
    "is_executing": true
   },
   "outputs": [],
   "source": [
    "sr_CCS_2020_2100 = select_years(sr_CCS,range(2020,2101,10))\n",
    "sr_PrimaryCoal_2020_2100 = select_years(sr_PrimaryCoal,range(2020,2101,10))\n",
    "sr_PrimaryOil_2020_2100 = select_years(sr_PrimaryOil,range(2020,2101,10))\n",
    "sr_PrimaryGas_2020_2100 = select_years(sr_PrimaryGas,range(2020,2101,10))\n",
    "sr_FinalLiquid_2020_2100 = select_years(sr_FinalLiquid,range(2020,2101,10))\n",
    "sr_Kyoto_Gase_2020_2100 = select_years(sr_Kyoto_Gase,range(2020,2101,10))\n"
   ]
  },
  {
   "cell_type": "code",
   "execution_count": 8,
   "id": "95f90b83-7f06-4a55-8b14-db6313203db6",
   "metadata": {
    "is_executing": true
   },
   "outputs": [],
   "source": [
    "sr_variables = [sr_CCS_2020_2100,sr_FinalLiquid_2020_2100,sr_PrimaryCoal_2020_2100,sr_PrimaryGas_2020_2100,\n",
    "                sr_PrimaryOil_2020_2100,sr_Kyoto_Gase_2020_2100]"
   ]
  },
  {
   "cell_type": "code",
   "execution_count": null,
   "id": "b2858b4f-dd02-4656-84aa-2614bdc7af16",
   "metadata": {
    "is_executing": true
   },
   "outputs": [],
   "source": [
    "for i in range(len(sr_variables)):\n",
    "    sr_variables[i] = pd.merge(sr_Model_Scenario,sr_variables[i],on=['Model','Scenario'],how='inner').reset_index(drop=True)\n",
    "sr_variables[0]['class'].value_counts()\n",
    "sr_variables[1]['class'].value_counts()"
   ]
  },
  {
   "cell_type": "code",
   "execution_count": 10,
   "id": "5f5f91d6-dbe1-4f73-bf86-301baa339a79",
   "metadata": {
    "is_executing": true
   },
   "outputs": [],
   "source": [
    "_1p5_2050 = []\n",
    "for variable in sr_variables:\n",
    "    _1p5_2050.append(variable[variable['class'] == '1p5']['2050'].values)\n",
    "\n",
    "_1p5_2100 = []\n",
    "for variable in sr_variables:\n",
    "    _1p5_2100.append(variable[variable['class'] == '1p5']['2100'].values)\n",
    "\n",
    "\n",
    "_2p0_2050 = []\n",
    "for variable in sr_variables:\n",
    "    _2p0_2050.append(variable[variable['class'] == '2p0']['2050'].values)\n",
    "\n",
    "_2p0_2100 = []\n",
    "for variable in sr_variables:\n",
    "    _2p0_2100.append(variable[variable['class'] == '2p0']['2100'].values)\n",
    "\n"
   ]
  },
  {
   "cell_type": "code",
   "execution_count": 11,
   "id": "5cd03fe9-079d-4d3e-918c-de592064653e",
   "metadata": {
    "is_executing": true
   },
   "outputs": [],
   "source": [
    "#Set Global Random Seed\n",
    "global_seed = 3\n",
    "tf.random.set_seed(global_seed)\n",
    "np.random.seed(global_seed)"
   ]
  },
  {
   "cell_type": "code",
   "execution_count": 12,
   "id": "7e99c1c9-8503-489d-91fe-d83dae8217a3",
   "metadata": {
    "is_executing": true
   },
   "outputs": [],
   "source": [
    "#Save Kyoto_Gases data (2020-2100), consider the case of C1-C8 for simplicity.\n",
    "ar6_Kyoto_Gases = pd.read_csv('Kyoto Gases.csv')\n",
    "ar6_Kyoto_Gases = ar6_Kyoto_Gases[ar6_Kyoto_Gases['Category'].isin(['C1','C2','C3','C4','C5','C6','C7','C8'])]\n",
    "mapping = {'C1':0,'C2':0,'C3':0,'C4':0,'C5':1,'C6':1,'C7':2,'C8':2}\n",
    "ar6_Kyoto_Gases['Category'].replace(mapping,inplace=True)\n",
    "ar6_Kyoto_Gases.reset_index(drop=True,inplace=True)"
   ]
  },
  {
   "cell_type": "code",
   "execution_count": 13,
   "id": "dce5f4e8-f591-4562-bc3d-b8e6bfc39984",
   "metadata": {
    "is_executing": true
   },
   "outputs": [],
   "source": [
    "ar6_Kyoto_Gases.drop(columns=['Category_name'],inplace = True)"
   ]
  },
  {
   "cell_type": "code",
   "execution_count": 14,
   "id": "64c9b258-3840-465c-8495-0825c9c01d9e",
   "metadata": {
    "is_executing": true
   },
   "outputs": [],
   "source": [
    "#Load a dataset of individual variables\n",
    "ar6_CarbonSequestration = pd.read_csv('Carbon_Sequestration_CCS_imputed.csv')\n",
    "ar6_FinalEnergy_Liquid = pd.read_csv('Final Energy_Liquids.csv')\n",
    "ar6_PrimaryEnergy_Gas = pd.read_csv('Primary Energy_Gas.csv')\n",
    "ar6_PrimaryEnergy_Oil = pd.read_csv('Primary Energy_Oil.csv')\n",
    "ar6_PrimaryEnergy_Coal = pd.read_csv('PrimaryEnergy_Coal.csv')"
   ]
  },
  {
   "cell_type": "code",
   "execution_count": 15,
   "id": "8e282a6f-0f2d-4a3f-ac83-9bd0a480836a",
   "metadata": {
    "is_executing": true
   },
   "outputs": [],
   "source": [
    "#Get the intersection of the models and scenarios contained in each variable\n",
    "ar6_Model_Scenario = ar6_Kyoto_Gases[['Model','Scenario']]\n",
    "ar6_Variables = [ar6_CarbonSequestration,ar6_FinalEnergy_Liquid,ar6_PrimaryEnergy_Coal,ar6_PrimaryEnergy_Gas,ar6_PrimaryEnergy_Oil]\n",
    "for variable in ar6_Variables:\n",
    "    ar6_Model_Scenario = pd.merge(ar6_Model_Scenario,variable[['Model','Scenario']],on=['Model','Scenario'],how='inner')"
   ]
  },
  {
   "cell_type": "code",
   "execution_count": 16,
   "id": "9deb5f12-2ea5-4370-81c6-4829a0f1fc85",
   "metadata": {
    "is_executing": true
   },
   "outputs": [],
   "source": [
    "for i in range(len(ar6_Variables)):\n",
    "    ar6_Variables[i] = pd.merge(ar6_Model_Scenario,ar6_Variables[i],on=['Model','Scenario'],how='inner')\n",
    "for i in range(len(ar6_Variables)):\n",
    "    ar6_Variables[i].drop(columns=['Category_name'],inplace = True)"
   ]
  },
  {
   "cell_type": "code",
   "execution_count": 17,
   "id": "acd4995a-3270-4ba6-b948-5c4059b2ef60",
   "metadata": {
    "is_executing": true
   },
   "outputs": [],
   "source": [
    "ar6_Kyoto_Gases = pd.merge(ar6_Kyoto_Gases,ar6_Model_Scenario,on = ['Model','Scenario'],how = 'inner')"
   ]
  },
  {
   "cell_type": "code",
   "execution_count": 18,
   "id": "d4c8a117-5f6d-4574-8deb-7ab8777b09b0",
   "metadata": {
    "is_executing": true
   },
   "outputs": [],
   "source": [
    "ar6_Variables.append(ar6_Kyoto_Gases)"
   ]
  },
  {
   "cell_type": "code",
   "execution_count": 19,
   "id": "26ed2489-7181-4ebc-a823-7a104a7434a8",
   "metadata": {
    "is_executing": true
   },
   "outputs": [],
   "source": [
    "#Generate feature matrices, the values of each variable during 2020-2100. 9 time steps, 6 features\n",
    "#1160 is the amount of data\n",
    "X = np.zeros((1160,9,6))\n",
    "for i in range(len(ar6_Variables)):\n",
    "    ar6_Variables[i] = ar6_Variables[i].iloc[:,3:-1].values\n",
    "for i in range(1160):\n",
    "    for j in range(9):\n",
    "        for k in range(6):\n",
    "            X[i][j][k] = (ar6_Variables[k])[i,j]"
   ]
  },
  {
   "cell_type": "code",
   "execution_count": 20,
   "id": "5ee7664e-ae14-4b66-8aed-9dd18ec0998f",
   "metadata": {
    "is_executing": true
   },
   "outputs": [],
   "source": [
    "Y = ar6_Kyoto_Gases['Category'].values"
   ]
  },
  {
   "cell_type": "code",
   "execution_count": 21,
   "id": "4a30c8b1-cd6f-4c62-97bc-3a7f04a0fbc1",
   "metadata": {
    "is_executing": true
   },
   "outputs": [],
   "source": [
    "#Separate datasets by category. \n",
    "C1234_DataSet = X[Y == 0]\n",
    "C56_DataSet = X[Y == 1]\n",
    "C78_DataSet = X[Y == 2]"
   ]
  },
  {
   "cell_type": "code",
   "execution_count": 22,
   "id": "9ad6c4c0-f3d9-46fe-93b4-5bd1ea975800",
   "metadata": {
    "is_executing": true
   },
   "outputs": [],
   "source": [
    "architecture1 = tsgm.models.zoo[\"vae_conv5\"](9, 6, 8)#Latent Dim = 8\n",
    "encoder1, decoder1 = architecture1.encoder, architecture1.decoder"
   ]
  },
  {
   "cell_type": "code",
   "execution_count": 23,
   "id": "6b296cd1-ceb4-4447-9aa4-b239411f517b",
   "metadata": {
    "is_executing": true
   },
   "outputs": [],
   "source": [
    "scaler_C1234 = tsgm.utils.TSFeatureWiseScaler((0,1))        \n",
    "scaled_C1234_data = scaler_C1234.fit_transform(C1234_DataSet)"
   ]
  },
  {
   "cell_type": "code",
   "execution_count": 24,
   "id": "f4ad3815-a630-48bf-b1dc-c18cfecaa71b",
   "metadata": {
    "is_executing": true
   },
   "outputs": [],
   "source": [
    "architecture2 = tsgm.models.zoo[\"vae_conv5\"](9, 6, 8)\n",
    "encoder2, decoder2 = architecture2.encoder, architecture2.decoder\n",
    "scaler_C56 = tsgm.utils.TSFeatureWiseScaler((0,1))    \n",
    "scaled_C56_data = scaler_C56.fit_transform(C56_DataSet)"
   ]
  },
  {
   "cell_type": "code",
   "execution_count": 25,
   "id": "478fc772-fb8d-46d0-a551-78e0695b1c45",
   "metadata": {
    "is_executing": true
   },
   "outputs": [],
   "source": [
    "architecture3 = tsgm.models.zoo[\"vae_conv5\"](9, 6, 8)\n",
    "encoder3, decoder3 = architecture3.encoder, architecture3.decoder\n",
    "scaler_C78 = tsgm.utils.TSFeatureWiseScaler((0,1))    \n",
    "scaled_C78_data = scaler_C78.fit_transform(C78_DataSet)"
   ]
  },
  {
   "cell_type": "code",
   "execution_count": 26,
   "id": "9da003a3-c8ee-49d5-92d0-c9cb7983db7f",
   "metadata": {
    "is_executing": true
   },
   "outputs": [],
   "source": [
    "#Load model parameters\n",
    "encoder1.load_weights('Policy-encoder1_weights-top6.h5')\n",
    "encoder2.load_weights('Policy-encoder2_weights-top6.h5')\n",
    "encoder3.load_weights('Policy-encoder3_weights-top6.h5')\n",
    "decoder1.load_weights('Policy-decoder1_weights-top6.h5')\n",
    "decoder2.load_weights('Policy-decoder2_weights-top6.h5')\n",
    "decoder3.load_weights('Policy-decoder3_weights-top6.h5')"
   ]
  },
  {
   "cell_type": "code",
   "execution_count": 27,
   "id": "0181b1d0-5e51-4ac1-ae46-fbdb7d35819a",
   "metadata": {
    "is_executing": true
   },
   "outputs": [],
   "source": [
    "#Generate data using generative models (1000 for each class)\n",
    "z1 = tf.random.normal((1000, 8))\n",
    "z2 = tf.random.normal((1000, 8))\n",
    "z3 = tf.random.normal((1000, 8))\n",
    "Gen_C1234 = decoder1(z1)\n",
    "Gen_C56 = decoder2(z2)\n",
    "Gen_C78 = decoder3(z3)\n",
    "Gen_C1234 = scaler_C1234.inverse_transform(Gen_C1234)\n",
    "Gen_C56 = scaler_C56.inverse_transform(Gen_C56)\n",
    "Gen_C78 = scaler_C78.inverse_transform(Gen_C78)"
   ]
  },
  {
   "cell_type": "code",
   "execution_count": null,
   "id": "6fe78a32-c79e-46cf-9761-0cbf0eb0b0ed",
   "metadata": {
    "is_executing": true
   },
   "outputs": [],
   "source": [
    "#CarbonSequestration_2050 SR data versus generated data.\n",
    "Category_names = ['1.5C','2.0C','C1234_Generate','C56_Generate','C78_Generate']\n",
    "Data_Values = [_1p5_2050[0],_2p0_2050[0],Gen_C1234[:,3,0],Gen_C56[:,3,0],Gen_C78[:,3,0]]\n",
    "box_positions = np.arange(1, len(Category_names) + 1) - 0.25\n",
    "scatter_positions = np.arange(1, len(Category_names) + 1) + 0.25\n",
    "\n",
    "colors = ['goldenrod','royalblue','brown','orangered','olive']\n",
    "plt.figure(figsize=(12,10))\n",
    "box_plot = plt.boxplot(Data_Values,showfliers=False,patch_artist=True,widths=0.25,positions=box_positions)\n",
    "for patch, color in zip(box_plot['boxes'], colors):\n",
    "    patch.set_facecolor(color)\n",
    "for median_line in box_plot['medians']:\n",
    "    median_line.set(color='black')\n",
    "# scatterplot\n",
    "for i, data in enumerate(Data_Values):\n",
    "    x = np.random.normal(scatter_positions[i], 0.05, size=len(data))\n",
    "    plt.scatter(x, data, color=colors[i], s=5.8)\n",
    "plt.xlabel('Agg-Category',fontsize=20)\n",
    "plt.ylabel('CarbonSequestration_2050',fontsize=20)\n",
    "plt.title('Box Plot of CarbonSequestration_2050(Generate and SR DataSet)',fontsize=25)\n",
    "# set scale\n",
    "plt.xticks(range(1, len(Category_names) + 1), Category_names)\n",
    "plt.ylim([0,31000])\n",
    "plt.savefig('Box Plot of CarbonSequestration_2050(Generate and SR DataSet).pdf',format='pdf')\n",
    "plt.show()"
   ]
  },
  {
   "cell_type": "code",
   "execution_count": null,
   "id": "5beca673-307f-4e41-9dad-2d1a0ec77233",
   "metadata": {},
   "outputs": [],
   "source": [
    "#FinalEnergy_Liquid_2050 SR data versus generated data.\n",
    "Category_names = ['1.5C','2.0C','C1234_Generate','C56_Generate','C78_Generate']\n",
    "Data_Values = [_1p5_2050[1],_2p0_2050[1],Gen_C1234[:,3,1],Gen_C56[:,3,1],Gen_C78[:,3,1]]\n",
    "box_positions = np.arange(1, len(Category_names) + 1) - 0.25\n",
    "scatter_positions = np.arange(1, len(Category_names) + 1) + 0.25\n",
    "\n",
    "colors = ['goldenrod','royalblue','brown','orangered','olive']\n",
    "plt.figure(figsize=(12,10))\n",
    "box_plot = plt.boxplot(Data_Values,showfliers=False,patch_artist=True,widths=0.25,positions=box_positions)\n",
    "for patch, color in zip(box_plot['boxes'], colors):\n",
    "    patch.set_facecolor(color)\n",
    "for median_line in box_plot['medians']:\n",
    "    median_line.set(color='black')\n",
    "# scatterplot\n",
    "for i, data in enumerate(Data_Values):\n",
    "    x = np.random.normal(scatter_positions[i], 0.05, size=len(data))\n",
    "    plt.scatter(x, data, color=colors[i], s=5.8)\n",
    "plt.xlabel('Agg-Category',fontsize=20)\n",
    "plt.ylabel('FinalEnergy_Liquid_2050',fontsize=20)\n",
    "plt.title('Box Plot of FinalEnergy_Liquid_2050(Generate and SR DataSet)',fontsize=25)\n",
    "# set scale\n",
    "plt.xticks(range(1, len(Category_names) + 1), Category_names)\n",
    "plt.ylim([0,400])\n",
    "plt.savefig('Box Plot of FinalEnergy_Liquid_2050(Generate and SR DataSet).pdf',format='pdf')\n",
    "plt.show()"
   ]
  },
  {
   "cell_type": "code",
   "execution_count": null,
   "id": "a0a773ae-5caa-4dee-8c08-518c0dd43a81",
   "metadata": {},
   "outputs": [],
   "source": [
    "#PrimaryEnergy_Coal_2050 SR data versus generated data.\n",
    "Category_names = ['1.5C','2.0C','C1234_Generate','C56_Generate','C78_Generate']\n",
    "Data_Values = [_1p5_2050[2],_2p0_2050[2],Gen_C1234[:,3,2],Gen_C56[:,3,2],Gen_C78[:,3,2]]\n",
    "box_positions = np.arange(1, len(Category_names) + 1) - 0.25\n",
    "scatter_positions = np.arange(1, len(Category_names) + 1) + 0.25\n",
    "\n",
    "colors = ['goldenrod','royalblue','brown','orangered','olive']\n",
    "plt.figure(figsize=(12,10))\n",
    "box_plot = plt.boxplot(Data_Values,showfliers=False,patch_artist=True,widths=0.25,positions=box_positions)\n",
    "for patch, color in zip(box_plot['boxes'], colors):\n",
    "    patch.set_facecolor(color)\n",
    "for median_line in box_plot['medians']:\n",
    "    median_line.set(color='black')\n",
    "# scatterplot\n",
    "for i, data in enumerate(Data_Values):\n",
    "    x = np.random.normal(scatter_positions[i], 0.05, size=len(data))\n",
    "    plt.scatter(x, data, color=colors[i], s=5.8)\n",
    "plt.xlabel('Agg-Category',fontsize=20)\n",
    "plt.ylabel('PrimaryEnergy_Coal_2050',fontsize=20)\n",
    "plt.title('Box Plot of PrimaryEnergy_Coal_2050(Generate and SR DataSet)',fontsize=25)\n",
    "# set scale\n",
    "plt.xticks(range(1, len(Category_names) + 1), Category_names)\n",
    "plt.ylim([0,450])\n",
    "plt.savefig('Box Plot of PrimaryEnergy_Coal_2050(Generate and SR DataSet).pdf',format='pdf')\n",
    "plt.show()"
   ]
  },
  {
   "cell_type": "code",
   "execution_count": null,
   "id": "ae8c67cb-cb36-4ef1-b5a8-47b66c563137",
   "metadata": {},
   "outputs": [],
   "source": [
    "#PrimaryEnergy_Gas_2050 SR data versus generated data.\n",
    "Category_names = ['1.5C','2.0C','C1234_Generate','C56_Generate','C78_Generate']\n",
    "Data_Values = [_1p5_2050[3],_2p0_2050[3],Gen_C1234[:,3,3],Gen_C56[:,3,3],Gen_C78[:,3,3]]\n",
    "box_positions = np.arange(1, len(Category_names) + 1) - 0.25\n",
    "scatter_positions = np.arange(1, len(Category_names) + 1) + 0.25\n",
    "\n",
    "colors = ['goldenrod','royalblue','brown','orangered','olive']\n",
    "plt.figure(figsize=(12,10))\n",
    "box_plot = plt.boxplot(Data_Values,showfliers=False,patch_artist=True,widths=0.25,positions=box_positions)\n",
    "for patch, color in zip(box_plot['boxes'], colors):\n",
    "    patch.set_facecolor(color)\n",
    "for median_line in box_plot['medians']:\n",
    "    median_line.set(color='black')\n",
    "# scatterplot\n",
    "for i, data in enumerate(Data_Values):\n",
    "    x = np.random.normal(scatter_positions[i], 0.05, size=len(data))\n",
    "    plt.scatter(x, data, color=colors[i], s=5.8)\n",
    "plt.xlabel('Agg-Category',fontsize=20)\n",
    "plt.ylabel('PrimaryEnergy_Gas_2050',fontsize=20)\n",
    "plt.title('Box Plot of PrimaryEnergy_Gas_2050(Generate and SR DataSet)',fontsize=25)\n",
    "# set scale\n",
    "plt.xticks(range(1, len(Category_names) + 1), Category_names)\n",
    "plt.ylim([0,450])\n",
    "plt.savefig('Box Plot of PrimaryEnergy_Gas_2050(Generate and SR DataSet).pdf',format='pdf')\n",
    "plt.show()"
   ]
  },
  {
   "cell_type": "code",
   "execution_count": null,
   "id": "11e02136-0064-4d30-93cd-28d7efbf6452",
   "metadata": {},
   "outputs": [],
   "source": [
    "#PrimaryEnergy_Oil_2050 SR data versus generated data.\n",
    "Category_names = ['1.5C','2.0C','C1234_Generate','C56_Generate','C78_Generate']\n",
    "Data_Values = [_1p5_2050[4],_2p0_2050[4],Gen_C1234[:,3,4],Gen_C56[:,3,4],Gen_C78[:,3,4]]\n",
    "box_positions = np.arange(1, len(Category_names) + 1) - 0.25\n",
    "scatter_positions = np.arange(1, len(Category_names) + 1) + 0.25\n",
    "\n",
    "colors = ['goldenrod','royalblue','brown','orangered','olive']\n",
    "plt.figure(figsize=(12,10))\n",
    "box_plot = plt.boxplot(Data_Values,showfliers=False,patch_artist=True,widths=0.25,positions=box_positions)\n",
    "for patch, color in zip(box_plot['boxes'], colors):\n",
    "    patch.set_facecolor(color)\n",
    "for median_line in box_plot['medians']:\n",
    "    median_line.set(color='black')\n",
    "# scatterplot\n",
    "for i, data in enumerate(Data_Values):\n",
    "    x = np.random.normal(scatter_positions[i], 0.05, size=len(data))\n",
    "    plt.scatter(x, data, color=colors[i], s=5.8)\n",
    "plt.xlabel('Agg-Category',fontsize=20)\n",
    "plt.ylabel('PrimaryEnergy_Oil_2050',fontsize=20)\n",
    "plt.title('Box Plot of PrimaryEnergy_Oil_2050(Generate and SR DataSet)',fontsize=25)\n",
    "# set scale\n",
    "plt.xticks(range(1, len(Category_names) + 1), Category_names)\n",
    "#plt.ylim([0,450])\n",
    "plt.savefig('Box Plot of PrimaryEnergy_Oil_2050(Generate and SR DataSet).pdf',format='pdf')\n",
    "plt.show()"
   ]
  },
  {
   "cell_type": "code",
   "execution_count": null,
   "id": "16f3c917-81b2-473b-b18d-e4d7cbff3a95",
   "metadata": {},
   "outputs": [],
   "source": [
    "#Kyoto_Gases_2050 SR data versus generated data.\n",
    "Category_names = ['1.5C','2.0C','C1234_Generate','C56_Generate','C78_Generate']\n",
    "Data_Values = [_1p5_2050[5],_2p0_2050[5],Gen_C1234[:,3,5],Gen_C56[:,3,5],Gen_C78[:,3,5]]\n",
    "box_positions = np.arange(1, len(Category_names) + 1) - 0.25\n",
    "scatter_positions = np.arange(1, len(Category_names) + 1) + 0.25\n",
    "\n",
    "colors = ['goldenrod','royalblue','brown','orangered','olive']\n",
    "plt.figure(figsize=(12,10))\n",
    "box_plot = plt.boxplot(Data_Values,showfliers=False,patch_artist=True,widths=0.25,positions=box_positions)\n",
    "for patch, color in zip(box_plot['boxes'], colors):\n",
    "    patch.set_facecolor(color)\n",
    "for median_line in box_plot['medians']:\n",
    "    median_line.set(color='black')\n",
    "# scatterplot\n",
    "for i, data in enumerate(Data_Values):\n",
    "    x = np.random.normal(scatter_positions[i], 0.05, size=len(data))\n",
    "    plt.scatter(x, data, color=colors[i], s=5.8)\n",
    "plt.xlabel('Agg-Category',fontsize=20)\n",
    "plt.ylabel('Kyoto_Gases',fontsize=20)\n",
    "plt.title('Box Plot of Kyoto_Gases_2050(Generate and SR DataSet)',fontsize=25)\n",
    "# set scale\n",
    "plt.xticks(range(1, len(Category_names) + 1), Category_names)\n",
    "plt.ylim([-20000,120000])\n",
    "plt.savefig('Box Plot of Kyoto_Gases_2050(Generate and SR DataSet).pdf',format='pdf')\n",
    "plt.show()"
   ]
  },
  {
   "cell_type": "code",
   "execution_count": null,
   "id": "e4214177-0479-4e74-b401-9c65a535e5b3",
   "metadata": {},
   "outputs": [],
   "source": [
    "#CarbonSequestration_2100 SR data versus generated data.\n",
    "Category_names = ['1.5C','2.0C','C1234_Generate','C56_Generate','C78_Generate']\n",
    "Data_Values = [_1p5_2100[0],_2p0_2100[0],Gen_C1234[:,8,0],Gen_C56[:,8,0],Gen_C78[:,8,0]]\n",
    "box_positions = np.arange(1, len(Category_names) + 1) - 0.25\n",
    "scatter_positions = np.arange(1, len(Category_names) + 1) + 0.25\n",
    "\n",
    "colors = ['goldenrod','royalblue','brown','orangered','olive']\n",
    "plt.figure(figsize=(12,10))\n",
    "box_plot = plt.boxplot(Data_Values,showfliers=False,patch_artist=True,widths=0.25,positions=box_positions)\n",
    "for patch, color in zip(box_plot['boxes'], colors):\n",
    "    patch.set_facecolor(color)\n",
    "for median_line in box_plot['medians']:\n",
    "    median_line.set(color='black')\n",
    "# scatterplot\n",
    "for i, data in enumerate(Data_Values):\n",
    "    x = np.random.normal(scatter_positions[i], 0.05, size=len(data))\n",
    "    plt.scatter(x, data, color=colors[i], s=5.8)\n",
    "plt.xlabel('Agg-Category',fontsize=20)\n",
    "plt.ylabel('CarbonSequestration_2100',fontsize=20)\n",
    "plt.title('Box Plot of CarbonSequestration_2100(Generate and SR DataSet)',fontsize=25)\n",
    "# set scale\n",
    "plt.xticks(range(1, len(Category_names) + 1), Category_names)\n",
    "plt.ylim([0,45000])\n",
    "plt.savefig('Box Plot of CarbonSequestration_2100(Generate and SR DataSet).pdf',format='pdf')\n",
    "plt.show()"
   ]
  },
  {
   "cell_type": "code",
   "execution_count": null,
   "id": "2c92cbc3-2cb3-47a3-9610-b974491f0364",
   "metadata": {},
   "outputs": [],
   "source": [
    "#FinalEnergy_Liquid_2100 SR data versus generated data.\n",
    "Category_names = ['1.5C','2.0C','C1234_Generate','C56_Generate','C78_Generate']\n",
    "Data_Values = [_1p5_2100[1],_2p0_2100[1],Gen_C1234[:,8,1],Gen_C56[:,8,1],Gen_C78[:,8,1]]\n",
    "box_positions = np.arange(1, len(Category_names) + 1) - 0.25\n",
    "scatter_positions = np.arange(1, len(Category_names) + 1) + 0.25\n",
    "\n",
    "colors = ['goldenrod','royalblue','brown','orangered','olive']\n",
    "plt.figure(figsize=(12,10))\n",
    "box_plot = plt.boxplot(Data_Values,showfliers=False,patch_artist=True,widths=0.25,positions=box_positions)\n",
    "for patch, color in zip(box_plot['boxes'], colors):\n",
    "    patch.set_facecolor(color)\n",
    "for median_line in box_plot['medians']:\n",
    "    median_line.set(color='black')\n",
    "# scatterplot\n",
    "for i, data in enumerate(Data_Values):\n",
    "    x = np.random.normal(scatter_positions[i], 0.05, size=len(data))\n",
    "    plt.scatter(x, data, color=colors[i], s=5.8)\n",
    "plt.xlabel('Agg-Category',fontsize=20)\n",
    "plt.ylabel('FinalEnergy_Liquid_2100',fontsize=20)\n",
    "plt.title('Box Plot of FinalEnergy_Liquid_2100(Generate and SR DataSet)',fontsize=25)\n",
    "# set scale\n",
    "plt.xticks(range(1, len(Category_names) + 1), Category_names)\n",
    "plt.ylim([0,400])\n",
    "plt.savefig('Box Plot of FinalEnergy_Liquid_2100(Generate and SR DataSet).pdf',format='pdf')\n",
    "plt.show()"
   ]
  },
  {
   "cell_type": "code",
   "execution_count": null,
   "id": "d0b7e61a-c614-4a4d-b626-715cbd63fd5e",
   "metadata": {},
   "outputs": [],
   "source": [
    "#PrimaryEnergy_Coal_2100 SR data versus generated data.\n",
    "Category_names = ['1.5C','2.0C','C1234_Generate','C56_Generate','C78_Generate']\n",
    "Data_Values = [_1p5_2100[2],_2p0_2100[2],Gen_C1234[:,8,2],Gen_C56[:,8,2],Gen_C78[:,8,2]]\n",
    "box_positions = np.arange(1, len(Category_names) + 1) - 0.25\n",
    "scatter_positions = np.arange(1, len(Category_names) + 1) + 0.25\n",
    "\n",
    "colors = ['goldenrod','royalblue','brown','orangered','olive']\n",
    "plt.figure(figsize=(12,10))\n",
    "box_plot = plt.boxplot(Data_Values,showfliers=False,patch_artist=True,widths=0.25,positions=box_positions)\n",
    "for patch, color in zip(box_plot['boxes'], colors):\n",
    "    patch.set_facecolor(color)\n",
    "for median_line in box_plot['medians']:\n",
    "    median_line.set(color='black')\n",
    "# scatterplot\n",
    "for i, data in enumerate(Data_Values):\n",
    "    x = np.random.normal(scatter_positions[i], 0.05, size=len(data))\n",
    "    plt.scatter(x, data, color=colors[i], s=5.8)\n",
    "plt.xlabel('Agg-Category',fontsize=20)\n",
    "plt.ylabel('PrimaryEnergy_Coal_2100',fontsize=20)\n",
    "plt.title('Box Plot of PrimaryEnergy_Coal_2100(Generate and SR DataSet)',fontsize=25)\n",
    "# set scale\n",
    "plt.xticks(range(1, len(Category_names) + 1), Category_names)\n",
    "plt.ylim([0,900])\n",
    "plt.savefig('Box Plot of PrimaryEnergy_Coal_2100(Generate and SR DataSet).pdf',format='pdf')\n",
    "plt.show()"
   ]
  },
  {
   "cell_type": "code",
   "execution_count": null,
   "id": "ab1ac1e2-3bb2-4523-9665-8f9193ad0c38",
   "metadata": {},
   "outputs": [],
   "source": [
    "#PrimaryEnergy_Gas_2100 SR data versus generated data.\n",
    "Category_names = ['1.5C','2.0C','C1234_Generate','C56_Generate','C78_Generate']\n",
    "Data_Values = [_1p5_2100[3],_2p0_2100[3],Gen_C1234[:,8,3],Gen_C56[:,8,3],Gen_C78[:,8,3]]\n",
    "box_positions = np.arange(1, len(Category_names) + 1) - 0.25\n",
    "scatter_positions = np.arange(1, len(Category_names) + 1) + 0.25\n",
    "\n",
    "colors = ['goldenrod','royalblue','brown','orangered','olive']\n",
    "plt.figure(figsize=(12,10))\n",
    "box_plot = plt.boxplot(Data_Values,showfliers=False,patch_artist=True,widths=0.25,positions=box_positions)\n",
    "for patch, color in zip(box_plot['boxes'], colors):\n",
    "    patch.set_facecolor(color)\n",
    "for median_line in box_plot['medians']:\n",
    "    median_line.set(color='black')\n",
    "# scatterplot\n",
    "for i, data in enumerate(Data_Values):\n",
    "    x = np.random.normal(scatter_positions[i], 0.05, size=len(data))\n",
    "    plt.scatter(x, data, color=colors[i], s=5.8)\n",
    "plt.xlabel('Agg-Category',fontsize=20)\n",
    "plt.ylabel('PrimaryEnergy_Gas_2100',fontsize=20)\n",
    "plt.title('Box Plot of PrimaryEnergy_Gas_2100(Generate and SR DataSet)',fontsize=25)\n",
    "# set scale\n",
    "plt.xticks(range(1, len(Category_names) + 1), Category_names)\n",
    "plt.ylim([0,600])\n",
    "plt.savefig('Box Plot of PrimaryEnergy_Gas_2100(Generate and SR DataSet).pdf',format='pdf')\n",
    "plt.show()"
   ]
  },
  {
   "cell_type": "code",
   "execution_count": null,
   "id": "7e283d16-f6ff-4d2c-bf59-5407296aec8a",
   "metadata": {},
   "outputs": [],
   "source": [
    "#PrimaryEnergy_Oil_2100 SR data versus generated data.\n",
    "Category_names = ['1.5C','2.0C','C1234_Generate','C56_Generate','C78_Generate']\n",
    "Data_Values = [_1p5_2100[4],_2p0_2100[4],Gen_C1234[:,8,4],Gen_C56[:,8,4],Gen_C78[:,8,4]]\n",
    "box_positions = np.arange(1, len(Category_names) + 1) - 0.25\n",
    "scatter_positions = np.arange(1, len(Category_names) + 1) + 0.25\n",
    "\n",
    "colors = ['goldenrod','royalblue','brown','orangered','olive']\n",
    "plt.figure(figsize=(12,10))\n",
    "box_plot = plt.boxplot(Data_Values,showfliers=False,patch_artist=True,widths=0.25,positions=box_positions)\n",
    "for patch, color in zip(box_plot['boxes'], colors):\n",
    "    patch.set_facecolor(color)\n",
    "for median_line in box_plot['medians']:\n",
    "    median_line.set(color='black')\n",
    "# scatterplot\n",
    "for i, data in enumerate(Data_Values):\n",
    "    x = np.random.normal(scatter_positions[i], 0.05, size=len(data))\n",
    "    plt.scatter(x, data, color=colors[i], s=5.8)\n",
    "plt.xlabel('Agg-Category',fontsize=20)\n",
    "plt.ylabel('PrimaryEnergy_Oil_2100',fontsize=20)\n",
    "plt.title('Box Plot of PrimaryEnergy_Oil_2100(Generate and SR DataSet)',fontsize=25)\n",
    "# set scale\n",
    "plt.xticks(range(1, len(Category_names) + 1), Category_names)\n",
    "plt.ylim([0,400])\n",
    "plt.savefig('Box Plot of PrimaryEnergy_Oil_2100(Generate and SR DataSet).pdf',format='pdf')\n",
    "plt.show()"
   ]
  },
  {
   "cell_type": "code",
   "execution_count": null,
   "id": "5edd6a2d-7441-47cc-9246-00341236d31d",
   "metadata": {},
   "outputs": [],
   "source": [
    "#Kyoto_Gases_2100 SR data versus generated data.\n",
    "Category_names = ['1.5C','2.0C','C1234_Generate','C56_Generate','C78_Generate']\n",
    "Data_Values = [_1p5_2100[5],_2p0_2100[5],Gen_C1234[:,8,5],Gen_C56[:,8,5],Gen_C78[:,8,5]]\n",
    "box_positions = np.arange(1, len(Category_names) + 1) - 0.25\n",
    "scatter_positions = np.arange(1, len(Category_names) + 1) + 0.25\n",
    "\n",
    "colors = ['goldenrod','royalblue','brown','orangered','olive']\n",
    "plt.figure(figsize=(12,10))\n",
    "box_plot = plt.boxplot(Data_Values,showfliers=False,patch_artist=True,widths=0.25,positions=box_positions)\n",
    "for patch, color in zip(box_plot['boxes'], colors):\n",
    "    patch.set_facecolor(color)\n",
    "for median_line in box_plot['medians']:\n",
    "    median_line.set(color='black')\n",
    "# scatterplot\n",
    "for i, data in enumerate(Data_Values):\n",
    "    x = np.random.normal(scatter_positions[i], 0.05, size=len(data))\n",
    "    plt.scatter(x, data, color=colors[i], s=5.8)\n",
    "plt.xlabel('Agg-Category',fontsize=20)\n",
    "plt.ylabel('Kyoto_Gases',fontsize=20)\n",
    "plt.title('Box Plot of Kyoto_Gases_2100(Generate and SR DataSet)',fontsize=25)\n",
    "# set scale\n",
    "plt.xticks(range(1, len(Category_names) + 1), Category_names)\n",
    "plt.ylim([-25000,160000])\n",
    "plt.savefig('Box Plot of Kyoto_Gases_2100(Generate and SR DataSet).pdf',format='pdf')\n",
    "plt.show()"
   ]
  },
  {
   "cell_type": "code",
   "execution_count": null,
   "id": "4aa81eea-da3e-4c54-ae54-67c4506a5a58",
   "metadata": {},
   "outputs": [],
   "source": []
  },
  {
   "cell_type": "code",
   "execution_count": null,
   "id": "71fa376d-5e93-4235-ad28-55b73de3fd23",
   "metadata": {},
   "outputs": [],
   "source": []
  },
  {
   "cell_type": "code",
   "execution_count": null,
   "id": "f9cafd52-4675-4dce-86f7-8f9cffa3a1c5",
   "metadata": {},
   "outputs": [],
   "source": []
  },
  {
   "cell_type": "code",
   "execution_count": null,
   "id": "dcced69f-4779-475a-bdbc-53da21fa6cf1",
   "metadata": {},
   "outputs": [],
   "source": []
  },
  {
   "cell_type": "code",
   "execution_count": null,
   "id": "b406f703-9ca6-4f31-9219-299f65eded63",
   "metadata": {},
   "outputs": [],
   "source": []
  }
 ],
 "metadata": {
  "kernelspec": {
   "display_name": "Python 3 (ipykernel)",
   "language": "python",
   "name": "python3"
  },
  "language_info": {
   "codemirror_mode": {
    "name": "ipython",
    "version": 3
   },
   "file_extension": ".py",
   "mimetype": "text/x-python",
   "name": "python",
   "nbconvert_exporter": "python",
   "pygments_lexer": "ipython3",
   "version": "3.8.20"
  }
 },
 "nbformat": 4,
 "nbformat_minor": 5
}
