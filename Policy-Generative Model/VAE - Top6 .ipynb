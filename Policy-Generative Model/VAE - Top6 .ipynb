{
 "cells": [
  {
   "cell_type": "code",
   "execution_count": 1,
   "id": "3a0d24c9-86fb-4d14-b4b9-5c862b8755dc",
   "metadata": {},
   "outputs": [],
   "source": [
    "import pandas as pd\n",
    "import numpy as np\n",
    "import matplotlib.pyplot as plt\n",
    "import tsgm\n",
    "import tensorflow as tf\n",
    "from tensorflow import keras\n",
    "from tensorflow.keras import layers"
   ]
  },
  {
   "cell_type": "code",
   "execution_count": 2,
   "id": "24477b46-c3a9-4dc8-a17f-829a2c980519",
   "metadata": {},
   "outputs": [],
   "source": [
    "#Save Kyoto_Gases data (2020-2100), consider the case of C1-C8 for simplicity.\n",
    "Kyoto_Gases = pd.read_csv('Kyoto Gases.csv')\n",
    "Kyoto_Gases = Kyoto_Gases[Kyoto_Gases['Category'].isin(['C1','C2','C3','C4','C5','C6','C7','C8'])]\n",
    "mapping = {'C1':0,'C2':0,'C3':0,'C4':0,'C5':1,'C6':1,'C7':2,'C8':2}#Aggregate categories into 3 categories, with 0-2 corresponding to C123-C78, respectively\n",
    "Kyoto_Gases['Category'].replace(mapping,inplace=True)\n",
    "Kyoto_Gases.reset_index(drop=True,inplace=True)"
   ]
  },
  {
   "cell_type": "code",
   "execution_count": 3,
   "id": "1bd1ee69-c870-4b3c-a8f9-e1290bd95010",
   "metadata": {},
   "outputs": [],
   "source": [
    "Kyoto_Gases.drop(columns=['Category_name'],inplace = True)"
   ]
  },
  {
   "cell_type": "code",
   "execution_count": 4,
   "id": "52d15617-df77-4676-b977-a790b1cb1976",
   "metadata": {},
   "outputs": [],
   "source": [
    "#Load a dataset of individual variables\n",
    "CarbonSequestration = pd.read_csv('Carbon_Sequestration_CCS_imputed.csv')\n",
    "FinalEnergy_Liquid = pd.read_csv('Final Energy_Liquids.csv')\n",
    "PrimaryEnergy_Gas = pd.read_csv('Primary Energy_Gas.csv')\n",
    "PrimaryEnergy_Oil = pd.read_csv('Primary Energy_Oil.csv')\n",
    "PrimaryEnergy_Coal = pd.read_csv('PrimaryEnergy_Coal.csv')"
   ]
  },
  {
   "cell_type": "code",
   "execution_count": 5,
   "id": "0ec77099-789c-46a6-92cb-3880ea591036",
   "metadata": {},
   "outputs": [],
   "source": [
    "#Get the intersection of the models and scenarios contained in each variable\n",
    "Model_Scenario = Kyoto_Gases[['Model','Scenario']]\n",
    "Variables = [CarbonSequestration,FinalEnergy_Liquid,PrimaryEnergy_Coal,PrimaryEnergy_Gas,PrimaryEnergy_Oil]\n",
    "for variable in Variables:\n",
    "    Model_Scenario = pd.merge(Model_Scenario,variable[['Model','Scenario']],on=['Model','Scenario'],how='inner')"
   ]
  },
  {
   "cell_type": "code",
   "execution_count": 6,
   "id": "aebbf49d-536a-4493-86aa-5de2f23b4a09",
   "metadata": {},
   "outputs": [],
   "source": [
    "for i in range(len(Variables)):\n",
    "    Variables[i] = pd.merge(Model_Scenario,Variables[i],on=['Model','Scenario'],how='inner')\n",
    "for i in range(len(Variables)):\n",
    "    Variables[i].drop(columns=['Category_name'],inplace = True)"
   ]
  },
  {
   "cell_type": "code",
   "execution_count": 7,
   "id": "7b586818-3382-4e3b-8c75-f045938436fc",
   "metadata": {},
   "outputs": [],
   "source": [
    "Kyoto_Gases = pd.merge(Kyoto_Gases,Model_Scenario,on = ['Model','Scenario'],how = 'inner')"
   ]
  },
  {
   "cell_type": "code",
   "execution_count": 8,
   "id": "aaa23b77-c36a-4008-815d-0d7ef217020a",
   "metadata": {},
   "outputs": [],
   "source": [
    "Variables.append(Kyoto_Gases)\n",
    "#Variables :[CarbonSequestration,FinalEnergy_Liquid,PrimaryEnergy_Coal,PrimaryEnergy_Gas,PrimaryEnergy_Oil,Kyoto_Gases]"
   ]
  },
  {
   "cell_type": "code",
   "execution_count": 9,
   "id": "32df03b5-480d-45a5-a1e7-4eb53f36868e",
   "metadata": {},
   "outputs": [],
   "source": [
    "#Generate feature matrices, the values of each variable during 2020-2100. 9 time steps, 6 features\n",
    "#1160 is the amount of data\n",
    "X = np.zeros((1160,9,6))\n",
    "for i in range(len(Variables)):\n",
    "    Variables[i] = Variables[i].iloc[:,3:-1].values\n",
    "for i in range(1160):\n",
    "    for j in range(9):\n",
    "        for k in range(6):\n",
    "            X[i][j][k] = (Variables[k])[i,j]"
   ]
  },
  {
   "cell_type": "code",
   "execution_count": 10,
   "id": "80d8d80e-5591-4848-8ffe-c49804f46a5c",
   "metadata": {},
   "outputs": [],
   "source": [
    "Y = Kyoto_Gases['Category'].values"
   ]
  },
  {
   "cell_type": "code",
   "execution_count": 11,
   "id": "c11862c6-8896-440c-8164-07b8fc33d865",
   "metadata": {},
   "outputs": [],
   "source": [
    "#Separate datasets by category\n",
    "C1234_DataSet = X[Y == 0]\n",
    "C56_DataSet = X[Y == 1]\n",
    "C78_DataSet = X[Y == 2]"
   ]
  },
  {
   "cell_type": "code",
   "execution_count": 12,
   "id": "5916fb0c-2da1-499c-a009-75d2c56fc7c1",
   "metadata": {},
   "outputs": [],
   "source": [
    "#Define the model structure for C1234\n",
    "architecture1 = tsgm.models.zoo[\"vae_conv5\"](9, 6, 8)#Latent Dim = 8\n",
    "encoder1, decoder1 = architecture1.encoder, architecture1.decoder\n",
    "encoder1.load_weights('encoder1_weights.h5')\n",
    "decoder1.load_weights('decoder1_weights.h5')"
   ]
  },
  {
   "cell_type": "code",
   "execution_count": 13,
   "id": "78a953dd-5374-4a44-9989-d206399fc433",
   "metadata": {},
   "outputs": [],
   "source": [
    "#Standardize the data and compress it to (0, 1).\n",
    "scaler_C1234 = tsgm.utils.TSFeatureWiseScaler((0,1))        \n",
    "scaled_C1234_data = scaler_C1234.fit_transform(C1234_DataSet)"
   ]
  },
  {
   "cell_type": "code",
   "execution_count": null,
   "id": "ec3a94f2-50fe-4bbb-8ec2-47298e1b053d",
   "metadata": {},
   "outputs": [],
   "source": [
    "#Define an optimization strategy\n",
    "lr_schedule = keras.optimizers.schedules.ExponentialDecay(\n",
    "    initial_learning_rate=1e-3,\n",
    "    decay_steps=200,\n",
    "    decay_rate=0.98)\n",
    "vae_C1234 = tsgm.models.cvae.BetaVAE(encoder1, decoder1)\n",
    "vae_C1234.compile(optimizer=keras.optimizers.Adam(lr_schedule))\n",
    "vae_C1234.fit(scaled_C1234_data, epochs=2000, batch_size=50)"
   ]
  },
  {
   "cell_type": "code",
   "execution_count": 17,
   "id": "4f7052c1-a87e-40bf-a165-fb4133c21f44",
   "metadata": {},
   "outputs": [],
   "source": [
    "#Define the model structure for C56\n",
    "architecture2 = tsgm.models.zoo[\"vae_conv5\"](9, 6, 8)\n",
    "encoder2, decoder2 = architecture2.encoder, architecture2.decoder\n",
    "scaler_C56 = tsgm.utils.TSFeatureWiseScaler((0,1))    \n",
    "scaled_C56_data = scaler_C56.fit_transform(C56_DataSet)\n",
    "encoder2.load_weights('encoder2_weights.h5')\n",
    "decoder2.load_weights('decoder2_weights.h5')"
   ]
  },
  {
   "cell_type": "code",
   "execution_count": null,
   "id": "6ccc6574-cbbb-4820-8d5a-9eabc4a1ccbd",
   "metadata": {},
   "outputs": [],
   "source": [
    "lr_schedule = keras.optimizers.schedules.ExponentialDecay(\n",
    "    initial_learning_rate=1e-3,\n",
    "    decay_steps=200,\n",
    "    decay_rate=0.98)\n",
    "vae_C56 = tsgm.models.cvae.BetaVAE(encoder2, decoder2)\n",
    "vae_C56.compile(optimizer=keras.optimizers.Adam(lr_schedule))\n",
    "vae_C56.fit(scaled_C56_data, epochs=2000, batch_size=30)"
   ]
  },
  {
   "cell_type": "code",
   "execution_count": 20,
   "id": "fcb6d89c-50fa-4317-bf88-974abcf9fdeb",
   "metadata": {},
   "outputs": [],
   "source": [
    "#Define the model structure for C78\n",
    "architecture3 = tsgm.models.zoo[\"vae_conv5\"](9, 6, 8)\n",
    "encoder3, decoder3 = architecture3.encoder, architecture3.decoder\n",
    "scaler_C78 = tsgm.utils.TSFeatureWiseScaler((0,1))    \n",
    "scaled_C78_data = scaler_C78.fit_transform(C78_DataSet)\n",
    "encoder3.load_weights('encoder3_weights.h5')\n",
    "decoder3.load_weights('decoder3_weights.h5')"
   ]
  },
  {
   "cell_type": "code",
   "execution_count": null,
   "id": "434dca9b-17c9-471b-8f4a-f6b0a03d44d7",
   "metadata": {},
   "outputs": [],
   "source": [
    "vae_C78 = tsgm.models.cvae.BetaVAE(encoder3, decoder3)\n",
    "vae_C78.compile(optimizer=keras.optimizers.Adam(lr_schedule))\n",
    "vae_C78.fit(scaled_C78_data, epochs=2000, batch_size=30)"
   ]
  },
  {
   "cell_type": "code",
   "execution_count": 22,
   "id": "71fa65d5-3ca1-48f1-8bfc-f6b3775e1288",
   "metadata": {},
   "outputs": [],
   "source": [
    "#Set Global Random Seed\n",
    "global_seed = 8\n",
    "tf.random.set_seed(global_seed)\n",
    "np.random.seed(global_seed)"
   ]
  },
  {
   "cell_type": "code",
   "execution_count": 24,
   "id": "87110039-d56d-44ee-a077-03486c329ddf",
   "metadata": {},
   "outputs": [],
   "source": [
    "#Generate data using generative models (500 for each class)\n",
    "z1 = tf.random.normal((500, 8))\n",
    "z2 = tf.random.normal((500, 8))\n",
    "z3 = tf.random.normal((500, 8))\n",
    "Gen_C1234 = decoder1(z1)\n",
    "Gen_C56 = decoder2(z2)\n",
    "Gen_C78 = decoder3(z3)\n",
    "Gen_C1234 = scaler_C1234.inverse_transform(Gen_C1234)\n",
    "Gen_C56 = scaler_C56.inverse_transform(Gen_C56)\n",
    "Gen_C78 = scaler_C78.inverse_transform(Gen_C78)"
   ]
  },
  {
   "cell_type": "code",
   "execution_count": null,
   "id": "9111511e-4cd5-4c7c-95e4-3fcab6ff924d",
   "metadata": {},
   "outputs": [],
   "source": [
    "#CarbonSequestration_2050\n",
    "import matplotlib.pyplot as plt\n",
    "import seaborn as sns\n",
    "Category_names = ['C1234','C56','C78']\n",
    "Data_Values = [Gen_C1234[:,3,0],Gen_C56[:,3,0],Gen_C78[:,3,0]]\n",
    "box_positions = np.arange(1, len(Category_names) + 1) - 0.25\n",
    "scatter_positions = np.arange(1, len(Category_names) + 1) + 0.25\n",
    "\n",
    "colors = ['goldenrod','royalblue','brown','orangered','olive','green','darkcyan','blueviolet']\n",
    "plt.figure(figsize=(12,10))\n",
    "box_plot = plt.boxplot(Data_Values,showfliers=False,patch_artist=True,widths=0.15,positions=box_positions)\n",
    "for patch, color in zip(box_plot['boxes'], colors):\n",
    "    patch.set_facecolor(color)\n",
    "for median_line in box_plot['medians']:\n",
    "    median_line.set(color='black')\n",
    "# scatterplot\n",
    "for i, data in enumerate(Data_Values):\n",
    "    x = np.random.normal(scatter_positions[i], 0.05, size=len(data))\n",
    "    plt.scatter(x, data, color=colors[i], s=5.8)\n",
    "plt.xlabel('Agg-Category',fontsize=20)\n",
    "plt.ylabel('CarbonSequestration_2050',fontsize=20)\n",
    "plt.title('Box Plot of Agg-Categories for CarbonSequestration_2050_Generate',fontsize=25)\n",
    "# set scale\n",
    "plt.xticks(range(1, len(Category_names) + 1), Category_names)\n",
    "#plt.ylim([0,30000])\n",
    "#plt.savefig('Box Plot of Agg-Categories for CarbonSequestration_2050_Generate.pdf',format='pdf')\n",
    "plt.show()"
   ]
  },
  {
   "cell_type": "code",
   "execution_count": null,
   "id": "450e9fe9-754b-46aa-af61-2d0980a09b51",
   "metadata": {},
   "outputs": [],
   "source": [
    "Data_Values = [Gen_C1234[:,3,2],Gen_C56[:,3,2],Gen_C78[:,3,2]]\n",
    "box_positions = np.arange(1, len(Category_names) + 1) - 0.25\n",
    "scatter_positions = np.arange(1, len(Category_names) + 1) + 0.25\n",
    "colors = ['goldenrod','royalblue','brown','orangered','olive','green','darkcyan','blueviolet']\n",
    "plt.figure(figsize=(12,10))\n",
    "box_plot = plt.boxplot(Data_Values,showfliers=False,patch_artist=True,widths=0.15,positions=box_positions)\n",
    "for patch, color in zip(box_plot['boxes'], colors):\n",
    "    patch.set_facecolor(color)\n",
    "for median_line in box_plot['medians']:\n",
    "    median_line.set(color='black')\n",
    "# scatterplot\n",
    "for i, data in enumerate(Data_Values):\n",
    "    x = np.random.normal(scatter_positions[i], 0.05, size=len(data))\n",
    "    plt.scatter(x, data, color=colors[i], s=5.8)\n",
    "plt.xlabel('Agg-Category',fontsize=20)\n",
    "plt.ylabel('PrimaryEnergy_Coal_2050',fontsize=20)\n",
    "plt.title('Box Plot of Agg-Categories for PrimaryEnergy_Coal_2050_Generate',fontsize=25)\n",
    "# set scale\n",
    "plt.xticks(range(1, len(Category_names) + 1), Category_names)\n",
    "#plt.ylim([0,380])\n",
    "#plt.savefig('Box Plot of Agg-Categories for PrimaryEnergy_Coal_2050_Generate.pdf',format='pdf')\n",
    "plt.show()"
   ]
  },
  {
   "cell_type": "code",
   "execution_count": null,
   "id": "e3fd082f-e977-492a-b099-d644e9959f37",
   "metadata": {},
   "outputs": [],
   "source": [
    "Data_Values = [Gen_C1234[:,3,3],Gen_C56[:,3,3],Gen_C78[:,3,3]]\n",
    "box_positions = np.arange(1, len(Category_names) + 1) - 0.25\n",
    "scatter_positions = np.arange(1, len(Category_names) + 1) + 0.25\n",
    "colors = ['goldenrod','royalblue','brown','orangered','olive','green','darkcyan','blueviolet']\n",
    "plt.figure(figsize=(12,10))\n",
    "box_plot = plt.boxplot(Data_Values,showfliers=False,patch_artist=True,widths=0.15,positions=box_positions)\n",
    "for patch, color in zip(box_plot['boxes'], colors):\n",
    "    patch.set_facecolor(color)\n",
    "for median_line in box_plot['medians']:\n",
    "    median_line.set(color='black')\n",
    "# scatterplot\n",
    "for i, data in enumerate(Data_Values):\n",
    "    x = np.random.normal(scatter_positions[i], 0.05, size=len(data))\n",
    "    plt.scatter(x, data, color=colors[i], s=5.8)\n",
    "plt.xlabel('Agg-Category',fontsize=20)\n",
    "plt.ylabel('PrimaryEnergy_Gas_2050',fontsize=20)\n",
    "plt.title('Box Plot of Agg-Categories for PrimaryEnergy_Gas_2050_Generate',fontsize=25)\n",
    "# set scale\n",
    "plt.xticks(range(1, len(Category_names) + 1), Category_names)\n",
    "#plt.ylim([0,350])\n",
    "#plt.savefig('Box Plot of Agg-Categories for PrimaryEnergy_Gas_2050_Generate.pdf',format='pdf')\n",
    "plt.show()"
   ]
  },
  {
   "cell_type": "code",
   "execution_count": null,
   "id": "97b30a65-30ab-44e9-a24f-c282b0c1e21a",
   "metadata": {},
   "outputs": [],
   "source": [
    "Data_Values = [Gen_C1234[:,3,4],Gen_C56[:,3,4],Gen_C78[:,3,4]]\n",
    "box_positions = np.arange(1, len(Category_names) + 1) - 0.25\n",
    "scatter_positions = np.arange(1, len(Category_names) + 1) + 0.25\n",
    "colors = ['goldenrod','royalblue','brown','orangered','olive','green','darkcyan','blueviolet']\n",
    "plt.figure(figsize=(12,10))\n",
    "box_plot = plt.boxplot(Data_Values,showfliers=False,patch_artist=True,widths=0.15,positions=box_positions)\n",
    "for patch, color in zip(box_plot['boxes'], colors):\n",
    "    patch.set_facecolor(color)\n",
    "for median_line in box_plot['medians']:\n",
    "    median_line.set(color='black')\n",
    "# scatterplot\n",
    "for i, data in enumerate(Data_Values):\n",
    "    x = np.random.normal(scatter_positions[i], 0.05, size=len(data))\n",
    "    plt.scatter(x, data, color=colors[i], s=5.8)\n",
    "plt.xlabel('Agg-Category',fontsize=20)\n",
    "plt.ylabel('PrimaryEnergy_Oil_2050',fontsize=20)\n",
    "plt.title('Box Plot of Agg-Categories for PrimaryEnergy_Oil_2050_Generate',fontsize=25)\n",
    "# set scale\n",
    "plt.xticks(range(1, len(Category_names) + 1), Category_names)\n",
    "#plt.ylim([0,350])\n",
    "#plt.savefig('Box Plot of Agg-Categories for PrimaryEnergy_Oil_2050_Generate.pdf',format='pdf')\n",
    "plt.show()"
   ]
  },
  {
   "cell_type": "code",
   "execution_count": null,
   "id": "b586a207-5cb5-47aa-acbf-04eb77372973",
   "metadata": {},
   "outputs": [],
   "source": [
    "Data_Values = [Gen_C1234[:,3,1],Gen_C56[:,3,1],Gen_C78[:,3,1]]\n",
    "box_positions = np.arange(1, len(Category_names) + 1) - 0.25\n",
    "scatter_positions = np.arange(1, len(Category_names) + 1) + 0.25\n",
    "colors = ['goldenrod','royalblue','brown','orangered','olive','green','darkcyan','blueviolet']\n",
    "plt.figure(figsize=(12,10))\n",
    "box_plot = plt.boxplot(Data_Values,showfliers=False,patch_artist=True,widths=0.15,positions=box_positions)\n",
    "for patch, color in zip(box_plot['boxes'], colors):\n",
    "    patch.set_facecolor(color)\n",
    "for median_line in box_plot['medians']:\n",
    "    median_line.set(color='black')\n",
    "# scatterplot\n",
    "for i, data in enumerate(Data_Values):\n",
    "    x = np.random.normal(scatter_positions[i], 0.05, size=len(data))\n",
    "    plt.scatter(x, data, color=colors[i], s=5.8)\n",
    "plt.xlabel('Agg-Category',fontsize=20)\n",
    "plt.ylabel('FinalEnergy_Liquid_2050',fontsize=20)\n",
    "plt.title('Box Plot of Agg-Categories for FinalEnergy_Liquid_2050_Generate',fontsize=25)\n",
    "# set scale\n",
    "plt.xticks(range(1, len(Category_names) + 1), Category_names)\n",
    "#plt.ylim([0,350])\n",
    "#plt.savefig('Box Plot of Agg-Categories for FinalEnergy_Liquid_2050_Generate.pdf',format='pdf')\n",
    "plt.show()"
   ]
  },
  {
   "cell_type": "code",
   "execution_count": null,
   "id": "e87df0a4-72ba-40f6-94ac-e3db5a8493dc",
   "metadata": {},
   "outputs": [],
   "source": [
    "Data_Values = [Gen_C1234[:,3,5],Gen_C56[:,3,5],Gen_C78[:,3,5]]\n",
    "box_positions = np.arange(1, len(Category_names) + 1) - 0.25\n",
    "scatter_positions = np.arange(1, len(Category_names) + 1) + 0.25\n",
    "colors = ['goldenrod','royalblue','brown','orangered','olive','green','darkcyan','blueviolet']\n",
    "plt.figure(figsize=(12,10))\n",
    "box_plot = plt.boxplot(Data_Values,showfliers=False,patch_artist=True,widths=0.15,positions=box_positions)\n",
    "for patch, color in zip(box_plot['boxes'], colors):\n",
    "    patch.set_facecolor(color)\n",
    "for median_line in box_plot['medians']:\n",
    "    median_line.set(color='black')\n",
    "# scatterplot\n",
    "for i, data in enumerate(Data_Values):\n",
    "    x = np.random.normal(scatter_positions[i], 0.05, size=len(data))\n",
    "    plt.scatter(x, data, color=colors[i], s=5.8)\n",
    "plt.xlabel('Agg-Category',fontsize=20)\n",
    "plt.ylabel('Kyoto_Gases_2050',fontsize=20)\n",
    "plt.title('Box Plot of Agg-Categories for Kyoto_Gases_2050_Generate',fontsize=25)\n",
    "# set scale\n",
    "plt.xticks(range(1, len(Category_names) + 1), Category_names)\n",
    "#plt.ylim([0,350])\n",
    "#plt.savefig('Box Plot of Agg-Categories for FinalEnergy_Liquid_2050_Generate.pdf',format='pdf')\n",
    "plt.show()"
   ]
  },
  {
   "cell_type": "code",
   "execution_count": null,
   "id": "7da3e012-fcc0-455a-8a79-6d79c5ba0858",
   "metadata": {},
   "outputs": [],
   "source": [
    "#PrimaryEnergy_Coal_2100\n",
    "Data_Values = [Gen_C1234[:,8,2],Gen_C56[:,8,2],Gen_C78[:,8,2]]\n",
    "box_positions = np.arange(1, len(Category_names) + 1) - 0.25\n",
    "scatter_positions = np.arange(1, len(Category_names) + 1) + 0.25\n",
    "\n",
    "colors = ['goldenrod','royalblue','brown','orangered','olive','green','darkcyan','blueviolet']\n",
    "plt.figure(figsize=(12,10))\n",
    "box_plot = plt.boxplot(Data_Values,showfliers=False,patch_artist=True,widths=0.15,positions=box_positions)\n",
    "for patch, color in zip(box_plot['boxes'], colors):\n",
    "    patch.set_facecolor(color)\n",
    "for median_line in box_plot['medians']:\n",
    "    median_line.set(color='black')\n",
    "# scatterplot\n",
    "for i, data in enumerate(Data_Values):\n",
    "    x = np.random.normal(scatter_positions[i], 0.05, size=len(data))\n",
    "    plt.scatter(x, data, color=colors[i], s=5.8)\n",
    "plt.xlabel('Agg-Category',fontsize=20)\n",
    "plt.ylabel('PrimaryEnergy_Coal_2100',fontsize=20)\n",
    "plt.title('Box Plot of Agg-Categories for PrimaryEnergy_Coal_2100_Generate',fontsize=25)\n",
    "# set scale\n",
    "plt.xticks(range(1, len(Category_names) + 1), Category_names)\n",
    "#plt.ylim([0,780])\n",
    "#plt.savefig('Box Plot of Agg-Categories for PrimaryEnergy_Coal_2100_Generate.pdf',format='pdf')\n",
    "plt.show()"
   ]
  },
  {
   "cell_type": "code",
   "execution_count": null,
   "id": "95ecc3a1-ad92-48a1-8526-11bbb5d70dd1",
   "metadata": {},
   "outputs": [],
   "source": [
    "#PrimaryEnergy_Gas_2100\n",
    "Data_Values = [Gen_C1234[:,8,3],Gen_C56[:,8,3],Gen_C78[:,8,3]]\n",
    "box_positions = np.arange(1, len(Category_names) + 1) - 0.25\n",
    "scatter_positions = np.arange(1, len(Category_names) + 1) + 0.25\n",
    "\n",
    "colors = ['goldenrod','royalblue','brown','orangered','olive','green','darkcyan','blueviolet']\n",
    "plt.figure(figsize=(12,10))\n",
    "box_plot = plt.boxplot(Data_Values,showfliers=False,patch_artist=True,widths=0.15,positions=box_positions)\n",
    "for patch, color in zip(box_plot['boxes'], colors):\n",
    "    patch.set_facecolor(color)\n",
    "for median_line in box_plot['medians']:\n",
    "    median_line.set(color='black')\n",
    "# scatterplot\n",
    "for i, data in enumerate(Data_Values):\n",
    "    x = np.random.normal(scatter_positions[i], 0.05, size=len(data))\n",
    "    plt.scatter(x, data, color=colors[i], s=5.8)\n",
    "plt.xlabel('Agg-Category',fontsize=20)\n",
    "plt.ylabel('PrimaryEnergy_Gas_2100',fontsize=20)\n",
    "plt.title('Box Plot of Agg-Categories for PrimaryEnergy_Gas_2100_Generate',fontsize=25)\n",
    "# set scale\n",
    "plt.xticks(range(1, len(Category_names) + 1), Category_names)\n",
    "#plt.ylim([0,380])\n",
    "#plt.savefig('Box Plot of Agg-Categories for PrimaryEnergy_Gas_2100_Generate.pdf',format='pdf')\n",
    "plt.show()"
   ]
  },
  {
   "cell_type": "code",
   "execution_count": null,
   "id": "0cbe2b4f-0f8d-4b33-89ff-711a8d4b3ad9",
   "metadata": {},
   "outputs": [],
   "source": [
    "#PrimaryEnergy_Oil_2100\n",
    "Data_Values = [Gen_C1234[:,8,4],Gen_C56[:,8,4],Gen_C78[:,8,4]]\n",
    "box_positions = np.arange(1, len(Category_names) + 1) - 0.25\n",
    "scatter_positions = np.arange(1, len(Category_names) + 1) + 0.25\n",
    "\n",
    "colors = ['goldenrod','royalblue','brown','orangered','olive','green','darkcyan','blueviolet']\n",
    "plt.figure(figsize=(12,10))\n",
    "box_plot = plt.boxplot(Data_Values,showfliers=False,patch_artist=True,widths=0.15,positions=box_positions)\n",
    "for patch, color in zip(box_plot['boxes'], colors):\n",
    "    patch.set_facecolor(color)\n",
    "for median_line in box_plot['medians']:\n",
    "    median_line.set(color='black')\n",
    "# scatterplot\n",
    "for i, data in enumerate(Data_Values):\n",
    "    x = np.random.normal(scatter_positions[i], 0.05, size=len(data))\n",
    "    plt.scatter(x, data, color=colors[i], s=5.8)\n",
    "plt.xlabel('Agg-Category',fontsize=20)\n",
    "plt.ylabel('PrimaryEnergy_Oil_2100',fontsize=20)\n",
    "plt.title('Box Plot of Agg-Categories for PrimaryEnergy_Oil_2100_Generate',fontsize=25)\n",
    "# set scale\n",
    "plt.xticks(range(1, len(Category_names) + 1), Category_names)\n",
    "#plt.ylim([0,300])\n",
    "#plt.savefig('Box Plot of Agg-Categories for PrimaryEnergy_Oil_2100_Generate.pdf',format='pdf')\n",
    "plt.show()"
   ]
  },
  {
   "cell_type": "code",
   "execution_count": null,
   "id": "60de4043-ded2-4224-a066-907ea7130e8b",
   "metadata": {},
   "outputs": [],
   "source": [
    "#CarbonSequestration_2100\n",
    "Data_Values = [Gen_C1234[:,8,0],Gen_C56[:,8,0],Gen_C78[:,8,0]]\n",
    "box_positions = np.arange(1, len(Category_names) + 1) - 0.25\n",
    "scatter_positions = np.arange(1, len(Category_names) + 1) + 0.25\n",
    "\n",
    "colors = ['goldenrod','royalblue','brown','orangered','olive','green','darkcyan','blueviolet']\n",
    "plt.figure(figsize=(12,10))\n",
    "box_plot = plt.boxplot(Data_Values,showfliers=False,patch_artist=True,widths=0.15,positions=box_positions)\n",
    "for patch, color in zip(box_plot['boxes'], colors):\n",
    "    patch.set_facecolor(color)\n",
    "for median_line in box_plot['medians']:\n",
    "    median_line.set(color='black')\n",
    "# scatterplot\n",
    "for i, data in enumerate(Data_Values):\n",
    "    x = np.random.normal(scatter_positions[i], 0.05, size=len(data))\n",
    "    plt.scatter(x, data, color=colors[i], s=5.8)\n",
    "plt.xlabel('Agg-Category',fontsize=20)\n",
    "plt.ylabel('CarbonSequestration_2100',fontsize=20)\n",
    "plt.title('Box Plot of Agg-Categories for CarbonSequestration_2100_Generate',fontsize=25)\n",
    "# set scale\n",
    "plt.xticks(range(1, len(Category_names) + 1), Category_names)\n",
    "#plt.ylim([0,40000])\n",
    "#plt.savefig('Box Plot of Agg-Categories for CarbonSequestration_2100_Generate.pdf',format='pdf')\n",
    "plt.show()"
   ]
  },
  {
   "cell_type": "code",
   "execution_count": null,
   "id": "66cd925c-ea12-4850-acb9-ae27af6b6e40",
   "metadata": {},
   "outputs": [],
   "source": [
    "#FinalEnergy_Liquid_2100\n",
    "Data_Values = [Gen_C1234[:,8,1],Gen_C56[:,8,1],Gen_C78[:,8,1]]\n",
    "box_positions = np.arange(1, len(Category_names) + 1) - 0.25\n",
    "scatter_positions = np.arange(1, len(Category_names) + 1) + 0.25\n",
    "\n",
    "colors = ['goldenrod','royalblue','brown','orangered','olive','green','darkcyan','blueviolet']\n",
    "plt.figure(figsize=(12,10))\n",
    "box_plot = plt.boxplot(Data_Values,showfliers=False,patch_artist=True,widths=0.15,positions=box_positions)\n",
    "for patch, color in zip(box_plot['boxes'], colors):\n",
    "    patch.set_facecolor(color)\n",
    "for median_line in box_plot['medians']:\n",
    "    median_line.set(color='black')\n",
    "# scatterplot\n",
    "for i, data in enumerate(Data_Values):\n",
    "    x = np.random.normal(scatter_positions[i], 0.05, size=len(data))\n",
    "    plt.scatter(x, data, color=colors[i], s=5.8)\n",
    "plt.xlabel('Agg-Category',fontsize=20)\n",
    "plt.ylabel('FinalEnergy_Liquid_2100',fontsize=20)\n",
    "plt.title('Box Plot of Agg-Categories for FinalEnergy_Liquid_2100_Generate',fontsize=25)\n",
    "# set scale\n",
    "plt.xticks(range(1, len(Category_names) + 1), Category_names)\n",
    "#plt.ylim([0,380])\n",
    "#plt.savefig('Box Plot of Agg-Categories for FinalEnergy_Liquid_2100_Generate.pdf',format='pdf')\n",
    "plt.show()"
   ]
  },
  {
   "cell_type": "code",
   "execution_count": null,
   "id": "c5aca7d9-0bed-469e-850d-6a87e8c08a1f",
   "metadata": {},
   "outputs": [],
   "source": [
    "#Kyoto_Gases_2100\n",
    "Data_Values = [Gen_C1234[:,8,5],Gen_C56[:,8,5],Gen_C78[:,8,5]]\n",
    "box_positions = np.arange(1, len(Category_names) + 1) - 0.25\n",
    "scatter_positions = np.arange(1, len(Category_names) + 1) + 0.25\n",
    "\n",
    "colors = ['goldenrod','royalblue','brown','orangered','olive','green','darkcyan','blueviolet']\n",
    "plt.figure(figsize=(12,10))\n",
    "box_plot = plt.boxplot(Data_Values,showfliers=False,patch_artist=True,widths=0.15,positions=box_positions)\n",
    "for patch, color in zip(box_plot['boxes'], colors):\n",
    "    patch.set_facecolor(color)\n",
    "for median_line in box_plot['medians']:\n",
    "    median_line.set(color='black')\n",
    "# scatterplot\n",
    "for i, data in enumerate(Data_Values):\n",
    "    x = np.random.normal(scatter_positions[i], 0.05, size=len(data))\n",
    "    plt.scatter(x, data, color=colors[i], s=5.8)\n",
    "plt.xlabel('Agg-Category',fontsize=20)\n",
    "plt.ylabel('Kyoto_Gases_2100',fontsize=20)\n",
    "plt.title('Box Plot of Agg-Categories for Kyoto_Gases_2100_Generate',fontsize=25)\n",
    "# set scale\n",
    "plt.xticks(range(1, len(Category_names) + 1), Category_names)\n",
    "#plt.ylim([0,380])\n",
    "#plt.savefig('Box Plot of Agg-Categories for FinalEnergy_Liquid_2100_Generate.pdf',format='pdf')\n",
    "plt.show()"
   ]
  },
  {
   "cell_type": "code",
   "execution_count": 38,
   "id": "d9a48508-9263-4dd4-935e-818e84f52236",
   "metadata": {},
   "outputs": [],
   "source": [
    "encoder1.save_weights('Policy-encoder1_weights-top6.h5')\n",
    "encoder2.save_weights('Policy-encoder2_weights-top6.h5')\n",
    "encoder3.save_weights('Policy-encoder3_weights-top6.h5')\n",
    "decoder1.save_weights('Policy-decoder1_weights-top6.h5')\n",
    "decoder2.save_weights('Policy-decoder2_weights-top6.h5')\n",
    "decoder3.save_weights('Policy-decoder3_weights-top6.h5')"
   ]
  },
  {
   "cell_type": "code",
   "execution_count": null,
   "id": "cde502df-bdce-4781-878a-89845ba9b8de",
   "metadata": {},
   "outputs": [],
   "source": []
  },
  {
   "cell_type": "code",
   "execution_count": null,
   "id": "30cff09c-a8bb-4884-902a-a91c15a1c5b4",
   "metadata": {},
   "outputs": [],
   "source": []
  }
 ],
 "metadata": {
  "kernelspec": {
   "display_name": "Python 3 (ipykernel)",
   "language": "python",
   "name": "python3"
  },
  "language_info": {
   "codemirror_mode": {
    "name": "ipython",
    "version": 3
   },
   "file_extension": ".py",
   "mimetype": "text/x-python",
   "name": "python",
   "nbconvert_exporter": "python",
   "pygments_lexer": "ipython3",
   "version": "3.8.20"
  }
 },
 "nbformat": 4,
 "nbformat_minor": 5
}
