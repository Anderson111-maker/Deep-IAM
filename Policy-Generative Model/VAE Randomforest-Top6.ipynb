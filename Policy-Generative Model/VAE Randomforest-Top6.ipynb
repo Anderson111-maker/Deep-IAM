{
 "cells": [
  {
   "cell_type": "code",
   "execution_count": 1,
   "id": "eeeb73b0-68a8-4697-886a-36fbd01557f8",
   "metadata": {},
   "outputs": [],
   "source": [
    "import pandas as pd\n",
    "import numpy as np\n",
    "import matplotlib.pyplot as plt\n",
    "import tsgm\n",
    "import tensorflow as tf\n",
    "from tensorflow import keras\n",
    "#from tensorflow.keras import layers"
   ]
  },
  {
   "cell_type": "code",
   "execution_count": 2,
   "id": "426726c2-5b18-4650-b095-cd46413b6122",
   "metadata": {},
   "outputs": [],
   "source": [
    "#Set Global Random Seed\n",
    "global_seed = 3\n",
    "tf.random.set_seed(global_seed)\n",
    "np.random.seed(global_seed)"
   ]
  },
  {
   "cell_type": "code",
   "execution_count": 3,
   "id": "07fad4f3-54d8-487c-942b-ff98b7eccbe8",
   "metadata": {},
   "outputs": [],
   "source": [
    "#Save Kyoto_Gases data (2020-2100), consider the case of C1-C8 for simplicity.\n",
    "Kyoto_Gases = pd.read_csv('Kyoto Gases.csv')\n",
    "Kyoto_Gases = Kyoto_Gases[Kyoto_Gases['Category'].isin(['C1','C2','C3','C4','C5','C6','C7','C8'])]\n",
    "mapping = {'C1':0,'C2':0,'C3':0,'C4':0,'C5':1,'C6':1,'C7':2,'C8':2}\n",
    "Kyoto_Gases['Category'].replace(mapping,inplace=True)\n",
    "Kyoto_Gases.reset_index(drop=True,inplace=True)"
   ]
  },
  {
   "cell_type": "code",
   "execution_count": 4,
   "id": "e89b79ef-9d56-4ac6-9d25-bd228695abff",
   "metadata": {},
   "outputs": [],
   "source": [
    "Kyoto_Gases.drop(columns=['Category_name'],inplace = True)"
   ]
  },
  {
   "cell_type": "code",
   "execution_count": 5,
   "id": "f0260d79-caef-449f-b3ed-4b5386ae5c11",
   "metadata": {},
   "outputs": [],
   "source": [
    "#Load a dataset of individual variables\n",
    "CarbonSequestration = pd.read_csv('Carbon_Sequestration_CCS_imputed.csv')\n",
    "FinalEnergy_Liquid = pd.read_csv('Final Energy_Liquids.csv')\n",
    "PrimaryEnergy_Gas = pd.read_csv('Primary Energy_Gas.csv')\n",
    "PrimaryEnergy_Oil = pd.read_csv('Primary Energy_Oil.csv')\n",
    "PrimaryEnergy_Coal = pd.read_csv('PrimaryEnergy_Coal.csv')"
   ]
  },
  {
   "cell_type": "code",
   "execution_count": 6,
   "id": "196b8c35-597c-4475-b66a-fc4a7b3e4a65",
   "metadata": {},
   "outputs": [],
   "source": [
    "#Get the intersection of the models and scenarios contained in each variable\n",
    "Model_Scenario = Kyoto_Gases[['Model','Scenario']]\n",
    "Variables = [CarbonSequestration,FinalEnergy_Liquid,PrimaryEnergy_Coal,PrimaryEnergy_Gas,PrimaryEnergy_Oil]\n",
    "for variable in Variables:\n",
    "    Model_Scenario = pd.merge(Model_Scenario,variable[['Model','Scenario']],on=['Model','Scenario'],how='inner')"
   ]
  },
  {
   "cell_type": "code",
   "execution_count": 7,
   "id": "b448db81-676b-4b61-80a6-f97646a1d559",
   "metadata": {},
   "outputs": [],
   "source": [
    "for i in range(len(Variables)):\n",
    "    Variables[i] = pd.merge(Model_Scenario,Variables[i],on=['Model','Scenario'],how='inner')\n",
    "for i in range(len(Variables)):\n",
    "    Variables[i].drop(columns=['Category_name'],inplace = True)"
   ]
  },
  {
   "cell_type": "code",
   "execution_count": 8,
   "id": "f380897a-5a29-4e00-91f5-7aec2baa4e8e",
   "metadata": {},
   "outputs": [],
   "source": [
    "Kyoto_Gases = pd.merge(Kyoto_Gases,Model_Scenario,on = ['Model','Scenario'],how = 'inner')"
   ]
  },
  {
   "cell_type": "code",
   "execution_count": 9,
   "id": "b35fcd97-142b-4bad-8198-ea5818851c29",
   "metadata": {},
   "outputs": [],
   "source": [
    "#Variables [CarbonSequestration,FinalEnergy_Liquid,PrimaryEnergy_Coal,PrimaryEnergy_Gas,PrimaryEnergy_Oil,Kyoto_Gases]\n",
    "Variables.append(Kyoto_Gases)"
   ]
  },
  {
   "cell_type": "code",
   "execution_count": 10,
   "id": "2b4c8a51-721c-405a-bf9e-680aecb58b7f",
   "metadata": {},
   "outputs": [],
   "source": [
    "#Generate feature matrices, the values of each variable during 2020-2100. 9 time steps, 6 features\n",
    "#1160 is the amount of data\n",
    "X = np.zeros((1160,9,6))\n",
    "for i in range(len(Variables)):\n",
    "    Variables[i] = Variables[i].iloc[:,3:-1].values\n",
    "for i in range(1160):\n",
    "    for j in range(9):\n",
    "        for k in range(6):\n",
    "            X[i][j][k] = (Variables[k])[i,j]"
   ]
  },
  {
   "cell_type": "code",
   "execution_count": 11,
   "id": "e87bd88d-9030-4e6d-b16a-7f924ffee32b",
   "metadata": {},
   "outputs": [],
   "source": [
    "Y = Kyoto_Gases['Category'].values"
   ]
  },
  {
   "cell_type": "code",
   "execution_count": 12,
   "id": "e59ffab2-fa0c-4d9d-8531-92a0655fa2e1",
   "metadata": {},
   "outputs": [],
   "source": [
    "#Separate datasets by category.\n",
    "C1234_DataSet = X[Y == 0]\n",
    "C56_DataSet = X[Y == 1]\n",
    "C78_DataSet = X[Y == 2]"
   ]
  },
  {
   "cell_type": "code",
   "execution_count": 13,
   "id": "6b2e6043-1a14-4af3-965d-01b91238b147",
   "metadata": {},
   "outputs": [],
   "source": [
    "architecture1 = tsgm.models.zoo[\"vae_conv5\"](9, 6, 8)#Latent Dim = 8\n",
    "encoder1, decoder1 = architecture1.encoder, architecture1.decoder"
   ]
  },
  {
   "cell_type": "code",
   "execution_count": 14,
   "id": "afb375df-0687-4f19-aac4-60efdbb84663",
   "metadata": {},
   "outputs": [],
   "source": [
    "scaler_C1234 = tsgm.utils.TSFeatureWiseScaler((0,1))        \n",
    "scaled_C1234_data = scaler_C1234.fit_transform(C1234_DataSet)"
   ]
  },
  {
   "cell_type": "code",
   "execution_count": 15,
   "id": "bb79a554-969a-4544-884f-ea258ce6c445",
   "metadata": {},
   "outputs": [],
   "source": [
    "architecture2 = tsgm.models.zoo[\"vae_conv5\"](9, 6, 8)\n",
    "encoder2, decoder2 = architecture2.encoder, architecture2.decoder\n",
    "scaler_C56 = tsgm.utils.TSFeatureWiseScaler((0,1))    \n",
    "scaled_C56_data = scaler_C56.fit_transform(C56_DataSet)"
   ]
  },
  {
   "cell_type": "code",
   "execution_count": 16,
   "id": "ca3ab53a-4074-4872-b9dd-b9a9276caf18",
   "metadata": {},
   "outputs": [],
   "source": [
    "architecture3 = tsgm.models.zoo[\"vae_conv5\"](9, 6, 8)\n",
    "encoder3, decoder3 = architecture3.encoder, architecture3.decoder\n",
    "scaler_C78 = tsgm.utils.TSFeatureWiseScaler((0,1))    \n",
    "scaled_C78_data = scaler_C78.fit_transform(C78_DataSet)"
   ]
  },
  {
   "cell_type": "code",
   "execution_count": 17,
   "id": "41ca0daf-eba1-4d0f-b308-d72ed0fb0bf7",
   "metadata": {},
   "outputs": [],
   "source": [
    "#Load model parameters\n",
    "encoder1.load_weights('Policy-encoder1_weights-top6.h5')\n",
    "encoder2.load_weights('Policy-encoder2_weights-top6.h5')\n",
    "encoder3.load_weights('Policy-encoder3_weights-top6.h5')\n",
    "decoder1.load_weights('Policy-decoder1_weights-top6.h5')\n",
    "decoder2.load_weights('Policy-decoder2_weights-top6.h5')\n",
    "decoder3.load_weights('Policy-decoder3_weights-top6.h5')"
   ]
  },
  {
   "cell_type": "code",
   "execution_count": 18,
   "id": "c9693335-2ed4-4353-b4da-6a4ca0bfb907",
   "metadata": {},
   "outputs": [],
   "source": [
    "#Generate data using generative models (500 for each class)\n",
    "z1 = tf.random.normal((1000, 8))\n",
    "z2 = tf.random.normal((1000, 8))\n",
    "z3 = tf.random.normal((1000, 8))\n",
    "Gen_C1234 = decoder1(z1)\n",
    "Gen_C56 = decoder2(z2)\n",
    "Gen_C78 = decoder3(z3)\n",
    "Gen_C1234 = scaler_C1234.inverse_transform(Gen_C1234)\n",
    "Gen_C56 = scaler_C56.inverse_transform(Gen_C56)\n",
    "Gen_C78 = scaler_C78.inverse_transform(Gen_C78)"
   ]
  },
  {
   "cell_type": "code",
   "execution_count": null,
   "id": "753faeb3-24f5-4328-8159-093f8a3d12b7",
   "metadata": {},
   "outputs": [],
   "source": [
    "Gen_Data = np.concatenate((Gen_C1234,Gen_C56,Gen_C78),axis=0)\n",
    "Gen_Labels = np.zeros(3000)\n",
    "Gen_Labels[1000:2000] = 1\n",
    "Gen_Labels[2000:] = 2\n",
    "Gen_Labels.astype(np.int32)"
   ]
  },
  {
   "cell_type": "code",
   "execution_count": 20,
   "id": "299fc944-ca89-4f8b-a347-edaa91daa04a",
   "metadata": {},
   "outputs": [],
   "source": [
    "from sklearn.ensemble import RandomForestClassifier\n",
    "from sklearn.model_selection import train_test_split,GridSearchCV\n",
    "from sklearn.metrics import accuracy_score\n",
    "from sklearn.metrics import classification_report"
   ]
  },
  {
   "cell_type": "code",
   "execution_count": 21,
   "id": "27b0dcf8-4320-40b5-882a-7e498707602d",
   "metadata": {},
   "outputs": [],
   "source": [
    "#Compute the cumulative value of the five input variables as a feature of the real dataset\n",
    "features_names = ['CarbonSequestration','FinalEnergy_Liquid','PrimaryEnergy_Coal','PrimaryEnergy_Gas','PrimaryEnergy_Oil']\n",
    "Real_Data_Sum = np.zeros((1160,5))\n",
    "for i in range(1160):#1160 :amount of data\n",
    "    for j in range(5):#5 feature dimension\n",
    "        for k in range(8):#time step\n",
    "            Real_Data_Sum[i][j] += (X[i,k,j] + X[i,k+1,j]) * 5"
   ]
  },
  {
   "cell_type": "code",
   "execution_count": 22,
   "id": "97a578e3-f22a-49e5-8a5f-073556b77e56",
   "metadata": {},
   "outputs": [],
   "source": [
    "Real_DataSet = pd.DataFrame(Real_Data_Sum,columns=features_names)"
   ]
  },
  {
   "cell_type": "code",
   "execution_count": 23,
   "id": "67c46698-ab9f-469b-9e06-42fea31a66ae",
   "metadata": {},
   "outputs": [],
   "source": [
    "#Construct the feature matrix of the feature cumulative values of the generated dataset\n",
    "Gen_Data_Sum = np.zeros((3000,5))\n",
    "for i in range(3000):#3000 :amount of data\n",
    "    for j in range(5):#5 ：feature dimension\n",
    "        for k in range(8):#time step\n",
    "            Gen_Data_Sum[i][j] += (Gen_Data[i,k,j] + Gen_Data[i,k+1,j]) * 5"
   ]
  },
  {
   "cell_type": "code",
   "execution_count": 24,
   "id": "c2f65333-fec6-4fdd-85d7-c85ef7635f7d",
   "metadata": {},
   "outputs": [],
   "source": [
    "Gen_DataSet = pd.DataFrame(Gen_Data_Sum,columns=features_names)"
   ]
  },
  {
   "cell_type": "code",
   "execution_count": 25,
   "id": "458f4010-bdb5-4f5f-9c15-c40fe5e4bf9f",
   "metadata": {},
   "outputs": [],
   "source": [
    "#First train the model with real datasets to predict the generated data.Cross-validation using grid search\n",
    "R_G = RandomForestClassifier(random_state=42)\n",
    "parameters_1 = {\n",
    "    'n_estimators':[10,100,500,1000],\n",
    "    'max_depth':[6,8,10,12,14,16],\n",
    "    'min_samples_split':[3,4,5,6]\n",
    "}"
   ]
  },
  {
   "cell_type": "code",
   "execution_count": 26,
   "id": "e332c5ec-414a-4edf-9651-1f964086539d",
   "metadata": {},
   "outputs": [],
   "source": [
    "clf_RG = GridSearchCV(R_G,parameters_1,cv=3,n_jobs=-1,verbose=2)"
   ]
  },
  {
   "cell_type": "code",
   "execution_count": null,
   "id": "04faa6fd-cd90-4cce-8e4c-a247758d105e",
   "metadata": {},
   "outputs": [],
   "source": [
    "clf_RG.fit(Real_DataSet,Y)"
   ]
  },
  {
   "cell_type": "code",
   "execution_count": null,
   "id": "b1e2c803-b5a7-49ef-b9f5-b9d8c3348fba",
   "metadata": {},
   "outputs": [],
   "source": [
    "print('Best parameters found:')\n",
    "print(clf_RG.best_params_)"
   ]
  },
  {
   "cell_type": "code",
   "execution_count": null,
   "id": "549368f0-d506-40bd-b069-c275e1ce41eb",
   "metadata": {},
   "outputs": [],
   "source": [
    "y_pred = clf_RG.predict(Real_DataSet)\n",
    "print(f\"Test results on the training dataset：\")\n",
    "print(classification_report(Y,y_pred,target_names=['C1234','C56','C78']))"
   ]
  },
  {
   "cell_type": "code",
   "execution_count": null,
   "id": "c48243cd-8c6c-4f4e-b88d-79a4a19d6b2a",
   "metadata": {},
   "outputs": [],
   "source": [
    "y_pred = clf_RG.predict(Gen_DataSet)\n",
    "print(f\"Test results on the test set：\")\n",
    "print(classification_report(Gen_Labels,y_pred,target_names=['C1234','C56','C78']))"
   ]
  },
  {
   "cell_type": "code",
   "execution_count": 31,
   "id": "b9148c52-78f3-4679-8e6c-f8f25b61c2a6",
   "metadata": {},
   "outputs": [],
   "source": [
    "#Use the generated dataset to train models to predict real data\n",
    "G_R = RandomForestClassifier(random_state=42)\n",
    "parameters_2 = {\n",
    "    'n_estimators':[10,100,200,500,1000],\n",
    "    'max_depth':[6,8,10,12,14,16],\n",
    "    'min_samples_split':[3,4,5,6]\n",
    "}"
   ]
  },
  {
   "cell_type": "code",
   "execution_count": 32,
   "id": "212761fb-1a21-419a-8f26-07975c83b694",
   "metadata": {},
   "outputs": [],
   "source": [
    "clf_GR = GridSearchCV(G_R,parameters_2,cv=3,n_jobs=-1,verbose=2)"
   ]
  },
  {
   "cell_type": "code",
   "execution_count": null,
   "id": "e69a8bc0-e32a-4d51-bb1b-4decad428e46",
   "metadata": {},
   "outputs": [],
   "source": [
    "clf_GR.fit(Gen_DataSet,Gen_Labels)\n",
    "print('Best parameters found:')\n",
    "print(clf_GR.best_params_)"
   ]
  },
  {
   "cell_type": "code",
   "execution_count": null,
   "id": "1ba914c1-f7e6-46f2-a515-712fa10a5ca4",
   "metadata": {},
   "outputs": [],
   "source": [
    "y_pred = clf_GR.predict(Gen_DataSet)\n",
    "print(f\"Test results on the training dataset：\")\n",
    "print(classification_report(Gen_Labels,y_pred,target_names=['C1234','C56','C78']))"
   ]
  },
  {
   "cell_type": "code",
   "execution_count": null,
   "id": "f83d8b65-9476-453a-9d04-6ca7874ccc50",
   "metadata": {},
   "outputs": [],
   "source": [
    "y_pred = clf_GR.predict(Real_DataSet)\n",
    "print(f\"Test results on the test set：\")\n",
    "print(classification_report(Y,y_pred,target_names=['C1234','C56','C78']))"
   ]
  },
  {
   "cell_type": "code",
   "execution_count": null,
   "id": "df5391f7-8612-4970-a386-17d57a99a24f",
   "metadata": {},
   "outputs": [],
   "source": []
  }
 ],
 "metadata": {
  "kernelspec": {
   "display_name": "Python 3 (ipykernel)",
   "language": "python",
   "name": "python3"
  },
  "language_info": {
   "codemirror_mode": {
    "name": "ipython",
    "version": 3
   },
   "file_extension": ".py",
   "mimetype": "text/x-python",
   "name": "python",
   "nbconvert_exporter": "python",
   "pygments_lexer": "ipython3",
   "version": "3.8.20"
  }
 },
 "nbformat": 4,
 "nbformat_minor": 5
}
