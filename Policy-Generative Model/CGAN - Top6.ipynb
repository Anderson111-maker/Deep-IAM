{
 "cells": [
  {
   "cell_type": "code",
   "execution_count": 1,
   "id": "initial_id",
   "metadata": {
    "ExecuteTime": {
     "end_time": "2024-11-10T15:35:17.887754Z",
     "start_time": "2024-11-10T15:35:11.393495900Z"
    },
    "collapsed": true,
    "jupyter": {
     "outputs_hidden": true
    }
   },
   "outputs": [],
   "source": [
    "import pandas as pd\n",
    "import numpy as np\n",
    "import matplotlib.pyplot as plt\n",
    "import tsgm\n",
    "import tensorflow as tf\n",
    "from tensorflow import keras\n"
   ]
  },
  {
   "cell_type": "code",
   "execution_count": 2,
   "id": "176ae016044837dd",
   "metadata": {
    "ExecuteTime": {
     "end_time": "2024-11-10T15:35:17.898440700Z",
     "start_time": "2024-11-10T15:35:17.882960Z"
    },
    "collapsed": false,
    "jupyter": {
     "outputs_hidden": false
    }
   },
   "outputs": [],
   "source": [
    "#Save Kyoto_Gases data (2020-2100), consider the case of C1-C8 for simplicity.\n",
    "Kyoto_Gases = pd.read_csv('Kyoto Gases.csv')\n",
    "Kyoto_Gases = Kyoto_Gases[Kyoto_Gases['Category'].isin(['C1','C2','C3','C4','C5','C6','C7','C8'])]\n",
    "mapping = {'C1':0,'C2':0,'C3':0,'C4':0,'C5':1,'C6':1,'C7':2,'C8':2}#Aggregate categories into 3 categories, with 0-2 corresponding to C1234-C78, respectively\n",
    "Kyoto_Gases['Category'].replace(mapping,inplace=True)\n",
    "Kyoto_Gases.reset_index(drop=True,inplace=True)\n",
    "Kyoto_Gases.drop(columns=['Category_name'],inplace = True)"
   ]
  },
  {
   "cell_type": "code",
   "execution_count": 3,
   "id": "e7e79636100737d9",
   "metadata": {
    "ExecuteTime": {
     "end_time": "2024-11-10T15:35:17.948389400Z",
     "start_time": "2024-11-10T15:35:17.897443700Z"
    },
    "collapsed": false,
    "jupyter": {
     "outputs_hidden": false
    }
   },
   "outputs": [],
   "source": [
    "#Load a dataset of individual variables\n",
    "CarbonSequestration = pd.read_csv('Carbon_Sequestration_CCS_imputed.csv')\n",
    "FinalEnergy_Liquid = pd.read_csv('Final Energy_Liquids.csv')\n",
    "PrimaryEnergy_Gas = pd.read_csv('Primary Energy_Gas.csv')\n",
    "PrimaryEnergy_Oil = pd.read_csv('Primary Energy_Oil.csv')\n",
    "PrimaryEnergy_Coal = pd.read_csv('PrimaryEnergy_Coal.csv')"
   ]
  },
  {
   "cell_type": "code",
   "execution_count": 4,
   "id": "3b0519711d806746",
   "metadata": {
    "ExecuteTime": {
     "end_time": "2024-11-10T15:35:17.960155Z",
     "start_time": "2024-11-10T15:35:17.944398800Z"
    },
    "collapsed": false,
    "jupyter": {
     "outputs_hidden": false
    }
   },
   "outputs": [],
   "source": [
    "#Get the intersection of the models and scenarios contained in each variable\n",
    "Model_Scenario = Kyoto_Gases[['Model','Scenario']]\n",
    "Variables = [CarbonSequestration,FinalEnergy_Liquid,PrimaryEnergy_Coal,PrimaryEnergy_Gas,PrimaryEnergy_Oil]\n",
    "for variable in Variables:\n",
    "    Model_Scenario = pd.merge(Model_Scenario,variable[['Model','Scenario']],on=['Model','Scenario'],how='inner')"
   ]
  },
  {
   "cell_type": "code",
   "execution_count": 5,
   "id": "d28addcadcf8a9c2",
   "metadata": {
    "ExecuteTime": {
     "end_time": "2024-11-10T15:35:17.978090500Z",
     "start_time": "2024-11-10T15:35:17.961147800Z"
    },
    "collapsed": false,
    "jupyter": {
     "outputs_hidden": false
    }
   },
   "outputs": [],
   "source": [
    "for i in range(len(Variables)):\n",
    "    Variables[i] = pd.merge(Model_Scenario,Variables[i],on=['Model','Scenario'],how='inner')\n",
    "for i in range(len(Variables)):\n",
    "    Variables[i].drop(columns=['Category_name'],inplace = True)"
   ]
  },
  {
   "cell_type": "code",
   "execution_count": 6,
   "id": "23a103bf8f855154",
   "metadata": {
    "ExecuteTime": {
     "end_time": "2024-11-10T15:35:17.990073100Z",
     "start_time": "2024-11-10T15:35:17.976097300Z"
    },
    "collapsed": false,
    "jupyter": {
     "outputs_hidden": false
    }
   },
   "outputs": [],
   "source": [
    "Kyoto_Gases = pd.merge(Kyoto_Gases,Model_Scenario,on = ['Model','Scenario'],how = 'inner')"
   ]
  },
  {
   "cell_type": "code",
   "execution_count": 7,
   "id": "261d573e255aeae8",
   "metadata": {
    "ExecuteTime": {
     "end_time": "2024-11-10T15:35:18.010515900Z",
     "start_time": "2024-11-10T15:35:17.992067500Z"
    },
    "collapsed": false,
    "jupyter": {
     "outputs_hidden": false
    }
   },
   "outputs": [],
   "source": [
    "Variables.append(Kyoto_Gases)\n",
    "#Variables [CarbonSequestration,FinalEnergy_Liquid,PrimaryEnergy_Coal,PrimaryEnergy_Gas,PrimaryEnergy_Oil,Kyoto_Gases]"
   ]
  },
  {
   "cell_type": "code",
   "execution_count": 8,
   "id": "eeb415559ecd9453",
   "metadata": {
    "ExecuteTime": {
     "end_time": "2024-11-10T15:35:18.056171Z",
     "start_time": "2024-11-10T15:35:18.008938900Z"
    },
    "collapsed": false,
    "jupyter": {
     "outputs_hidden": false
    }
   },
   "outputs": [],
   "source": [
    "#Generate feature matrices, the values of each variable during 2020-2100. 9 time steps, 6 features\n",
    "#1160 is the amount of data\n",
    "X = np.zeros((1160,9,6))\n",
    "for i in range(len(Variables)):\n",
    "    Variables[i] = Variables[i].iloc[:,3:-1].values\n",
    "for i in range(1160):\n",
    "    for j in range(9):\n",
    "        for k in range(6):\n",
    "            X[i][j][k] = (Variables[k])[i,j]"
   ]
  },
  {
   "cell_type": "code",
   "execution_count": 9,
   "id": "64260ec9e24c811",
   "metadata": {
    "ExecuteTime": {
     "end_time": "2024-11-10T15:35:18.067853800Z",
     "start_time": "2024-11-10T15:35:18.052491700Z"
    },
    "collapsed": false,
    "jupyter": {
     "outputs_hidden": false
    }
   },
   "outputs": [],
   "source": [
    "Y = Kyoto_Gases['Category'].values"
   ]
  },
  {
   "cell_type": "code",
   "execution_count": 10,
   "id": "66da4027e0023efb",
   "metadata": {
    "ExecuteTime": {
     "end_time": "2024-11-10T15:35:18.085793300Z",
     "start_time": "2024-11-10T15:35:18.069848300Z"
    },
    "collapsed": false,
    "jupyter": {
     "outputs_hidden": false
    }
   },
   "outputs": [],
   "source": [
    "#Separate datasets by category. But the training process does not distinguish between categories like VAE\n",
    "C1234_DataSet = X[Y == 0]\n",
    "C56_DataSet = X[Y == 1]\n",
    "C78_DataSet = X[Y == 2]"
   ]
  },
  {
   "cell_type": "code",
   "execution_count": 11,
   "id": "449c8e2d90dd69d",
   "metadata": {
    "ExecuteTime": {
     "end_time": "2024-11-10T15:35:18.098965800Z",
     "start_time": "2024-11-10T15:35:18.084847400Z"
    },
    "collapsed": false,
    "jupyter": {
     "outputs_hidden": false
    }
   },
   "outputs": [],
   "source": [
    "#Set problem parameters\n",
    "latent_dim = 38\n",
    "output_dim = 3\n",
    "feature_dim = 6\n",
    "seq_len = 9\n",
    "batch_size = 100\n",
    "generator_in_channels = latent_dim + output_dim\n",
    "discriminator_in_channels = feature_dim + output_dim"
   ]
  },
  {
   "cell_type": "code",
   "execution_count": 12,
   "id": "aed71f63d03b209f",
   "metadata": {
    "ExecuteTime": {
     "end_time": "2024-11-10T15:35:18.117552Z",
     "start_time": "2024-11-10T15:35:18.100958200Z"
    },
    "collapsed": false,
    "jupyter": {
     "outputs_hidden": false
    }
   },
   "outputs": [],
   "source": [
    "#Standardize the data and compress it to (0, 1).\n",
    "scaler = tsgm.utils.TSFeatureWiseScaler((0,1))\n",
    "X_train = scaler.fit_transform(X)\n",
    "Y_train = keras.utils.to_categorical(Y, 3)\n",
    "\n",
    "X_train = X_train.astype(np.float32)\n",
    "Y_train = Y_train.astype(np.float32)\n",
    "\n",
    "dataset = tf.data.Dataset.from_tensor_slices((X_train, Y_train))\n",
    "dataset = dataset.shuffle(buffer_size=1024).batch(batch_size)"
   ]
  },
  {
   "cell_type": "code",
   "execution_count": 13,
   "id": "aacda0d178604fc2",
   "metadata": {
    "ExecuteTime": {
     "end_time": "2024-11-10T15:35:18.405029600Z",
     "start_time": "2024-11-10T15:35:18.115554900Z"
    },
    "collapsed": false,
    "jupyter": {
     "outputs_hidden": false
    }
   },
   "outputs": [],
   "source": [
    "architecture = tsgm.models.architectures.zoo[\"cgan_base_c4_l1\"](\n",
    "    seq_len=seq_len, feat_dim=feature_dim,\n",
    "    latent_dim=latent_dim, output_dim=output_dim)\n",
    "discriminator, generator = architecture.discriminator, architecture.generator"
   ]
  },
  {
   "cell_type": "code",
   "execution_count": 14,
   "id": "cc637ebf6c3a1922",
   "metadata": {
    "ExecuteTime": {
     "end_time": "2024-11-10T15:35:18.418709800Z",
     "start_time": "2024-11-10T15:35:18.401464500Z"
    },
    "collapsed": false,
    "jupyter": {
     "outputs_hidden": false
    }
   },
   "outputs": [],
   "source": [
    "#Define an optimization strategy\n",
    "lr_schedule = keras.optimizers.schedules.ExponentialDecay(\n",
    "    initial_learning_rate=1e-4,#1e-4\n",
    "    decay_steps=200,#200\n",
    "    decay_rate=0.95)#0.95"
   ]
  },
  {
   "cell_type": "code",
   "execution_count": null,
   "id": "786dd719bae05a1d",
   "metadata": {
    "ExecuteTime": {
     "end_time": "2024-11-10T16:41:27.146445Z",
     "start_time": "2024-11-10T15:35:18.417712500Z"
    },
    "collapsed": false,
    "jupyter": {
     "outputs_hidden": false
    }
   },
   "outputs": [],
   "source": [
    "cond_gan = tsgm.models.cgan.ConditionalGAN(\n",
    "    discriminator=discriminator, generator=generator, latent_dim=latent_dim\n",
    ")\n",
    "cond_gan.compile(\n",
    "    d_optimizer=keras.optimizers.Adam(lr_schedule),\n",
    "    g_optimizer=keras.optimizers.Adam(lr_schedule),\n",
    "    loss_fn=keras.losses.BinaryCrossentropy(),\n",
    ")\n",
    "cond_gan.fit(dataset, epochs=500)"
   ]
  },
  {
   "cell_type": "code",
   "execution_count": null,
   "id": "a46d20bf79b80bed",
   "metadata": {
    "ExecuteTime": {
     "end_time": "2024-11-10T16:46:24.173362Z",
     "start_time": "2024-11-10T16:46:24.162398800Z"
    },
    "collapsed": false,
    "jupyter": {
     "outputs_hidden": false
    }
   },
   "outputs": [],
   "source": [
    "#Set Global Random Seed\n",
    "np.random.seed(8)\n",
    "Gen_Labels = np.zeros(3000)\n",
    "Gen_Labels[1000:2000] = 1\n",
    "Gen_Labels[2000:] = 2\n",
    "Gen_Labels.astype(np.int32)"
   ]
  },
  {
   "cell_type": "code",
   "execution_count": 17,
   "id": "e1415d77912584de",
   "metadata": {
    "ExecuteTime": {
     "end_time": "2024-11-10T16:47:05.462360Z",
     "start_time": "2024-11-10T16:47:00.713494800Z"
    },
    "collapsed": false,
    "jupyter": {
     "outputs_hidden": false
    }
   },
   "outputs": [],
   "source": [
    "#Generate data using generative models (500 for each class)\n",
    "#Subsequent random forest models partially refer to \"CGAN Random forest.ipynb\"\n",
    "z = np.concatenate([np.random.randn(3000,38),keras.utils.to_categorical(Gen_Labels,3)],axis=1)\n",
    "Gen_Data = generator(z)\n",
    "Gen_Data = Gen_Data.numpy()\n",
    "Gen_Data = scaler.inverse_transform(Gen_Data)"
   ]
  },
  {
   "cell_type": "code",
   "execution_count": 18,
   "id": "9e9ef176b040de14",
   "metadata": {
    "ExecuteTime": {
     "end_time": "2024-11-10T16:47:17.191066100Z",
     "start_time": "2024-11-10T16:47:17.130930200Z"
    },
    "collapsed": false,
    "jupyter": {
     "outputs_hidden": false
    }
   },
   "outputs": [],
   "source": [
    "from sklearn.ensemble import RandomForestClassifier\n",
    "from sklearn.model_selection import train_test_split,GridSearchCV\n",
    "from sklearn.metrics import accuracy_score\n",
    "from sklearn.metrics import classification_report"
   ]
  },
  {
   "cell_type": "code",
   "execution_count": 19,
   "id": "d2ace45ab86db973",
   "metadata": {
    "ExecuteTime": {
     "end_time": "2024-11-10T16:47:30.285275100Z",
     "start_time": "2024-11-10T16:47:30.253346200Z"
    },
    "collapsed": false,
    "jupyter": {
     "outputs_hidden": false
    }
   },
   "outputs": [],
   "source": [
    "#Compute the cumulative value of the five input variables as a feature of the real dataset\n",
    "features_names = ['CarbonSequestration','FinalEnergy_Liquid','PrimaryEnergy_Coal','PrimaryEnergy_Gas','PrimaryEnergy_Oil']\n",
    "Real_Data_Sum = np.zeros((1160,5))\n",
    "for i in range(1160):#1160 :amount of data\n",
    "    for j in range(5):#5 ：feature dimension\n",
    "        for k in range(8):#time step\n",
    "            Real_Data_Sum[i][j] += (X[i,k,j] + X[i,k+1,j]) * 5"
   ]
  },
  {
   "cell_type": "code",
   "execution_count": 20,
   "id": "86e5e528f8bf9609",
   "metadata": {
    "ExecuteTime": {
     "end_time": "2024-11-10T16:47:44.272027700Z",
     "start_time": "2024-11-10T16:47:44.258887800Z"
    },
    "collapsed": false,
    "jupyter": {
     "outputs_hidden": false
    }
   },
   "outputs": [],
   "source": [
    "Real_DataSet = pd.DataFrame(Real_Data_Sum,columns=features_names)"
   ]
  },
  {
   "cell_type": "code",
   "execution_count": 21,
   "id": "9072e7ad1682bf1",
   "metadata": {
    "ExecuteTime": {
     "end_time": "2024-11-10T16:48:03.274099400Z",
     "start_time": "2024-11-10T16:48:03.149331200Z"
    },
    "collapsed": false,
    "jupyter": {
     "outputs_hidden": false
    }
   },
   "outputs": [],
   "source": [
    "#Construct the feature matrix of the feature cumulative values of the generated dataset\n",
    "Gen_Data_Sum = np.zeros((3000,5))\n",
    "for i in range(3000):#1500 :amount of data\n",
    "    for j in range(5):#5 ：feature dimension\n",
    "        for k in range(8):#time step\n",
    "            Gen_Data_Sum[i][j] += (Gen_Data[i,k,j] + Gen_Data[i,k+1,j]) * 5"
   ]
  },
  {
   "cell_type": "code",
   "execution_count": 22,
   "id": "4c3b9e138bbf632d",
   "metadata": {
    "ExecuteTime": {
     "end_time": "2024-11-10T16:48:36.885156200Z",
     "start_time": "2024-11-10T16:48:36.866219600Z"
    },
    "collapsed": false,
    "jupyter": {
     "outputs_hidden": false
    }
   },
   "outputs": [],
   "source": [
    "Gen_DataSet = pd.DataFrame(Gen_Data_Sum,columns=features_names)"
   ]
  },
  {
   "cell_type": "code",
   "execution_count": 23,
   "id": "f23600eb9a7898c4",
   "metadata": {
    "ExecuteTime": {
     "end_time": "2024-11-10T16:48:49.078491700Z",
     "start_time": "2024-11-10T16:48:49.067523800Z"
    },
    "collapsed": false,
    "jupyter": {
     "outputs_hidden": false
    }
   },
   "outputs": [],
   "source": [
    "#First train the model with real datasets to predict the generated data.Cross-validation using grid search\n",
    "R_G = RandomForestClassifier(random_state=42)\n",
    "parameters_1 = {\n",
    "    'n_estimators':[10,100,200,500,1000],\n",
    "    'max_depth':[6,8,10,12,14,16],\n",
    "    'min_samples_split':[3,4,5,6]\n",
    "}"
   ]
  },
  {
   "cell_type": "code",
   "execution_count": 24,
   "id": "dec402d0c938561d",
   "metadata": {
    "ExecuteTime": {
     "end_time": "2024-11-10T16:49:08.232264400Z",
     "start_time": "2024-11-10T16:49:08.220304300Z"
    },
    "collapsed": false,
    "jupyter": {
     "outputs_hidden": false
    }
   },
   "outputs": [],
   "source": [
    "clf_RG = GridSearchCV(R_G,parameters_1,cv=3,n_jobs=-1,verbose=2)"
   ]
  },
  {
   "cell_type": "code",
   "execution_count": null,
   "id": "dc8f4800e3cd828f",
   "metadata": {
    "ExecuteTime": {
     "end_time": "2024-11-10T16:49:51.868893400Z",
     "start_time": "2024-11-10T16:49:15.721948300Z"
    },
    "collapsed": false,
    "jupyter": {
     "outputs_hidden": false
    }
   },
   "outputs": [],
   "source": [
    "clf_RG.fit(Real_DataSet,Y)"
   ]
  },
  {
   "cell_type": "code",
   "execution_count": null,
   "id": "63efc5ef7a63f30a",
   "metadata": {
    "ExecuteTime": {
     "end_time": "2024-11-10T16:49:59.355892100Z",
     "start_time": "2024-11-10T16:49:59.298263Z"
    },
    "collapsed": false,
    "jupyter": {
     "outputs_hidden": false
    }
   },
   "outputs": [],
   "source": [
    "print('Best parameters found:')\n",
    "print(clf_RG.best_params_)"
   ]
  },
  {
   "cell_type": "code",
   "execution_count": null,
   "id": "15ff58924439681c",
   "metadata": {
    "ExecuteTime": {
     "end_time": "2024-11-10T16:50:25.893746400Z",
     "start_time": "2024-11-10T16:50:25.835383900Z"
    },
    "collapsed": false,
    "jupyter": {
     "outputs_hidden": false
    }
   },
   "outputs": [],
   "source": [
    "y_pred = clf_RG.predict(Real_DataSet)\n",
    "print(f\"Test results on the training dataset：\")\n",
    "print(classification_report(Y,y_pred,target_names=['C1234','C56','C78']))"
   ]
  },
  {
   "cell_type": "code",
   "execution_count": null,
   "id": "977c73bc6dbba639",
   "metadata": {
    "ExecuteTime": {
     "end_time": "2024-11-10T16:51:11.703848300Z",
     "start_time": "2024-11-10T16:51:11.628585900Z"
    },
    "collapsed": false,
    "jupyter": {
     "outputs_hidden": false
    }
   },
   "outputs": [],
   "source": [
    "y_pred = clf_RG.predict(Gen_DataSet)\n",
    "print(f\"Test results on the test set：\")\n",
    "print(classification_report(Gen_Labels,y_pred,target_names=['C1234','C56','C78']))"
   ]
  },
  {
   "cell_type": "code",
   "execution_count": 29,
   "id": "e2fe8b6b94e4c696",
   "metadata": {
    "ExecuteTime": {
     "end_time": "2024-11-10T16:51:41.068275300Z",
     "start_time": "2024-11-10T16:51:41.056350900Z"
    },
    "collapsed": false,
    "jupyter": {
     "outputs_hidden": false
    }
   },
   "outputs": [],
   "source": [
    "#Use the generated dataset to train models to predict real data\n",
    "G_R = RandomForestClassifier(random_state=42)\n",
    "parameters_2 = {\n",
    "    'n_estimators':[10,100,200,500,1000],\n",
    "    'max_depth':[6,8,10,12,14,16],\n",
    "    'min_samples_split':[3,4,5,6]\n",
    "}"
   ]
  },
  {
   "cell_type": "code",
   "execution_count": 30,
   "id": "1943bf3bee306fbb",
   "metadata": {
    "ExecuteTime": {
     "end_time": "2024-11-10T16:51:52.602353900Z",
     "start_time": "2024-11-10T16:51:52.593381900Z"
    },
    "collapsed": false,
    "jupyter": {
     "outputs_hidden": false
    }
   },
   "outputs": [],
   "source": [
    "clf_GR = GridSearchCV(G_R,parameters_2,cv=3,n_jobs=-1,verbose=2)"
   ]
  },
  {
   "cell_type": "code",
   "execution_count": null,
   "id": "6c30e2dfccd63bf1",
   "metadata": {
    "ExecuteTime": {
     "end_time": "2024-11-10T16:52:19.324870200Z",
     "start_time": "2024-11-10T16:52:00.376097100Z"
    },
    "collapsed": false,
    "jupyter": {
     "outputs_hidden": false
    }
   },
   "outputs": [],
   "source": [
    "clf_GR.fit(Gen_DataSet,Gen_Labels)"
   ]
  },
  {
   "cell_type": "code",
   "execution_count": null,
   "id": "ab7d2120efeb9e7e",
   "metadata": {
    "ExecuteTime": {
     "end_time": "2024-11-10T16:52:28.887815600Z",
     "start_time": "2024-11-10T16:52:28.865392600Z"
    },
    "collapsed": false,
    "jupyter": {
     "outputs_hidden": false
    }
   },
   "outputs": [],
   "source": [
    "print('Best parameters found:')\n",
    "print(clf_GR.best_params_)"
   ]
  },
  {
   "cell_type": "code",
   "execution_count": null,
   "id": "d34592de9a6d64e7",
   "metadata": {
    "ExecuteTime": {
     "end_time": "2024-11-10T16:52:45.165587400Z",
     "start_time": "2024-11-10T16:52:45.108642900Z"
    },
    "collapsed": false,
    "jupyter": {
     "outputs_hidden": false
    }
   },
   "outputs": [],
   "source": [
    "y_pred = clf_GR.predict(Gen_DataSet)\n",
    "print(f\"Test results on the training dataset：\")\n",
    "print(classification_report(Gen_Labels,y_pred,target_names=['C1234','C56','C78']))"
   ]
  },
  {
   "cell_type": "code",
   "execution_count": null,
   "id": "743ef8776e48bf21",
   "metadata": {
    "ExecuteTime": {
     "end_time": "2024-11-10T16:53:04.028477400Z",
     "start_time": "2024-11-10T16:53:03.961490500Z"
    },
    "collapsed": false,
    "jupyter": {
     "outputs_hidden": false
    }
   },
   "outputs": [],
   "source": [
    "y_pred = clf_GR.predict(Real_DataSet)\n",
    "print(f\"Test results on the test set：\")\n",
    "print(classification_report(Y,y_pred,target_names=['C1234','C56','C78']))"
   ]
  },
  {
   "cell_type": "code",
   "execution_count": 36,
   "id": "b57211214d252a55",
   "metadata": {
    "ExecuteTime": {
     "end_time": "2024-11-10T16:56:20.451989600Z",
     "start_time": "2024-11-10T16:56:20.429595200Z"
    },
    "collapsed": false,
    "jupyter": {
     "outputs_hidden": false
    }
   },
   "outputs": [],
   "source": [
    "generator.save_weights('Policy-Top6-CGAN_generator.h5')\n",
    "discriminator.save_weights('Policy-Top6-CGAN_discriminator.h5')"
   ]
  },
  {
   "cell_type": "code",
   "execution_count": 31,
   "id": "ab6059cc6e9024bd",
   "metadata": {
    "ExecuteTime": {
     "end_time": "2024-11-10T16:52:19.404367500Z",
     "start_time": "2024-11-10T16:52:19.386426300Z"
    },
    "collapsed": false,
    "jupyter": {
     "outputs_hidden": false
    }
   },
   "outputs": [],
   "source": []
  },
  {
   "cell_type": "code",
   "execution_count": 31,
   "id": "133423f32306d791",
   "metadata": {
    "ExecuteTime": {
     "end_time": "2024-11-10T16:52:19.416401200Z",
     "start_time": "2024-11-10T16:52:19.403371100Z"
    },
    "collapsed": false,
    "jupyter": {
     "outputs_hidden": false
    }
   },
   "outputs": [],
   "source": []
  },
  {
   "cell_type": "code",
   "execution_count": 31,
   "id": "aee578a80c7873af",
   "metadata": {
    "ExecuteTime": {
     "end_time": "2024-11-10T16:52:19.435043100Z",
     "start_time": "2024-11-10T16:52:19.417397700Z"
    },
    "collapsed": false,
    "jupyter": {
     "outputs_hidden": false
    }
   },
   "outputs": [],
   "source": []
  },
  {
   "cell_type": "code",
   "execution_count": 31,
   "id": "75fad5d44aa37baa",
   "metadata": {
    "ExecuteTime": {
     "end_time": "2024-11-10T16:52:19.451633200Z",
     "start_time": "2024-11-10T16:52:19.433045400Z"
    },
    "collapsed": false,
    "jupyter": {
     "outputs_hidden": false
    }
   },
   "outputs": [],
   "source": []
  },
  {
   "cell_type": "code",
   "execution_count": 31,
   "id": "b365798607d889f3",
   "metadata": {
    "ExecuteTime": {
     "end_time": "2024-11-10T16:52:19.464042400Z",
     "start_time": "2024-11-10T16:52:19.448644600Z"
    },
    "collapsed": false,
    "jupyter": {
     "outputs_hidden": false
    }
   },
   "outputs": [],
   "source": []
  },
  {
   "cell_type": "code",
   "execution_count": 31,
   "id": "9e6f40b029b9ef17",
   "metadata": {
    "ExecuteTime": {
     "end_time": "2024-11-10T16:52:19.477726Z",
     "start_time": "2024-11-10T16:52:19.463045700Z"
    },
    "collapsed": false,
    "jupyter": {
     "outputs_hidden": false
    }
   },
   "outputs": [],
   "source": []
  },
  {
   "cell_type": "code",
   "execution_count": 31,
   "id": "6ad76b07ff681352",
   "metadata": {
    "ExecuteTime": {
     "end_time": "2024-11-10T16:52:19.496240Z",
     "start_time": "2024-11-10T16:52:19.479718900Z"
    },
    "collapsed": false,
    "jupyter": {
     "outputs_hidden": false
    }
   },
   "outputs": [],
   "source": []
  },
  {
   "cell_type": "code",
   "execution_count": 31,
   "id": "4631b6cc68d6fb6e",
   "metadata": {
    "ExecuteTime": {
     "end_time": "2024-11-10T16:52:19.509091800Z",
     "start_time": "2024-11-10T16:52:19.495243300Z"
    },
    "collapsed": false,
    "jupyter": {
     "outputs_hidden": false
    }
   },
   "outputs": [],
   "source": []
  },
  {
   "cell_type": "code",
   "execution_count": null,
   "id": "34370faab9738cb4",
   "metadata": {
    "collapsed": false,
    "jupyter": {
     "outputs_hidden": false
    }
   },
   "outputs": [],
   "source": []
  }
 ],
 "metadata": {
  "kernelspec": {
   "display_name": "Python 3 (ipykernel)",
   "language": "python",
   "name": "python3"
  },
  "language_info": {
   "codemirror_mode": {
    "name": "ipython",
    "version": 3
   },
   "file_extension": ".py",
   "mimetype": "text/x-python",
   "name": "python",
   "nbconvert_exporter": "python",
   "pygments_lexer": "ipython3",
   "version": "3.8.20"
  }
 },
 "nbformat": 4,
 "nbformat_minor": 5
}
