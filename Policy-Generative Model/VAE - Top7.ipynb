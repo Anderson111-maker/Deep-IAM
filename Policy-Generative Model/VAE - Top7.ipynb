{
 "cells": [
  {
   "cell_type": "code",
   "execution_count": 1,
   "id": "dfbb816a-be88-40d2-8d36-8583ce64867f",
   "metadata": {},
   "outputs": [],
   "source": [
    "import pandas as pd\n",
    "import numpy as np\n",
    "import matplotlib.pyplot as plt\n",
    "import tsgm\n",
    "import tensorflow as tf\n",
    "from tensorflow import keras"
   ]
  },
  {
   "cell_type": "code",
   "execution_count": 2,
   "id": "8b9fede6-050b-41bb-be99-7fd85d5d1cc4",
   "metadata": {},
   "outputs": [],
   "source": [
    "#Save Kyoto_Gases data (2020-2100), consider the case of C1-C8 for simplicity.\n",
    "Kyoto_Gases = pd.read_csv('Kyoto Gases.csv')\n",
    "Kyoto_Gases = Kyoto_Gases[Kyoto_Gases['Category'].isin(['C1','C2','C3','C4','C5','C6','C7','C8'])]\n",
    "mapping = {'C1':0,'C2':0,'C3':0,'C4':0,'C5':1,'C6':1,'C7':2,'C8':2}#Aggregate categories into 3 categories, with 0-2 corresponding to C1234-C78, respectively\n",
    "Kyoto_Gases['Category'].replace(mapping,inplace=True)\n",
    "Kyoto_Gases.reset_index(drop=True,inplace=True)\n",
    "Kyoto_Gases.drop(columns=['Category_name'],inplace = True)"
   ]
  },
  {
   "cell_type": "code",
   "execution_count": 3,
   "id": "b2742883-d972-414a-ad09-1129324f000c",
   "metadata": {},
   "outputs": [],
   "source": [
    "#Load a dataset of individual variables\n",
    "CarbonSequestration = pd.read_csv('Carbon_Sequestration_CCS_imputed.csv')\n",
    "FinalEnergy_Liquid = pd.read_csv('Final Energy_Liquids.csv')\n",
    "PrimaryEnergy_Gas = pd.read_csv('Primary Energy_Gas.csv')\n",
    "PrimaryEnergy_Oil = pd.read_csv('Primary Energy_Oil.csv')\n",
    "PrimaryEnergy_Coal = pd.read_csv('PrimaryEnergy_Coal.csv')\n",
    "PrimaryEnergy = pd.read_csv('PrimaryEnergy_imputed.csv')"
   ]
  },
  {
   "cell_type": "code",
   "execution_count": 4,
   "id": "fcc1ed1a-0653-4de1-8758-8e52c0e51a12",
   "metadata": {},
   "outputs": [],
   "source": [
    "#Get the intersection of the models and scenarios contained in each variable\n",
    "Model_Scenario = Kyoto_Gases[['Model','Scenario']]\n",
    "Variables = [CarbonSequestration,FinalEnergy_Liquid,PrimaryEnergy_Coal,PrimaryEnergy_Gas,PrimaryEnergy_Oil,PrimaryEnergy]\n",
    "for variable in Variables:\n",
    "    Model_Scenario = pd.merge(Model_Scenario,variable[['Model','Scenario']],on=['Model','Scenario'],how='inner')"
   ]
  },
  {
   "cell_type": "code",
   "execution_count": 5,
   "id": "6f097b5a-07d3-4926-9228-c48ba5156081",
   "metadata": {},
   "outputs": [],
   "source": [
    "for i in range(len(Variables)):\n",
    "    Variables[i] = pd.merge(Model_Scenario,Variables[i],on=['Model','Scenario'],how='inner')\n",
    "for i in range(len(Variables)):\n",
    "    Variables[i].drop(columns=['Category_name'],inplace = True)"
   ]
  },
  {
   "cell_type": "code",
   "execution_count": 6,
   "id": "8c026cd9-2529-4fd3-82ac-505b091ccad4",
   "metadata": {},
   "outputs": [],
   "source": [
    "Kyoto_Gases = pd.merge(Kyoto_Gases,Model_Scenario,on = ['Model','Scenario'],how = 'inner')"
   ]
  },
  {
   "cell_type": "code",
   "execution_count": 7,
   "id": "3a845c27-052c-4b73-bfeb-033e6dbd3423",
   "metadata": {},
   "outputs": [],
   "source": [
    "Variables.append(Kyoto_Gases)\n",
    "#Variables [CarbonSequestration,FinalEnergy_Liquid,PrimaryEnergy_Coal,PrimaryEnergy_Gas,PrimaryEnergy_Oil,PrimaryEnergy,Kyoto_Gases]\n",
    "data_num = Variables[0].shape[0]"
   ]
  },
  {
   "cell_type": "code",
   "execution_count": 8,
   "id": "c1b9b081-124d-4f9d-a8a1-00a8ea2b86c7",
   "metadata": {},
   "outputs": [],
   "source": [
    "#Generate feature matrices, the values of each variable during 2020-2100. 9 time steps, 7 features\n",
    "#data_num is the amount of data\n",
    "X = np.zeros((data_num,9,7))\n",
    "for i in range(len(Variables)):\n",
    "    Variables[i] = Variables[i].iloc[:,3:-1].values\n",
    "for i in range(data_num):\n",
    "    for j in range(9):\n",
    "        for k in range(7):\n",
    "            X[i][j][k] = (Variables[k])[i,j]"
   ]
  },
  {
   "cell_type": "code",
   "execution_count": 9,
   "id": "d7eb2af1-5b20-4a96-bda3-ddb5e5b79a1c",
   "metadata": {},
   "outputs": [],
   "source": [
    "Y = Kyoto_Gases['Category'].values"
   ]
  },
  {
   "cell_type": "code",
   "execution_count": 10,
   "id": "bdb7c3e9-80bd-4e77-843d-90cf7b92adf7",
   "metadata": {},
   "outputs": [],
   "source": [
    "#Separate datasets by category. But the training process does not distinguish between categories like VAE\n",
    "C1234_DataSet = X[Y == 0]\n",
    "C56_DataSet = X[Y == 1]\n",
    "C78_DataSet = X[Y == 2]"
   ]
  },
  {
   "cell_type": "code",
   "execution_count": 11,
   "id": "cb950c65-8840-415f-9a83-2bfb2f1133b5",
   "metadata": {},
   "outputs": [],
   "source": [
    "#Define the model structure for C1234\n",
    "architecture1 = tsgm.models.zoo[\"vae_conv5\"](9, 7, 10)#Latent Dim = 10,number of features = 7\n",
    "encoder1, decoder1 = architecture1.encoder, architecture1.decoder"
   ]
  },
  {
   "cell_type": "code",
   "execution_count": 12,
   "id": "e2f6e143-ad29-464b-ba86-81c45640f393",
   "metadata": {},
   "outputs": [],
   "source": [
    "#Standardize the data and compress it to (0, 1).\n",
    "scaler_C1234 = tsgm.utils.TSFeatureWiseScaler((0,1))        \n",
    "scaled_C1234_data = scaler_C1234.fit_transform(C1234_DataSet)"
   ]
  },
  {
   "cell_type": "code",
   "execution_count": null,
   "id": "c8a94b5f-1382-4985-ad4c-0a76c3a3af68",
   "metadata": {},
   "outputs": [],
   "source": [
    "#Define an optimization strategy\n",
    "lr_schedule = keras.optimizers.schedules.ExponentialDecay(\n",
    "    initial_learning_rate=1e-3,\n",
    "    decay_steps=200,\n",
    "    decay_rate=0.98)\n",
    "vae_C1234 = tsgm.models.cvae.BetaVAE(encoder1, decoder1)\n",
    "vae_C1234.compile(optimizer=keras.optimizers.Adam(lr_schedule))\n",
    "vae_C1234.fit(scaled_C1234_data, epochs=1500, batch_size=50)"
   ]
  },
  {
   "cell_type": "code",
   "execution_count": 14,
   "id": "7670964c-a9c1-4223-8db6-0675dcd09c73",
   "metadata": {},
   "outputs": [],
   "source": [
    "#Define the model structure for C56\n",
    "architecture2 = tsgm.models.zoo[\"vae_conv5\"](9, 7, 10)\n",
    "encoder2, decoder2 = architecture2.encoder, architecture2.decoder\n",
    "scaler_C56 = tsgm.utils.TSFeatureWiseScaler((0,1))    \n",
    "scaled_C56_data = scaler_C56.fit_transform(C56_DataSet)"
   ]
  },
  {
   "cell_type": "code",
   "execution_count": null,
   "id": "20926f1c-4de9-49bd-881a-f9a12f589c5a",
   "metadata": {},
   "outputs": [],
   "source": [
    "lr_schedule = keras.optimizers.schedules.ExponentialDecay(\n",
    "    initial_learning_rate=1e-3,\n",
    "    decay_steps=200,\n",
    "    decay_rate=0.98)\n",
    "vae_C56 = tsgm.models.cvae.BetaVAE(encoder2, decoder2)\n",
    "vae_C56.compile(optimizer=keras.optimizers.Adam(lr_schedule))\n",
    "vae_C56.fit(scaled_C56_data, epochs=1500, batch_size=30)"
   ]
  },
  {
   "cell_type": "code",
   "execution_count": null,
   "id": "0071e7df-c03f-47b6-9821-58a91de939e3",
   "metadata": {},
   "outputs": [],
   "source": [
    "#Define the model structure for C78\n",
    "architecture3 = tsgm.models.zoo[\"vae_conv5\"](9, 7, 10)\n",
    "encoder3, decoder3 = architecture3.encoder, architecture3.decoder\n",
    "scaler_C78 = tsgm.utils.TSFeatureWiseScaler((0,1))    \n",
    "scaled_C78_data = scaler_C78.fit_transform(C78_DataSet)"
   ]
  },
  {
   "cell_type": "code",
   "execution_count": null,
   "id": "29671e22-45c9-4a14-8237-f2242691694d",
   "metadata": {},
   "outputs": [],
   "source": [
    "vae_C78 = tsgm.models.cvae.BetaVAE(encoder3, decoder3)\n",
    "vae_C78.compile(optimizer=keras.optimizers.Adam(lr_schedule))\n",
    "vae_C78.fit(scaled_C78_data, epochs=1500, batch_size=30)"
   ]
  },
  {
   "cell_type": "code",
   "execution_count": 18,
   "id": "7ec97f70-6fcb-46f6-9774-30502860903f",
   "metadata": {},
   "outputs": [],
   "source": [
    "#Set Global Random Seed\n",
    "global_seed = 3\n",
    "tf.random.set_seed(global_seed)\n",
    "np.random.seed(global_seed)"
   ]
  },
  {
   "cell_type": "code",
   "execution_count": 19,
   "id": "5ef433b7-2526-4ad3-afb2-7d2cb87f53bd",
   "metadata": {},
   "outputs": [],
   "source": [
    "#Generate data using generative models (500 for each class)\n",
    "z1 = tf.random.normal((1000, 10))\n",
    "z2 = tf.random.normal((1000, 10))\n",
    "z3 = tf.random.normal((1000, 10))\n",
    "Gen_C1234 = decoder1(z1)\n",
    "Gen_C56 = decoder2(z2)\n",
    "Gen_C78 = decoder3(z3)\n",
    "Gen_C1234 = scaler_C1234.inverse_transform(Gen_C1234)\n",
    "Gen_C56 = scaler_C56.inverse_transform(Gen_C56)\n",
    "Gen_C78 = scaler_C78.inverse_transform(Gen_C78)"
   ]
  },
  {
   "cell_type": "code",
   "execution_count": null,
   "id": "cbc4f277-08f0-4bc7-91be-caf688c6a082",
   "metadata": {},
   "outputs": [],
   "source": [
    "Gen_Data = np.concatenate((Gen_C1234,Gen_C56,Gen_C78),axis=0)\n",
    "Gen_Labels = np.zeros(3000)\n",
    "Gen_Labels[1000:2000] = 1\n",
    "Gen_Labels[2000:] = 2\n",
    "Gen_Labels.astype(np.int32)"
   ]
  },
  {
   "cell_type": "code",
   "execution_count": 21,
   "id": "18aa491c-786c-4c4e-93de-f3086dfb05bc",
   "metadata": {},
   "outputs": [],
   "source": [
    "from sklearn.ensemble import RandomForestClassifier\n",
    "from sklearn.model_selection import train_test_split,GridSearchCV\n",
    "from sklearn.metrics import accuracy_score\n",
    "from sklearn.metrics import classification_report"
   ]
  },
  {
   "cell_type": "code",
   "execution_count": 22,
   "id": "beeaeaf6-9f3e-40b7-8cfe-3b9f126a0866",
   "metadata": {},
   "outputs": [],
   "source": [
    "#Compute the cumulative value of the five input variables as a feature of the real dataset\n",
    "features_names = ['CarbonSequestration','FinalEnergy_Liquid','PrimaryEnergy_Coal','PrimaryEnergy_Gas','PrimaryEnergy_Oil','PrimaryEnergy']\n",
    "Real_Data_Sum = np.zeros((data_num,6))\n",
    "for i in range(data_num):#data_num :amount of data\n",
    "    for j in range(6):#6 feature dimension\n",
    "        for k in range(8):#time step\n",
    "            Real_Data_Sum[i][j] += (X[i,k,j] + X[i,k+1,j]) * 5"
   ]
  },
  {
   "cell_type": "code",
   "execution_count": 23,
   "id": "2bd87a59-8350-42e5-b877-c9f713f3f0c6",
   "metadata": {},
   "outputs": [],
   "source": [
    "Real_DataSet = pd.DataFrame(Real_Data_Sum,columns=features_names)"
   ]
  },
  {
   "cell_type": "code",
   "execution_count": 24,
   "id": "517cc559-09c7-4eab-b126-bcb4d86e23bb",
   "metadata": {},
   "outputs": [],
   "source": [
    "#Construct the feature matrix of the feature cumulative values of the generated dataset\n",
    "Gen_Data_Sum = np.zeros((3000,6))\n",
    "for i in range(3000):#3000 :amount of data\n",
    "    for j in range(6):#6 ：feature dimension\n",
    "        for k in range(8):#time step\n",
    "            Gen_Data_Sum[i][j] += (Gen_Data[i,k,j] + Gen_Data[i,k+1,j]) * 5"
   ]
  },
  {
   "cell_type": "code",
   "execution_count": 25,
   "id": "26882869-4e34-4a53-936b-865d53c17202",
   "metadata": {},
   "outputs": [],
   "source": [
    "Gen_DataSet = pd.DataFrame(Gen_Data_Sum,columns=features_names)"
   ]
  },
  {
   "cell_type": "code",
   "execution_count": 26,
   "id": "64649df8-40e1-4bec-84a0-9f0a3cfbe9a2",
   "metadata": {},
   "outputs": [],
   "source": [
    "#First train the model with real datasets to predict the generated data.Cross-validation using grid search\n",
    "R_G = RandomForestClassifier(random_state=42)\n",
    "parameters_1 = {\n",
    "    'n_estimators':[10,100,500,1000],\n",
    "    'max_depth':[6,8,10,12,14,16],\n",
    "    'min_samples_split':[3,4,5,6]\n",
    "}"
   ]
  },
  {
   "cell_type": "code",
   "execution_count": 27,
   "id": "3003ca3e-131b-4356-a1ca-f647d70e80ee",
   "metadata": {},
   "outputs": [],
   "source": [
    "clf_RG = GridSearchCV(R_G,parameters_1,cv=3,n_jobs=-1,verbose=2)"
   ]
  },
  {
   "cell_type": "code",
   "execution_count": null,
   "id": "17b024f4-a4ff-4263-9024-1ceebdd4ee44",
   "metadata": {},
   "outputs": [],
   "source": [
    "clf_RG.fit(Real_DataSet,Y)"
   ]
  },
  {
   "cell_type": "code",
   "execution_count": null,
   "id": "e9264b4e-d397-48c5-807e-961a20d0dcea",
   "metadata": {},
   "outputs": [],
   "source": [
    "print('Best parameters found:')\n",
    "print(clf_RG.best_params_)"
   ]
  },
  {
   "cell_type": "code",
   "execution_count": null,
   "id": "97d53b36-4523-4856-9e08-3d44848b6072",
   "metadata": {},
   "outputs": [],
   "source": [
    "y_pred = clf_RG.predict(Real_DataSet)\n",
    "print(f\"Test results on the training dataset：\")\n",
    "print(classification_report(Y,y_pred,target_names=['C1234','C56','C78']))"
   ]
  },
  {
   "cell_type": "code",
   "execution_count": null,
   "id": "b9d7b44f-9735-4f4e-9916-95dc3e057db8",
   "metadata": {},
   "outputs": [],
   "source": [
    "y_pred = clf_RG.predict(Gen_DataSet)\n",
    "print(f\"Test results on the test set：\")\n",
    "print(classification_report(Gen_Labels,y_pred,target_names=['C1234','C56','C78']))"
   ]
  },
  {
   "cell_type": "code",
   "execution_count": 32,
   "id": "77f511a5-1579-4041-8694-1825bc58dc4f",
   "metadata": {},
   "outputs": [],
   "source": [
    "#Use the generated dataset to train models to predict real data\n",
    "G_R = RandomForestClassifier(random_state=42)\n",
    "parameters_2 = {\n",
    "    'n_estimators':[10,100,200,500,1000],\n",
    "    'max_depth':[6,8,10,12,14,16],\n",
    "    'min_samples_split':[3,4,5,6]\n",
    "}"
   ]
  },
  {
   "cell_type": "code",
   "execution_count": 33,
   "id": "0c2aa73f-bae4-4fb7-a154-1758fb4c2f8f",
   "metadata": {},
   "outputs": [],
   "source": [
    "clf_GR = GridSearchCV(G_R,parameters_2,cv=3,n_jobs=-1,verbose=2)"
   ]
  },
  {
   "cell_type": "code",
   "execution_count": null,
   "id": "930ea12d-889a-4ebd-bb26-7f57f377256c",
   "metadata": {},
   "outputs": [],
   "source": [
    "clf_GR.fit(Gen_DataSet,Gen_Labels)\n",
    "print('Best parameters found:')\n",
    "print(clf_GR.best_params_)"
   ]
  },
  {
   "cell_type": "code",
   "execution_count": null,
   "id": "2b94bd25-041f-4871-9d64-f87b996936c4",
   "metadata": {},
   "outputs": [],
   "source": [
    "y_pred = clf_GR.predict(Gen_DataSet)\n",
    "print(f\"Test results on the training dataset：\")\n",
    "print(classification_report(Gen_Labels,y_pred,target_names=['C1234','C56','C78']))"
   ]
  },
  {
   "cell_type": "code",
   "execution_count": null,
   "id": "8256c3db-256b-4c26-a22b-6f7626a6184a",
   "metadata": {},
   "outputs": [],
   "source": [
    "y_pred = clf_GR.predict(Real_DataSet)\n",
    "print(f\"Test results on the test set：\")\n",
    "print(classification_report(Y,y_pred,target_names=['C1234','C56','C78']))"
   ]
  },
  {
   "cell_type": "code",
   "execution_count": 37,
   "id": "18b9abb0-20ef-46af-a327-49b8c08932f0",
   "metadata": {},
   "outputs": [],
   "source": [
    "encoder1.save_weights('Policy-encoder1_weights-top7.h5')\n",
    "encoder2.save_weights('Policy-encoder2_weights-top7.h5')\n",
    "encoder3.save_weights('Policy-encoder3_weights-top7.h5')\n",
    "decoder1.save_weights('Policy-decoder1_weights-top7.h5')\n",
    "decoder2.save_weights('Policy-decoder2_weights-top7.h5')\n",
    "decoder3.save_weights('Policy-decoder3_weights-top7.h5')"
   ]
  },
  {
   "cell_type": "code",
   "execution_count": null,
   "id": "68230724-6def-4d85-9304-d10a3114f2d0",
   "metadata": {},
   "outputs": [],
   "source": []
  },
  {
   "cell_type": "code",
   "execution_count": null,
   "id": "4efd8d27-3203-48cd-9b99-aaea05bce1da",
   "metadata": {},
   "outputs": [],
   "source": []
  },
  {
   "cell_type": "code",
   "execution_count": null,
   "id": "7d22afd2-1af7-43cb-a5c6-49bcb0eada11",
   "metadata": {},
   "outputs": [],
   "source": []
  },
  {
   "cell_type": "code",
   "execution_count": null,
   "id": "8e4cd98a-8b19-4922-8e15-c5af2c252f41",
   "metadata": {},
   "outputs": [],
   "source": []
  },
  {
   "cell_type": "code",
   "execution_count": null,
   "id": "0e3b1163-2e90-4778-8303-2c6438c41ab6",
   "metadata": {},
   "outputs": [],
   "source": []
  },
  {
   "cell_type": "code",
   "execution_count": null,
   "id": "05600a19-818f-42a0-843a-9d116f7cd518",
   "metadata": {},
   "outputs": [],
   "source": []
  },
  {
   "cell_type": "code",
   "execution_count": null,
   "id": "23c22c93-2784-494b-8317-183285a0f04c",
   "metadata": {},
   "outputs": [],
   "source": []
  },
  {
   "cell_type": "code",
   "execution_count": null,
   "id": "c4fde98a-89ca-48d7-bd3b-9102483ebbce",
   "metadata": {},
   "outputs": [],
   "source": []
  },
  {
   "cell_type": "code",
   "execution_count": null,
   "id": "b2c892d2-4427-400c-be9e-2c465e0be5c8",
   "metadata": {},
   "outputs": [],
   "source": []
  }
 ],
 "metadata": {
  "kernelspec": {
   "display_name": "Python 3 (ipykernel)",
   "language": "python",
   "name": "python3"
  },
  "language_info": {
   "codemirror_mode": {
    "name": "ipython",
    "version": 3
   },
   "file_extension": ".py",
   "mimetype": "text/x-python",
   "name": "python",
   "nbconvert_exporter": "python",
   "pygments_lexer": "ipython3",
   "version": "3.8.20"
  }
 },
 "nbformat": 4,
 "nbformat_minor": 5
}
