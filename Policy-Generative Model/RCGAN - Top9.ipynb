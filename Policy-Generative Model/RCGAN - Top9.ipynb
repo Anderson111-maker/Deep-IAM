{
 "cells": [
  {
   "cell_type": "code",
   "execution_count": 1,
   "id": "ae97307f-00fc-41b8-9b25-ea2429097210",
   "metadata": {},
   "outputs": [],
   "source": [
    "import pandas as pd\n",
    "import numpy as np\n",
    "import matplotlib.pyplot as plt\n",
    "import tsgm\n",
    "import tensorflow as tf\n",
    "from tensorflow import keras"
   ]
  },
  {
   "cell_type": "code",
   "execution_count": 2,
   "id": "d303195a-590b-4d97-b001-5ded1f8ff7f4",
   "metadata": {},
   "outputs": [],
   "source": [
    "#Save Kyoto_Gases data (2020-2100), consider the case of C1-C8 for simplicity.\n",
    "Kyoto_Gases = pd.read_csv('Kyoto Gases.csv')\n",
    "Kyoto_Gases = Kyoto_Gases[Kyoto_Gases['Category'].isin(['C1','C2','C3','C4','C5','C6','C7','C8'])]\n",
    "mapping = {'C1':0,'C2':0,'C3':0,'C4':0,'C5':1,'C6':1,'C7':2,'C8':2}#Aggregate categories into 3 categories, with 0-2 corresponding to C1234-C78, respectively\n",
    "Kyoto_Gases['Category'].replace(mapping,inplace=True)\n",
    "Kyoto_Gases.reset_index(drop=True,inplace=True)\n",
    "Kyoto_Gases.drop(columns=['Category_name'],inplace = True)"
   ]
  },
  {
   "cell_type": "code",
   "execution_count": 3,
   "id": "d15aaaa4-2dc9-459b-8aeb-db3333482fa7",
   "metadata": {},
   "outputs": [],
   "source": [
    "#Load a dataset of individual variables\n",
    "CarbonSequestration = pd.read_csv('Carbon_Sequestration_CCS_imputed.csv')\n",
    "FinalEnergy_Liquid = pd.read_csv('Final Energy_Liquids.csv')\n",
    "PrimaryEnergy_Gas = pd.read_csv('Primary Energy_Gas.csv')\n",
    "PrimaryEnergy_Oil = pd.read_csv('Primary Energy_Oil.csv')\n",
    "PrimaryEnergy_Coal = pd.read_csv('PrimaryEnergy_Coal.csv')\n",
    "PrimaryEnergy = pd.read_csv('PrimaryEnergy_imputed.csv')\n",
    "SecondaryEnergy_Gas = pd.read_csv('Secondary Energy_Gases.csv')\n",
    "FinalEnergy_Solid = pd.read_csv('Final Energy_Solids.csv')"
   ]
  },
  {
   "cell_type": "code",
   "execution_count": 4,
   "id": "66b3176b-b4fd-49df-88cd-123eb089f562",
   "metadata": {},
   "outputs": [],
   "source": [
    "#Get the intersection of the models and scenarios contained in each variable\n",
    "Model_Scenario = Kyoto_Gases[['Model','Scenario']]\n",
    "Variables = [CarbonSequestration,FinalEnergy_Liquid,PrimaryEnergy_Coal,PrimaryEnergy_Gas,PrimaryEnergy_Oil,PrimaryEnergy,SecondaryEnergy_Gas,\n",
    "            FinalEnergy_Solid]\n",
    "for variable in Variables:\n",
    "    Model_Scenario = pd.merge(Model_Scenario,variable[['Model','Scenario']],on=['Model','Scenario'],how='inner')"
   ]
  },
  {
   "cell_type": "code",
   "execution_count": 5,
   "id": "f25fe30f-db72-4d16-b043-7be8fda892ee",
   "metadata": {},
   "outputs": [],
   "source": [
    "for i in range(len(Variables)):\n",
    "    Variables[i] = pd.merge(Model_Scenario,Variables[i],on=['Model','Scenario'],how='inner')\n",
    "for i in range(len(Variables)):\n",
    "    Variables[i].drop(columns=['Category_name'],inplace = True)"
   ]
  },
  {
   "cell_type": "code",
   "execution_count": 6,
   "id": "18945831-14b6-43f9-a675-9552706d5563",
   "metadata": {},
   "outputs": [],
   "source": [
    "Kyoto_Gases = pd.merge(Kyoto_Gases,Model_Scenario,on = ['Model','Scenario'],how = 'inner')"
   ]
  },
  {
   "cell_type": "code",
   "execution_count": null,
   "id": "ee70742b-79c9-4904-97c3-cab96fbef38a",
   "metadata": {},
   "outputs": [],
   "source": [
    "Variables.append(Kyoto_Gases)\n",
    "#Variables [CarbonSequestration,FinalEnergy_Liquid,PrimaryEnergy_Coal,PrimaryEnergy_Gas,PrimaryEnergy_Oil,PrimaryEnergy,\n",
    "#SecondaryEnergy_Gas,FinalEnergy_Solid,Kyoto_Gases]\n",
    "data_num = Variables[0].shape[0]\n",
    "data_num"
   ]
  },
  {
   "cell_type": "code",
   "execution_count": 8,
   "id": "a8314d0b-f1da-48d1-a839-4a7c57a841a6",
   "metadata": {},
   "outputs": [],
   "source": [
    "#Generate feature matrices, the values of each variable during 2020-2100. 9 time steps, 9 features\n",
    "#data_num is the amount of data\n",
    "X = np.zeros((data_num,9,9))\n",
    "for i in range(len(Variables)):\n",
    "    Variables[i] = Variables[i].iloc[:,3:-1].values\n",
    "for i in range(data_num):\n",
    "    for j in range(9):\n",
    "        for k in range(9):\n",
    "            X[i][j][k] = (Variables[k])[i,j]"
   ]
  },
  {
   "cell_type": "code",
   "execution_count": 9,
   "id": "fd2f9b20-4f00-41e5-ba85-ae26f74598cc",
   "metadata": {},
   "outputs": [],
   "source": [
    "Y = Kyoto_Gases['Category'].values"
   ]
  },
  {
   "cell_type": "code",
   "execution_count": 10,
   "id": "c76480dc-8a31-4ba3-8c5b-dfe7af5796af",
   "metadata": {},
   "outputs": [],
   "source": [
    "#Separate datasets by category. But the training process does not distinguish between categories like VAE\n",
    "C1234_DataSet = X[Y == 0]\n",
    "C56_DataSet = X[Y == 1]\n",
    "C78_DataSet = X[Y == 2]"
   ]
  },
  {
   "cell_type": "code",
   "execution_count": 11,
   "id": "b1bcd6ed-f873-45a5-80cd-3164091bcf36",
   "metadata": {},
   "outputs": [],
   "source": [
    "#Set problem parameters\n",
    "latent_dim = 36\n",
    "output_dim = 3\n",
    "feature_dim = 9\n",
    "seq_len = 9\n",
    "batch_size = 100\n",
    "generator_in_channels = latent_dim + output_dim\n",
    "discriminator_in_channels = feature_dim + output_dim"
   ]
  },
  {
   "cell_type": "code",
   "execution_count": 12,
   "id": "f669c962-003d-40d4-8136-3086c45a626c",
   "metadata": {},
   "outputs": [],
   "source": [
    "#Standardize the data and compress it to (0, 1).\n",
    "scaler = tsgm.utils.TSFeatureWiseScaler((0,1))\n",
    "X_train = scaler.fit_transform(X)\n",
    "Y_train = keras.utils.to_categorical(Y, 3)\n",
    "\n",
    "X_train = X_train.astype(np.float32)\n",
    "Y_train = Y_train.astype(np.float32)\n",
    "\n",
    "dataset = tf.data.Dataset.from_tensor_slices((X_train, Y_train))\n",
    "dataset = dataset.shuffle(buffer_size=1024).batch(batch_size)"
   ]
  },
  {
   "cell_type": "code",
   "execution_count": 13,
   "id": "73ab03aa-380c-43a4-9f2e-9d96ef4e8763",
   "metadata": {},
   "outputs": [],
   "source": [
    "architecture = tsgm.models.architectures.cGAN_LSTMnArchitecture(\n",
    "    seq_len=seq_len, feat_dim=feature_dim,\n",
    "    latent_dim=latent_dim, output_dim=output_dim)\n",
    "discriminator, generator = architecture._discriminator, architecture._generator"
   ]
  },
  {
   "cell_type": "code",
   "execution_count": null,
   "id": "9822a72f-98c4-4ede-9246-ba55362d717a",
   "metadata": {},
   "outputs": [],
   "source": [
    "#Define an optimization strategy\n",
    "lr_schedule = keras.optimizers.schedules.ExponentialDecay(\n",
    "    initial_learning_rate=1e-3,#\n",
    "    decay_steps=200,#200\n",
    "    decay_rate=0.95)#0.95\n",
    "\n",
    "cond_gan = tsgm.models.cgan.ConditionalGAN(\n",
    "    discriminator=discriminator, generator=generator, latent_dim=latent_dim\n",
    ")\n",
    "cond_gan.compile(\n",
    "    d_optimizer=keras.optimizers.Adam(lr_schedule),\n",
    "    g_optimizer=keras.optimizers.Adam(lr_schedule),\n",
    "    loss_fn=keras.losses.BinaryCrossentropy(),\n",
    ")\n",
    "cond_gan.fit(dataset, epochs=1200)"
   ]
  },
  {
   "cell_type": "code",
   "execution_count": null,
   "id": "044498d8-e9c0-4472-9f79-78128f1a4777",
   "metadata": {},
   "outputs": [],
   "source": [
    "#Set Global Random Seed\n",
    "np.random.seed(8)\n",
    "Gen_Labels = np.zeros(3000)\n",
    "Gen_Labels[1000:2000] = 1\n",
    "Gen_Labels[2000:] = 2\n",
    "Gen_Labels.astype(np.int32)"
   ]
  },
  {
   "cell_type": "code",
   "execution_count": 16,
   "id": "a2f705d7-140d-4092-b6e5-705895b0a71f",
   "metadata": {},
   "outputs": [],
   "source": [
    "#Generate data using generative models (1000 for each class)\n",
    "#Subsequent random forest models partially refer to \"RCGAN Random forest.ipynb\"\n",
    "z = np.concatenate([np.random.randn(3000,36),keras.utils.to_categorical(Gen_Labels,3)],axis=1)\n",
    "Gen_Data = generator(z)\n",
    "Gen_Data = Gen_Data.numpy()\n",
    "Gen_Data = scaler.inverse_transform(Gen_Data)"
   ]
  },
  {
   "cell_type": "code",
   "execution_count": 17,
   "id": "1d44f8fd-06a7-4209-8f01-6064b9428ed8",
   "metadata": {},
   "outputs": [],
   "source": [
    "from sklearn.ensemble import RandomForestClassifier\n",
    "from sklearn.model_selection import train_test_split,GridSearchCV\n",
    "from sklearn.metrics import accuracy_score\n",
    "from sklearn.metrics import classification_report"
   ]
  },
  {
   "cell_type": "code",
   "execution_count": 18,
   "id": "2a9a0ad0-51ad-428a-8a24-51404b2afae7",
   "metadata": {},
   "outputs": [],
   "source": [
    "#Compute the cumulative value of the eight input variables as a feature of the real dataset\n",
    "features_names = ['CarbonSequestration','FinalEnergy_Liquid','PrimaryEnergy_Coal','PrimaryEnergy_Gas','PrimaryEnergy_Oil','PrimaryEnergy',\n",
    "                 'SecondaryEnergy_Gas','FinalEnergy_Solids']\n",
    "Real_Data_Sum = np.zeros((data_num,8))\n",
    "for i in range(data_num):#data_num :amount of data\n",
    "    for j in range(8):#8 ：feature dimension\n",
    "        for k in range(8):#time step\n",
    "            Real_Data_Sum[i][j] += (X[i,k,j] + X[i,k+1,j]) * 5"
   ]
  },
  {
   "cell_type": "code",
   "execution_count": 19,
   "id": "3bacc185-a702-4793-8c91-11b72b02a341",
   "metadata": {},
   "outputs": [],
   "source": [
    "Real_DataSet = pd.DataFrame(Real_Data_Sum,columns=features_names)"
   ]
  },
  {
   "cell_type": "code",
   "execution_count": 20,
   "id": "b8122295-5fe0-43a9-aed7-bb53992a5142",
   "metadata": {},
   "outputs": [],
   "source": [
    "#Construct the feature matrix of the feature cumulative values of the generated dataset\n",
    "Gen_Data_Sum = np.zeros((3000,8))\n",
    "for i in range(3000):#3000 :amount of data\n",
    "    for j in range(8):#8 ：feature dimension\n",
    "        for k in range(8):#time step\n",
    "            Gen_Data_Sum[i][j] += (Gen_Data[i,k,j] + Gen_Data[i,k+1,j]) * 5"
   ]
  },
  {
   "cell_type": "code",
   "execution_count": 21,
   "id": "d9199da8-1016-4ee1-86fe-6bdfc3929d6f",
   "metadata": {},
   "outputs": [],
   "source": [
    "Gen_DataSet = pd.DataFrame(Gen_Data_Sum,columns=features_names)"
   ]
  },
  {
   "cell_type": "code",
   "execution_count": 22,
   "id": "f046a566-0e31-49d2-9623-080a59b97b45",
   "metadata": {},
   "outputs": [],
   "source": [
    "#First train the model with real datasets to predict the generated data.Cross-validation using grid search\n",
    "R_G = RandomForestClassifier(random_state=42)\n",
    "parameters_1 = {\n",
    "    'n_estimators':[10,100,200,500,1000],\n",
    "    'max_depth':[6,8,10,12,14,16],\n",
    "    'min_samples_split':[3,4,5,6]\n",
    "}"
   ]
  },
  {
   "cell_type": "code",
   "execution_count": 23,
   "id": "4a9427a6-f17b-491f-86e7-5571473d02dc",
   "metadata": {},
   "outputs": [],
   "source": [
    "clf_RG = GridSearchCV(R_G,parameters_1,cv=3,n_jobs=-1,verbose=2)"
   ]
  },
  {
   "cell_type": "code",
   "execution_count": null,
   "id": "8c2f0cba-9c82-47c8-8c3f-a18665379880",
   "metadata": {},
   "outputs": [],
   "source": [
    "clf_RG.fit(Real_DataSet,Y)"
   ]
  },
  {
   "cell_type": "code",
   "execution_count": null,
   "id": "38d86eae-19aa-4c0a-a40c-505174a8ea22",
   "metadata": {},
   "outputs": [],
   "source": [
    "print('Best parameters found:')\n",
    "print(clf_RG.best_params_)"
   ]
  },
  {
   "cell_type": "code",
   "execution_count": null,
   "id": "9ea7619e-bcf1-41a0-931c-79ebce0b305f",
   "metadata": {},
   "outputs": [],
   "source": [
    "y_pred = clf_RG.predict(Real_DataSet)\n",
    "print(f\"Test results on the training dataset：\")\n",
    "print(classification_report(Y,y_pred,target_names=['C1234','C56','C78']))"
   ]
  },
  {
   "cell_type": "code",
   "execution_count": null,
   "id": "ade7d36c-7cdf-4993-bd1f-8e596fb2c764",
   "metadata": {},
   "outputs": [],
   "source": [
    "y_pred = clf_RG.predict(Gen_DataSet)\n",
    "print(f\"Test results on the test set：\")\n",
    "print(classification_report(Gen_Labels,y_pred,target_names=['C1234','C56','C78']))"
   ]
  },
  {
   "cell_type": "code",
   "execution_count": 28,
   "id": "e0711433-c2cf-481b-91f8-86811f8a7892",
   "metadata": {},
   "outputs": [],
   "source": [
    "#Use the generated dataset to train models to predict real data\n",
    "G_R = RandomForestClassifier(random_state=42)\n",
    "parameters_2 = {\n",
    "    'n_estimators':[10,100,200,500,1000],\n",
    "    'max_depth':[6,8,10,12,14,16],\n",
    "    'min_samples_split':[3,4,5,6]\n",
    "}"
   ]
  },
  {
   "cell_type": "code",
   "execution_count": 29,
   "id": "9dd5c7ea-973d-43b1-bc47-0bec4219f4ec",
   "metadata": {},
   "outputs": [],
   "source": [
    "clf_GR = GridSearchCV(G_R,parameters_2,cv=3,n_jobs=-1,verbose=2)"
   ]
  },
  {
   "cell_type": "code",
   "execution_count": null,
   "id": "d15f1f39-9a65-49a0-87b5-298afa1e18e5",
   "metadata": {},
   "outputs": [],
   "source": [
    "clf_GR.fit(Gen_DataSet,Gen_Labels)"
   ]
  },
  {
   "cell_type": "code",
   "execution_count": null,
   "id": "1b4c850a-3868-43c1-a8af-9a625093920a",
   "metadata": {},
   "outputs": [],
   "source": [
    "print('Best parameters found:')\n",
    "print(clf_GR.best_params_)"
   ]
  },
  {
   "cell_type": "code",
   "execution_count": null,
   "id": "79c65288-904f-4f31-8225-02f71eb33529",
   "metadata": {},
   "outputs": [],
   "source": [
    "y_pred = clf_GR.predict(Gen_DataSet)\n",
    "print(f\"Test results on the training dataset：\")\n",
    "print(classification_report(Gen_Labels,y_pred,target_names=['C1234','C56','C78']))"
   ]
  },
  {
   "cell_type": "code",
   "execution_count": null,
   "id": "9b5e10cd-aca3-44e3-868b-3ccfee6334d3",
   "metadata": {},
   "outputs": [],
   "source": [
    "y_pred = clf_GR.predict(Real_DataSet)\n",
    "print(f\"Test results on the test set：\")\n",
    "print(classification_report(Y,y_pred,target_names=['C1234','C56','C78']))"
   ]
  },
  {
   "cell_type": "code",
   "execution_count": 34,
   "id": "55d5c65a-3ffd-4a97-8464-a19fda1544b5",
   "metadata": {},
   "outputs": [],
   "source": [
    "generator.save_weights('Policy-Top9-RCGAN_generator.h5')\n",
    "discriminator.save_weights('Policy-Top9-RCGAN_discriminator.h5')"
   ]
  },
  {
   "cell_type": "code",
   "execution_count": null,
   "id": "c5838010-9c7c-4325-8e5d-df5a714bba1f",
   "metadata": {},
   "outputs": [],
   "source": []
  },
  {
   "cell_type": "code",
   "execution_count": null,
   "id": "65321640-1732-42b4-a47d-80b8bb386acc",
   "metadata": {},
   "outputs": [],
   "source": []
  },
  {
   "cell_type": "code",
   "execution_count": null,
   "id": "c8736ebf-1f5f-4852-9802-c83f3fc3a9fc",
   "metadata": {},
   "outputs": [],
   "source": []
  },
  {
   "cell_type": "code",
   "execution_count": null,
   "id": "bb3cdadf-f564-4059-885d-b2e1e754b91e",
   "metadata": {},
   "outputs": [],
   "source": []
  },
  {
   "cell_type": "code",
   "execution_count": null,
   "id": "cd8802ac-e2e4-405c-91e7-ad55559139e4",
   "metadata": {},
   "outputs": [],
   "source": []
  },
  {
   "cell_type": "code",
   "execution_count": null,
   "id": "4a9b6a07-0e65-403f-aec7-a23b176060e7",
   "metadata": {},
   "outputs": [],
   "source": []
  },
  {
   "cell_type": "code",
   "execution_count": null,
   "id": "04313d36-d6a6-4e24-8420-ad94646145f1",
   "metadata": {},
   "outputs": [],
   "source": []
  },
  {
   "cell_type": "code",
   "execution_count": null,
   "id": "9b8aeafc-513a-4ffd-a06b-df071fde8ee5",
   "metadata": {},
   "outputs": [],
   "source": []
  },
  {
   "cell_type": "code",
   "execution_count": null,
   "id": "5d9a8f67-3d2c-4732-bbbe-1a7c64cacb38",
   "metadata": {},
   "outputs": [],
   "source": []
  },
  {
   "cell_type": "code",
   "execution_count": null,
   "id": "d6deb705-ea08-45da-97d4-0753e821ca65",
   "metadata": {},
   "outputs": [],
   "source": []
  },
  {
   "cell_type": "code",
   "execution_count": null,
   "id": "5f5f49c8-d0dc-4ce8-bfe6-e7523f287173",
   "metadata": {},
   "outputs": [],
   "source": []
  },
  {
   "cell_type": "code",
   "execution_count": null,
   "id": "b973ec3a-5474-4a7d-9648-3f45696fbcf4",
   "metadata": {},
   "outputs": [],
   "source": []
  },
  {
   "cell_type": "code",
   "execution_count": null,
   "id": "e5cfb85b-0912-40ff-8c76-cd2b5683ef39",
   "metadata": {},
   "outputs": [],
   "source": []
  },
  {
   "cell_type": "code",
   "execution_count": null,
   "id": "323ac901-5adb-4167-b752-0177469aa1a7",
   "metadata": {},
   "outputs": [],
   "source": []
  },
  {
   "cell_type": "code",
   "execution_count": null,
   "id": "74455790-a08f-4e2c-a1fe-71c04cfd2dca",
   "metadata": {},
   "outputs": [],
   "source": []
  },
  {
   "cell_type": "code",
   "execution_count": null,
   "id": "640d6b93-6999-4f28-96a1-b7e13da2dc75",
   "metadata": {},
   "outputs": [],
   "source": []
  },
  {
   "cell_type": "code",
   "execution_count": null,
   "id": "4cd4d626-4ecb-4f0d-8083-3d7b54810684",
   "metadata": {},
   "outputs": [],
   "source": []
  },
  {
   "cell_type": "code",
   "execution_count": null,
   "id": "8cd30501-7689-48bf-ba44-136e18088a86",
   "metadata": {},
   "outputs": [],
   "source": []
  },
  {
   "cell_type": "code",
   "execution_count": null,
   "id": "7b9e6487-9e36-403e-a78f-1837f1bb3786",
   "metadata": {},
   "outputs": [],
   "source": []
  },
  {
   "cell_type": "code",
   "execution_count": null,
   "id": "cad76c41-2144-4881-8cfa-c3bece1a0695",
   "metadata": {},
   "outputs": [],
   "source": []
  },
  {
   "cell_type": "code",
   "execution_count": null,
   "id": "448eea94-ece0-4605-bc4c-64a352ca85a7",
   "metadata": {},
   "outputs": [],
   "source": []
  },
  {
   "cell_type": "code",
   "execution_count": null,
   "id": "40fa9880-a9c4-4a0d-9ebc-11c7aa24c89b",
   "metadata": {},
   "outputs": [],
   "source": []
  },
  {
   "cell_type": "code",
   "execution_count": null,
   "id": "27e891ff-b4c5-4ff6-8ee1-23f58cec95a3",
   "metadata": {},
   "outputs": [],
   "source": []
  },
  {
   "cell_type": "code",
   "execution_count": null,
   "id": "090bec29-cac9-4921-abc4-4285a5b6a37a",
   "metadata": {},
   "outputs": [],
   "source": []
  },
  {
   "cell_type": "code",
   "execution_count": null,
   "id": "31c01685-a521-4bd6-aa46-70fd06494862",
   "metadata": {},
   "outputs": [],
   "source": []
  },
  {
   "cell_type": "code",
   "execution_count": null,
   "id": "14be8534-2538-4981-99cf-7a0c91e2e281",
   "metadata": {},
   "outputs": [],
   "source": []
  },
  {
   "cell_type": "code",
   "execution_count": null,
   "id": "bfd02451-9aad-4f67-bc39-2e0a97c879d1",
   "metadata": {},
   "outputs": [],
   "source": []
  },
  {
   "cell_type": "code",
   "execution_count": null,
   "id": "b038befb-109b-4796-92d7-dc273b7f9450",
   "metadata": {},
   "outputs": [],
   "source": []
  },
  {
   "cell_type": "code",
   "execution_count": null,
   "id": "a5ef5423-67db-4689-a01b-2bda9a014aa4",
   "metadata": {},
   "outputs": [],
   "source": []
  },
  {
   "cell_type": "code",
   "execution_count": null,
   "id": "40d0c7c3-1564-416c-91e9-e27ba602b19e",
   "metadata": {},
   "outputs": [],
   "source": []
  },
  {
   "cell_type": "code",
   "execution_count": null,
   "id": "8d97fa9b-4a96-4129-b391-16489fdd71a8",
   "metadata": {},
   "outputs": [],
   "source": []
  },
  {
   "cell_type": "code",
   "execution_count": null,
   "id": "698a1a60-512c-4dec-8c81-53ac03a7c951",
   "metadata": {},
   "outputs": [],
   "source": []
  },
  {
   "cell_type": "code",
   "execution_count": null,
   "id": "a342c34b-999b-4151-89cf-0c1af2b76f15",
   "metadata": {},
   "outputs": [],
   "source": []
  },
  {
   "cell_type": "code",
   "execution_count": null,
   "id": "2582995d-3b06-48a3-bef0-06d00070464c",
   "metadata": {},
   "outputs": [],
   "source": []
  },
  {
   "cell_type": "code",
   "execution_count": null,
   "id": "d30bf0b4-f22f-4afb-9f57-08f46789e345",
   "metadata": {},
   "outputs": [],
   "source": []
  },
  {
   "cell_type": "code",
   "execution_count": null,
   "id": "52d4ff52-6c5a-4a5e-b99f-0fe85fbe9fb6",
   "metadata": {},
   "outputs": [],
   "source": []
  }
 ],
 "metadata": {
  "kernelspec": {
   "display_name": "Python 3 (ipykernel)",
   "language": "python",
   "name": "python3"
  },
  "language_info": {
   "codemirror_mode": {
    "name": "ipython",
    "version": 3
   },
   "file_extension": ".py",
   "mimetype": "text/x-python",
   "name": "python",
   "nbconvert_exporter": "python",
   "pygments_lexer": "ipython3",
   "version": "3.8.20"
  }
 },
 "nbformat": 4,
 "nbformat_minor": 5
}
