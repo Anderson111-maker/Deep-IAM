{
 "cells": [
  {
   "cell_type": "code",
   "execution_count": null,
   "id": "52974998-8574-4a40-972a-3a6e1adb4ea3",
   "metadata": {},
   "outputs": [],
   "source": [
    "import pandas as pd\n",
    "import numpy as np\n",
    "import shap\n",
    "import matplotlib.pyplot as plt"
   ]
  },
  {
   "cell_type": "code",
   "execution_count": null,
   "id": "c71325a7-a1c1-47fe-a347-1eef92ca5ada",
   "metadata": {},
   "outputs": [],
   "source": [
    "#Save Kyoto_Gases data (2020-2100), consider the case of C1-C8 for simplicity.\n",
    "Kyoto_Gases = pd.read_csv('Kyoto Gases.csv')\n",
    "X_Emissions = Kyoto_Gases\n",
    "X_Emissions = X_Emissions[X_Emissions['Category'].isin(['C1','C2','C3','C4','C5','C6','C7','C8'])]\n",
    "X_Emissions.reset_index(drop=True,inplace=True)\n",
    "mapping = {'C1':1,'C2':2,'C3':3,'C4':4,'C5':5,'C6':6,'C7':7,'C8':8}\n",
    "X_Emissions['Category'].replace(mapping,inplace=True)\n",
    "X_Emissions.drop(columns=['Category_name'],inplace=True)"
   ]
  },
  {
   "cell_type": "code",
   "execution_count": 3,
   "id": "c482189c-18e4-4e8b-9cf3-0feca5ceacb4",
   "metadata": {},
   "outputs": [],
   "source": [
    "#Merge models according to a uniform standard\n",
    "MESSAGEix = list(set([i for i in X_Emissions['Model'] if  'MESSAGE' in i]))\n",
    "WITCH = list(set([i for i in X_Emissions['Model'] if  'WITCH' in i]))\n",
    "COFFEE = ['COFFEE 1.1']\n",
    "REMIND = list(set([i for i in X_Emissions['Model'] if  'REM' in i]))\n",
    "TIA = list(set([i for i in X_Emissions['Model'] if  'TIAM-ECN' in i]))\n",
    "POL = list(set([i for i in X_Emissions['Model'] if  'POL' in i]))\n",
    "AIM = list(set([i for i in X_Emissions['Model'] if  'AIM' in i]))\n",
    "IMA = list(set([i for i in X_Emissions['Model'] if  'IMAGE' in i]))\n",
    "GCA = list(set([i for i in X_Emissions['Model'] if  'GCA' in i]))"
   ]
  },
  {
   "cell_type": "code",
   "execution_count": 4,
   "id": "dcbcb016-ce00-45aa-82df-abb7fdf194fe",
   "metadata": {},
   "outputs": [],
   "source": [
    "Model = [MESSAGEix,WITCH,COFFEE,REMIND,TIA,POL,AIM,IMA,GCA]\n",
    "Model_names = ['MESSAGEix','WITCH','COFFEE','REMIND','TIA','POL','AIM','IMA','GCA']\n",
    "Model_List = []\n",
    "for i in Model:\n",
    "    Model_List += i"
   ]
  },
  {
   "cell_type": "code",
   "execution_count": 5,
   "id": "9a788b76-bb40-46c5-9647-80eb62ef3e5b",
   "metadata": {},
   "outputs": [],
   "source": [
    "X_Emissions = X_Emissions[X_Emissions['Model'].isin(Model_List)]"
   ]
  },
  {
   "cell_type": "code",
   "execution_count": 6,
   "id": "de2e2044-0829-4185-8a29-1b8945739b6f",
   "metadata": {},
   "outputs": [],
   "source": [
    "mapping = {j:Model_names[i] for i in range(len(Model)) for j in Model[i]}\n",
    "X_Emissions['Model'].replace(mapping,inplace=True)\n",
    "X_Emissions.reset_index(drop=True,inplace=True)"
   ]
  },
  {
   "cell_type": "code",
   "execution_count": 7,
   "id": "01bb47c0-0f40-41c6-881c-310b5780ca1d",
   "metadata": {},
   "outputs": [],
   "source": [
    "#Load a dataset of individual variables\n",
    "CarbonSequestration = pd.read_csv('Carbon_Sequestration_CCS_imputed.csv')\n",
    "FinalEnergy_Gase = pd.read_csv('Final Energy_Gases.csv')\n",
    "FinalEnergy_Liquid = pd.read_csv('Final Energy_Liquids.csv')\n",
    "FinalEnergy_Solid = pd.read_csv('Final Energy_Solids.csv')\n",
    "FinalEnergy = pd.read_csv('Final_Energy_ts_imputed.csv')\n",
    "PrimaryEnergy_Gas = pd.read_csv('Primary Energy_Gas.csv')\n",
    "PrimaryEnergy_Oil = pd.read_csv('Primary Energy_Oil.csv')\n",
    "PrimaryEnergy_Solar = pd.read_csv('Primary Energy_Solar.csv')\n",
    "PrimaryEnergy_Coal = pd.read_csv('PrimaryEnergy_Coal.csv')\n",
    "PrimaryEnergy = pd.read_csv('PrimaryEnergy_imputed.csv')\n",
    "SecondaryEnergy_Gas = pd.read_csv('Secondary Energy_Gases.csv')\n",
    "SecondaryEnergy_Liquid = pd.read_csv('Secondary Energy_Liquids.csv')\n",
    "SecondaryEnergy_Electricity = pd.read_csv('SecondaryEnergyElectricity_imputed.csv')"
   ]
  },
  {
   "cell_type": "code",
   "execution_count": 8,
   "id": "ae5745ff-ccd8-48ae-9bd8-d17286006ed6",
   "metadata": {},
   "outputs": [],
   "source": [
    "#Get the intersection of the models and scenarios contained in each variable\n",
    "baseline = X_Emissions[['Model','Scenario']]\n",
    "Variables = [CarbonSequestration,FinalEnergy,FinalEnergy_Gase,FinalEnergy_Liquid,FinalEnergy_Solid,PrimaryEnergy,PrimaryEnergy_Coal,PrimaryEnergy_Gas,PrimaryEnergy_Oil,PrimaryEnergy_Solar,SecondaryEnergy_Electricity,SecondaryEnergy_Gas,SecondaryEnergy_Liquid]\n",
    "for i in range(len(Variables)):\n",
    "    Variables[i]['Model'].replace(mapping,inplace=True)\n",
    "for variable in Variables:\n",
    "    baseline = pd.merge(baseline,variable[['Model','Scenario']],on=['Model','Scenario'],how='inner')"
   ]
  },
  {
   "cell_type": "code",
   "execution_count": 9,
   "id": "408ce340-a945-4589-9747-e497bc30a2c7",
   "metadata": {},
   "outputs": [],
   "source": [
    "for i in range(len(Variables)):\n",
    "     Variables[i] = pd.merge(baseline,Variables[i],on=['Model','Scenario'],how='inner')"
   ]
  },
  {
   "cell_type": "code",
   "execution_count": 10,
   "id": "3d3b5743-8349-4dbf-ae90-f630ab33e430",
   "metadata": {},
   "outputs": [],
   "source": [
    "X_Emissions = pd.merge(X_Emissions,baseline,on = ['Model','Scenario'],how = 'inner')"
   ]
  },
  {
   "cell_type": "code",
   "execution_count": 11,
   "id": "6efe306b-8b8a-43d7-a48d-65ce852aa954",
   "metadata": {},
   "outputs": [],
   "source": [
    "Features = np.zeros((996,13))#Feature_Sum:13 Features Accumulation from 2010 to 2100\n",
    "for i in range(996):\n",
    "    for j in range(len(Variables)):\n",
    "        X = Variables[j].iloc[:,2:-2].values\n",
    "        for k in range(9):\n",
    "            Features[i][j] += (X[i][k] + X[i][k+1]) * 5"
   ]
  },
  {
   "cell_type": "code",
   "execution_count": 12,
   "id": "b704fe52-4b1b-4175-b82f-4bbda62f57ad",
   "metadata": {},
   "outputs": [],
   "source": [
    "Emissions = np.zeros(X_Emissions.shape[0])#Kyoto_Gases Accumulation from 2020 to 2100\n",
    "X = X_Emissions.iloc[:,3:-1].values\n",
    "for i in range(X.shape[0]):\n",
    "    for k in range(X.shape[1] - 1):\n",
    "        Emissions[i] += (X[i][k] + X[i][k+1]) * 5"
   ]
  },
  {
   "cell_type": "code",
   "execution_count": 13,
   "id": "36ad5811-0cb6-4278-9ff4-908dc33d6422",
   "metadata": {},
   "outputs": [],
   "source": [
    "columns_names = ['CarbonSequestration','FinalEnergy','FinalEnergy_Gase','FinalEnergy_Liquid','FinalEnergy_Solid','PrimaryEnergy','PrimaryEnergy_Coal','PrimaryEnergy_Gas','PrimaryEnergy_Oil','PrimaryEnergy_Solar','SecondaryEnergy_Electricity','SecondaryEnergy_Gas','SecondaryEnergy_Liquid']\n",
    "DataSet = pd.DataFrame(Features,columns = columns_names)\n",
    "DataSet['Emissions'] = Emissions"
   ]
  },
  {
   "cell_type": "code",
   "execution_count": 14,
   "id": "3ab7cd74-5c5a-47ed-a6e4-cc49fcc3cc50",
   "metadata": {},
   "outputs": [],
   "source": [
    "from sklearn.preprocessing import StandardScaler\n",
    "from sklearn.model_selection import train_test_split,GridSearchCV\n",
    "from sklearn.metrics import mean_squared_error\n",
    "import xgboost as xgb\n",
    "scaler = StandardScaler()#Standardize the data\n",
    "DataSet = pd.DataFrame(scaler.fit_transform(DataSet), columns=DataSet.columns)"
   ]
  },
  {
   "cell_type": "code",
   "execution_count": 15,
   "id": "4852d78b-6207-4455-8311-e10f01c5ca96",
   "metadata": {},
   "outputs": [],
   "source": [
    "#partition dataset\n",
    "X_train, X_test, y_train, y_test = train_test_split(DataSet.drop(columns=['Emissions']), DataSet['Emissions'], test_size=0.2, random_state=42)"
   ]
  },
  {
   "cell_type": "code",
   "execution_count": null,
   "id": "42d0c248-1856-44f1-8802-c48084e9b4c6",
   "metadata": {},
   "outputs": [],
   "source": [
    "#Cross-validation using grid search\n",
    "model = xgb.XGBRegressor(objective='reg:squarederror',random_state = 5)\n",
    "parameters = {\n",
    "    'n_estimators':[10,100,200,500,1000],\n",
    "    'max_depth':[6,8,10,12,14,16],\n",
    "    'reg_alpha':[0.01,0.1,0.2,0.25]\n",
    "}\n",
    "grid_search = GridSearchCV(model,param_grid=parameters,cv=5,n_jobs=-1,verbose=2,scoring='r2')\n",
    "grid_search.fit(X_train,y_train)"
   ]
  },
  {
   "cell_type": "code",
   "execution_count": null,
   "id": "d8c46d47-29e5-413b-aa9e-ff32a66363c3",
   "metadata": {},
   "outputs": [],
   "source": [
    "print('Best parameters found:')\n",
    "print(grid_search.best_params_)"
   ]
  },
  {
   "cell_type": "code",
   "execution_count": null,
   "id": "58337e56-e77d-405d-8db8-f5434090af3e",
   "metadata": {},
   "outputs": [],
   "source": [
    "model = xgb.XGBRegressor(objective='reg:squarederror',max_depth = 6,reg_alpha = 0.2,random_state = 5,n_estimators = 100)\n",
    "model.fit(X_train, y_train)\n",
    "y_pred = model.predict(X_test)\n",
    "mse = mean_squared_error(y_test, y_pred)\n",
    "print(\"Mean squared error on test set：\", mse)"
   ]
  },
  {
   "cell_type": "code",
   "execution_count": null,
   "id": "10a26688-6366-4cd9-adb5-503b87beacba",
   "metadata": {},
   "outputs": [],
   "source": [
    "y_pred = model.predict(X_train)\n",
    "mse = mean_squared_error(y_train, y_pred)\n",
    "print(\"Mean squared error on the training dataset：\", mse)"
   ]
  },
  {
   "cell_type": "code",
   "execution_count": 20,
   "id": "2fef1ef8-7f60-424d-a84f-417aec6c01c2",
   "metadata": {},
   "outputs": [],
   "source": [
    "explainer = shap.Explainer(model, X_train)\n",
    "shap_values = explainer(DataSet.drop(columns=['Emissions']))"
   ]
  },
  {
   "cell_type": "code",
   "execution_count": null,
   "id": "d8b8c56e-9b45-4c55-9621-3255600f90db",
   "metadata": {},
   "outputs": [],
   "source": [
    "shap.plots.bar(shap_values,max_display=14,show=False)\n",
    "plt.savefig('Figure S5(a).pdf', format='pdf', dpi=600, bbox_inches='tight')"
   ]
  },
  {
   "cell_type": "code",
   "execution_count": null,
   "id": "dd4ba7ab-21c7-47cf-8052-8a25414d7738",
   "metadata": {},
   "outputs": [],
   "source": [
    "shap.plots.beeswarm(shap_values, max_display=20,show=False)\n",
    "plt.savefig('Figure S6(a).pdf', format='pdf', dpi=600, bbox_inches='tight')"
   ]
  },
  {
   "cell_type": "code",
   "execution_count": null,
   "id": "03ed56d7-6326-4e8d-8e87-3d3b8116d3e3",
   "metadata": {},
   "outputs": [],
   "source": []
  },
  {
   "cell_type": "code",
   "execution_count": null,
   "id": "5aec5768-3824-46ff-be89-6c7cf9cc03ac",
   "metadata": {},
   "outputs": [],
   "source": []
  },
  {
   "cell_type": "code",
   "execution_count": null,
   "id": "ae996755-be12-4505-9b51-1c22e1c45b55",
   "metadata": {},
   "outputs": [],
   "source": []
  }
 ],
 "metadata": {
  "kernelspec": {
   "display_name": "Python 3 (ipykernel)",
   "language": "python",
   "name": "python3"
  },
  "language_info": {
   "codemirror_mode": {
    "name": "ipython",
    "version": 3
   },
   "file_extension": ".py",
   "mimetype": "text/x-python",
   "name": "python",
   "nbconvert_exporter": "python",
   "pygments_lexer": "ipython3",
   "version": "3.8.20"
  }
 },
 "nbformat": 4,
 "nbformat_minor": 5
}
